{
 "cells": [
  {
   "cell_type": "markdown",
   "id": "aEvKvP2GRsrU",
   "metadata": {
    "id": "aEvKvP2GRsrU"
   },
   "source": [
    "# <font color = 'Purple'>**Multilabel Generation with QWEN.2-3B-instruction-tuned**\n",
    "\n",
    "The purpose of this notebook is to finetune the **QWEN** model for emotion detection on a small dataset.\n",
    "\n",
    "- Based on my past experiences using both RNN and BERT models, I plan on using a similar strategy to account for the class imbalance present in this dataset.\n",
    "\n",
    "- This will be done using **K-fold stratified sampling** to create my splits such that the class distribution represents that of the training set.\n",
    "\n",
    "- Instead of modifying the architecture by replacing the language head with a classification head, I will **retain the language head** of the instruction-tuned model and use it to generate the emotion labels directly.\n",
    "\n",
    "- The training will follow a standard model training process as shown below.\n",
    "\n",
    "---\n",
    "\n",
    "## <font color = 'purple'>**Training Plan**\n",
    "\n",
    "1. **Set the Environment**\n",
    "\n",
    "2. **Load the Dataset**\n",
    "\n",
    "3. **Manipulate the Splits of the Dataset**\n",
    "   - Use stratified K-fold sampling to maintain class balance in splits.\n",
    "\n",
    "4. **Load the Pretrained Tokenizer**\n",
    "\n",
    "5. **Create a Function for the Tokenizer**\n",
    "  - 5.1 Filtering Long Sequences\n",
    "  - 5.2 Data Collator\n",
    "\n",
    "6. **Train the Model**\n",
    "   - 6.1. Download the model\n",
    "   - 6.2. PEFT Setup\n",
    "   - 6.3. Define Training Arguments\n",
    "   - 6.4. Instantiate the Trainer\n",
    "   - 6.5. Setup Weights & Biases (WANDB)\n",
    "   - 6.6. Training and Validation\n",
    "   - 6.7. Generate labels using the **instruction-tuned language head**.\n",
    "\n",
    "7. **Model Inference**"
   ]
  },
  {
   "cell_type": "markdown",
   "id": "595a3fed",
   "metadata": {
    "id": "595a3fed"
   },
   "source": [
    "# <font color='purple'>**1. Set the Environment**"
   ]
  },
  {
   "cell_type": "markdown",
   "id": "A98P88C6T85t",
   "metadata": {
    "id": "A98P88C6T85t"
   },
   "source": [
    "<font color = 'purple'>***Setting this up for RunPod***"
   ]
  },
  {
   "cell_type": "code",
   "execution_count": 1,
   "id": "GQAPC5zxT0yw",
   "metadata": {
    "id": "GQAPC5zxT0yw"
   },
   "outputs": [
    {
     "name": "stdout",
     "output_type": "stream",
     "text": [
      "Installing required libraries...\n",
      "Base path is set to: /workspace\n",
      "HF_HOME set to: /sys/fs/cgroup/huggingface_cache\n",
      "TORCH_HOME set to: /sys/fs/cgroup/torch_cache\n"
     ]
    }
   ],
   "source": [
    "# Adaptable setup\n",
    "import os\n",
    "\n",
    "# Check if running on Colab or local environment\n",
    "if 'google.colab' in str(get_ipython()):\n",
    "    from google.colab import drive\n",
    "    drive.mount('/content/drive', force_remount=True)\n",
    "    base_path = '/content/drive/MyDrive/Colab Notebooks'\n",
    "    \n",
    "    # Install necessary packages\n",
    "    print(\"Installing required libraries...\")\n",
    "    !pip install transformers evaluate wandb datasets accelerate peft bitsandbytes trl -U -qq\n",
    "    !pip install iterative-stratification -qq\n",
    "\n",
    "else:\n",
    "    base_path = '/workspace'\n",
    "    os.makedirs(base_path, exist_ok=True)\n",
    "\n",
    "    # Install necessary packages\n",
    "    print(\"Installing required libraries...\")\n",
    "    !pip install transformers evaluate wandb datasets accelerate peft bitsandbytes trl -U -qq\n",
    "    !pip install iterative-stratification -qq\n",
    "\n",
    "# Set cache directories for Hugging Face and PyTorch\n",
    "os.environ['HF_HOME'] = '/sys/fs/cgroup/huggingface_cache'\n",
    "os.environ['TORCH_HOME'] = '/sys/fs/cgroup/torch_cache'\n",
    "\n",
    "# Create directories if they do not exist\n",
    "os.makedirs(os.environ['HF_HOME'], exist_ok=True)\n",
    "os.makedirs(os.environ['TORCH_HOME'], exist_ok=True)\n",
    "\n",
    "# Print confirmation\n",
    "print(f\"Base path is set to: {base_path}\")\n",
    "print(\"HF_HOME set to:\", os.environ['HF_HOME'])\n",
    "print(\"TORCH_HOME set to:\", os.environ['TORCH_HOME'])"
   ]
  },
  {
   "cell_type": "code",
   "execution_count": 2,
   "id": "4YWIcRimTEDM",
   "metadata": {
    "id": "4YWIcRimTEDM"
   },
   "outputs": [],
   "source": [
    "# standard data science librraies for data handling and v isualization\n",
    "import matplotlib.pyplot as plt\n",
    "import numpy as np\n",
    "import pandas as pd\n",
    "from sklearn.metrics import confusion_matrix\n",
    "import matplotlib.pyplot as plt\n",
    "import seaborn as sns\n",
    "from pathlib import Path\n",
    "import re\n",
    "import gc\n",
    "import time\n",
    "from typing import Dict, List, Union, Optional, Tuple\n",
    "import json\n",
    "import itertools\n",
    "from datetime import datetime\n",
    "from difflib import get_close_matches\n",
    "import os\n",
    "import sys\n",
    "from dotenv import load_dotenv\n",
    "\n",
    "from sklearn.preprocessing import MultiLabelBinarizer\n",
    "from iterstrat.ml_stratifiers import MultilabelStratifiedKFold\n",
    "from sklearn.model_selection import train_test_split\n",
    "from sklearn.metrics import multilabel_confusion_matrix, precision_score, recall_score, f1_score\n",
    "import joblib\n",
    "\n",
    "import torch\n",
    "import torch.nn as nn\n",
    "import ast\n",
    "from tqdm import tqdm\n",
    "\n",
    "# New libraries introduced in this notebook\n",
    "import evaluate\n",
    "from datasets import load_dataset, DatasetDict, Dataset, ClassLabel\n",
    "from trl import SFTConfig, SFTTrainer, DataCollatorForCompletionOnlyLM\n",
    "from transformers import (\n",
    "    TrainingArguments,\n",
    "    Trainer,\n",
    "    set_seed,\n",
    "    AutoTokenizer,\n",
    "    AutoModelForCausalLM,\n",
    "    DataCollatorForLanguageModeling,\n",
    "    AutoConfig,\n",
    "    pipeline,\n",
    "    BitsAndBytesConfig,\n",
    ")\n",
    "from peft import (\n",
    "    TaskType,\n",
    "    LoraConfig,\n",
    "    prepare_model_for_kbit_training,\n",
    "    get_peft_model,\n",
    ")\n",
    "\n",
    "import wandb\n",
    "from huggingface_hub import login"
   ]
  },
  {
   "cell_type": "code",
   "execution_count": 3,
   "id": "NEseVtEnUMbc",
   "metadata": {
    "id": "NEseVtEnUMbc"
   },
   "outputs": [],
   "source": [
    "%load_ext autoreload\n",
    "%autoreload 2"
   ]
  },
  {
   "cell_type": "markdown",
   "id": "fBCvLo21UirL",
   "metadata": {
    "id": "fBCvLo21UirL"
   },
   "source": [
    "### <font color = 'purple'>***Setting up wandb and hf login for colab and other locations via the .env file***"
   ]
  },
  {
   "cell_type": "code",
   "execution_count": 4,
   "id": "e46a430c-70e2-41d9-a6fc-2e8ff3f9b992",
   "metadata": {},
   "outputs": [],
   "source": [
    "base_folder = Path(base_path)"
   ]
  },
  {
   "cell_type": "code",
   "execution_count": 5,
   "id": "8oxTQBskXjmV",
   "metadata": {
    "id": "8oxTQBskXjmV"
   },
   "outputs": [
    {
     "name": "stderr",
     "output_type": "stream",
     "text": [
      "Note: Environment variable`HF_TOKEN` is set and is the current active token independently from the token you've just configured.\n",
      "Failed to detect the name of this notebook, you can set it manually with the WANDB_NOTEBOOK_NAME environment variable to enable code saving.\n",
      "\u001b[34m\u001b[1mwandb\u001b[0m: Using wandb-core as the SDK backend.  Please refer to https://wandb.me/wandb-core for more information.\n"
     ]
    },
    {
     "name": "stdout",
     "output_type": "stream",
     "text": [
      "Loaded .env file from: /workspace/env\n",
      "✓ Successfully logged in to Hugging Face!\n"
     ]
    },
    {
     "name": "stderr",
     "output_type": "stream",
     "text": [
      "\u001b[34m\u001b[1mwandb\u001b[0m: Currently logged in as: \u001b[33mthe-steven-e\u001b[0m (\u001b[33mthe-steven-e-the-university-of-texas-at-dallas\u001b[0m). Use \u001b[1m`wandb login --relogin`\u001b[0m to force relogin\n",
      "\u001b[34m\u001b[1mwandb\u001b[0m: \u001b[33mWARNING\u001b[0m If you're specifying your api key in code, ensure this code is not shared publicly.\n",
      "\u001b[34m\u001b[1mwandb\u001b[0m: \u001b[33mWARNING\u001b[0m Consider setting the WANDB_API_KEY environment variable, or running `wandb login` from the command line.\n",
      "\u001b[34m\u001b[1mwandb\u001b[0m: Appending key for api.wandb.ai to your netrc file: /root/.netrc\n"
     ]
    },
    {
     "name": "stdout",
     "output_type": "stream",
     "text": [
      "✓ Successfully logged in to WANDB!\n"
     ]
    }
   ],
   "source": [
    "def is_colab() -> bool:\n",
    "    \"\"\"Check if the current environment is Google Colab.\"\"\"\n",
    "    return 'google.colab' in sys.modules\n",
    "\n",
    "def get_env_file_path() -> str:\n",
    "    \"\"\"\n",
    "    Get the path to your .env file\n",
    "    Modify this function to point to your .env file location\n",
    "    \"\"\"\n",
    "\n",
    "    env_path = str(base_folder / 'env')\n",
    "\n",
    "    return env_path\n",
    "\n",
    "def get_credentials() -> Tuple[Optional[str], Optional[str]]:\n",
    "    \"\"\"Get credentials from either Colab or local environment.\"\"\"\n",
    "    wandb_api_key = None\n",
    "    hf_token = None\n",
    "\n",
    "    if is_colab():\n",
    "        try:\n",
    "            from google.colab import userdata\n",
    "            wandb_api_key = userdata.get('WANDB_API_KEY')\n",
    "            hf_token = userdata.get('HF_TOKEN')\n",
    "            print(\"Using Google Colab environment\")\n",
    "        except Exception as e:\n",
    "            print(f\"Error accessing Colab userdata: {e}\")\n",
    "    else:\n",
    "        # Try to load from .env file in specified location\n",
    "        try:\n",
    "            from dotenv import load_dotenv\n",
    "            env_path = get_env_file_path()\n",
    "            if os.path.exists(env_path):\n",
    "                load_dotenv(env_path)\n",
    "                print(f\"Loaded .env file from: {env_path}\")\n",
    "            else:\n",
    "                print(f\"Warning: .env file not found at {env_path}\")\n",
    "        except ImportError:\n",
    "            print(\"python-dotenv not installed. Using environment variables directly.\")\n",
    "        except Exception as e:\n",
    "            print(f\"Error loading .env file: {e}\")\n",
    "\n",
    "        wandb_api_key = os.getenv('WANDB_API_KEY')\n",
    "        hf_token = os.getenv('HF_TOKEN')\n",
    "\n",
    "    return wandb_api_key, hf_token\n",
    "\n",
    "def setup_auth():\n",
    "    \"\"\"Setup authentication for both environments.\"\"\"\n",
    "    wandb_api_key, hf_token = get_credentials()\n",
    "\n",
    "    # Hugging Face authentication\n",
    "    if hf_token:\n",
    "        try:\n",
    "            from huggingface_hub import login\n",
    "            login(token=hf_token)\n",
    "            print(\"✓ Successfully logged in to Hugging Face!\")\n",
    "        except Exception as e:\n",
    "            print(f\"✗ Error logging in to Hugging Face: {e}\")\n",
    "    else:\n",
    "        print(\"✗ Hugging Face token not found.\")\n",
    "        if is_colab():\n",
    "            print(\"  Add HF_TOKEN to your Colab secrets\")\n",
    "        else:\n",
    "            print(f\"  Add HF_TOKEN to your .env file at {get_env_file_path()}\")\n",
    "\n",
    "    # Weights & Biases authentication\n",
    "    if wandb_api_key:\n",
    "        try:\n",
    "            import wandb\n",
    "            wandb.login(key=wandb_api_key)\n",
    "            print(\"✓ Successfully logged in to WANDB!\")\n",
    "        except Exception as e:\n",
    "            print(f\"✗ Error logging in to WANDB: {e}\")\n",
    "    else:\n",
    "        print(\"✗ WANDB API key not found.\")\n",
    "        if is_colab():\n",
    "            print(\"  Add WANDB_API_KEY to your Colab secrets\")\n",
    "        else:\n",
    "            print(f\"  Add WANDB_API_KEY to your .env file at {get_env_file_path()}\")\n",
    "\n",
    "setup_auth()"
   ]
  },
  {
   "cell_type": "markdown",
   "id": "4f0f6cc5",
   "metadata": {
    "id": "4f0f6cc5"
   },
   "source": [
    "# <font color='purple'>**2. Load the Dataset**"
   ]
  },
  {
   "cell_type": "code",
   "execution_count": 9,
   "id": "KDurBy4AVY2n",
   "metadata": {
    "id": "KDurBy4AVY2n"
   },
   "outputs": [],
   "source": [
    "# Setting up paths\n",
    "base_folder = Path(base_path)\n",
    "data_folder = base_folder/'datasets/emotion_datasets'\n",
    "model_folder = Path('/sys/fs/cgroup/models/qwen-14B-it')\n",
    "\n",
    "# Create the directory if it doesn't exist\n",
    "model_folder.mkdir(exist_ok=True, parents=True)\n",
    "data_folder.mkdir(exist_ok = True, parents =True)\n"
   ]
  },
  {
   "cell_type": "code",
   "execution_count": 10,
   "id": "ihgvlXDoVcCA",
   "metadata": {
    "id": "ihgvlXDoVcCA"
   },
   "outputs": [
    {
     "data": {
      "text/html": [
       "<div>\n",
       "<style scoped>\n",
       "    .dataframe tbody tr th:only-of-type {\n",
       "        vertical-align: middle;\n",
       "    }\n",
       "\n",
       "    .dataframe tbody tr th {\n",
       "        vertical-align: top;\n",
       "    }\n",
       "\n",
       "    .dataframe thead th {\n",
       "        text-align: right;\n",
       "    }\n",
       "</style>\n",
       "<table border=\"1\" class=\"dataframe\">\n",
       "  <thead>\n",
       "    <tr style=\"text-align: right;\">\n",
       "      <th></th>\n",
       "      <th>ID</th>\n",
       "      <th>Tweet</th>\n",
       "      <th>anger</th>\n",
       "      <th>anticipation</th>\n",
       "      <th>disgust</th>\n",
       "      <th>fear</th>\n",
       "      <th>joy</th>\n",
       "      <th>love</th>\n",
       "      <th>optimism</th>\n",
       "      <th>pessimism</th>\n",
       "      <th>sadness</th>\n",
       "      <th>surprise</th>\n",
       "      <th>trust</th>\n",
       "    </tr>\n",
       "  </thead>\n",
       "  <tbody>\n",
       "    <tr>\n",
       "      <th>0</th>\n",
       "      <td>2017-21441</td>\n",
       "      <td>“Worry is a down payment on a problem you may ...</td>\n",
       "      <td>0</td>\n",
       "      <td>1</td>\n",
       "      <td>0</td>\n",
       "      <td>0</td>\n",
       "      <td>0</td>\n",
       "      <td>0</td>\n",
       "      <td>1</td>\n",
       "      <td>0</td>\n",
       "      <td>0</td>\n",
       "      <td>0</td>\n",
       "      <td>1</td>\n",
       "    </tr>\n",
       "    <tr>\n",
       "      <th>1</th>\n",
       "      <td>2017-31535</td>\n",
       "      <td>Whatever you decide to do make sure it makes y...</td>\n",
       "      <td>0</td>\n",
       "      <td>0</td>\n",
       "      <td>0</td>\n",
       "      <td>0</td>\n",
       "      <td>1</td>\n",
       "      <td>1</td>\n",
       "      <td>1</td>\n",
       "      <td>0</td>\n",
       "      <td>0</td>\n",
       "      <td>0</td>\n",
       "      <td>0</td>\n",
       "    </tr>\n",
       "    <tr>\n",
       "      <th>2</th>\n",
       "      <td>2017-21068</td>\n",
       "      <td>@Max_Kellerman  it also helps that the majorit...</td>\n",
       "      <td>1</td>\n",
       "      <td>0</td>\n",
       "      <td>1</td>\n",
       "      <td>0</td>\n",
       "      <td>1</td>\n",
       "      <td>0</td>\n",
       "      <td>1</td>\n",
       "      <td>0</td>\n",
       "      <td>0</td>\n",
       "      <td>0</td>\n",
       "      <td>0</td>\n",
       "    </tr>\n",
       "    <tr>\n",
       "      <th>3</th>\n",
       "      <td>2017-31436</td>\n",
       "      <td>Accept the challenges so that you can literall...</td>\n",
       "      <td>0</td>\n",
       "      <td>0</td>\n",
       "      <td>0</td>\n",
       "      <td>0</td>\n",
       "      <td>1</td>\n",
       "      <td>0</td>\n",
       "      <td>1</td>\n",
       "      <td>0</td>\n",
       "      <td>0</td>\n",
       "      <td>0</td>\n",
       "      <td>0</td>\n",
       "    </tr>\n",
       "    <tr>\n",
       "      <th>4</th>\n",
       "      <td>2017-22195</td>\n",
       "      <td>My roommate: it's okay that we can't spell bec...</td>\n",
       "      <td>1</td>\n",
       "      <td>0</td>\n",
       "      <td>1</td>\n",
       "      <td>0</td>\n",
       "      <td>0</td>\n",
       "      <td>0</td>\n",
       "      <td>0</td>\n",
       "      <td>0</td>\n",
       "      <td>0</td>\n",
       "      <td>0</td>\n",
       "      <td>0</td>\n",
       "    </tr>\n",
       "  </tbody>\n",
       "</table>\n",
       "</div>"
      ],
      "text/plain": [
       "           ID                                              Tweet  anger  \\\n",
       "0  2017-21441  “Worry is a down payment on a problem you may ...      0   \n",
       "1  2017-31535  Whatever you decide to do make sure it makes y...      0   \n",
       "2  2017-21068  @Max_Kellerman  it also helps that the majorit...      1   \n",
       "3  2017-31436  Accept the challenges so that you can literall...      0   \n",
       "4  2017-22195  My roommate: it's okay that we can't spell bec...      1   \n",
       "\n",
       "   anticipation  disgust  fear  joy  love  optimism  pessimism  sadness  \\\n",
       "0             1        0     0    0     0         1          0        0   \n",
       "1             0        0     0    1     1         1          0        0   \n",
       "2             0        1     0    1     0         1          0        0   \n",
       "3             0        0     0    1     0         1          0        0   \n",
       "4             0        1     0    0     0         0          0        0   \n",
       "\n",
       "   surprise  trust  \n",
       "0         0      1  \n",
       "1         0      0  \n",
       "2         0      0  \n",
       "3         0      0  \n",
       "4         0      0  "
      ]
     },
     "execution_count": 10,
     "metadata": {},
     "output_type": "execute_result"
    }
   ],
   "source": [
    "train_valid_df = pd.read_csv(data_folder/'train.csv')\n",
    "train_valid_df.head(5)"
   ]
  },
  {
   "cell_type": "code",
   "execution_count": 11,
   "id": "cdqTOLS9VeNC",
   "metadata": {
    "id": "cdqTOLS9VeNC"
   },
   "outputs": [],
   "source": [
    "train_val_labels = train_valid_df[['anger',\n",
    "                                      'anticipation',\n",
    "                                             'disgust',\n",
    "                                             'fear',\n",
    "                                             'joy',\n",
    "                                             'love',\n",
    "                                             'optimism',\n",
    "                                             'pessimism',\n",
    "                                             'sadness',\n",
    "                                             'surprise',\n",
    "                                             'trust']]"
   ]
  },
  {
   "cell_type": "code",
   "execution_count": 12,
   "id": "Egv-7ARnVgl7",
   "metadata": {
    "id": "Egv-7ARnVgl7"
   },
   "outputs": [
    {
     "data": {
      "image/png": "[encoded data removed]",
      "text/plain": [
       "<Figure size 1200x800 with 1 Axes>"
      ]
     },
     "metadata": {},
     "output_type": "display_data"
    }
   ],
   "source": [
    "# getting the count for the labels\n",
    "label_counts = train_val_labels.sum()\n",
    "#getting the count overall\n",
    "total_count = label_counts.sum()\n",
    "# getting the percentages\n",
    "percentages = (label_counts/total_count)*100\n",
    "\n",
    "plt.figure(figsize = (12,8))\n",
    "plt.bar(label_counts.index, label_counts.values, color = 'green')\n",
    "\n",
    "for i , (count, pct) in enumerate(zip(label_counts.values, percentages)):\n",
    "  plt.text(i, count+10, f'{pct:.2f}%', ha = 'center')\n",
    "\n",
    "plt.title('Emotion Data Class Distribution')\n",
    "plt.ylabel('Counts')\n",
    "plt.show()"
   ]
  },
  {
   "cell_type": "markdown",
   "id": "9c96c862",
   "metadata": {
    "id": "9c96c862"
   },
   "source": [
    "# <font color='purple'>**3. Manipulate the Splits of the Dataset**"
   ]
  },
  {
   "cell_type": "code",
   "execution_count": 13,
   "id": "KkcuQijvVjmX",
   "metadata": {
    "id": "KkcuQijvVjmX"
   },
   "outputs": [],
   "source": [
    "mkf = MultilabelStratifiedKFold(n_splits = 10, shuffle = True, random_state = 42)\n",
    "\n",
    "X = train_valid_df['Tweet'].values\n",
    "y = train_val_labels.values\n",
    "\n",
    "for train_index, valid_index in mkf.split(X, y):\n",
    "  X_train, X_val = X[train_index], X[valid_index]\n",
    "  y_train, y_val = y[train_index], y[valid_index]"
   ]
  },
  {
   "cell_type": "code",
   "execution_count": 14,
   "id": "ytOZt-TDVl0T",
   "metadata": {
    "id": "ytOZt-TDVl0T"
   },
   "outputs": [],
   "source": [
    "train_df = train_valid_df.iloc[train_index] # pulling the training indices from the split\n",
    "val_df = train_valid_df.iloc[valid_index] # pulling the valid indices from the split"
   ]
  },
  {
   "cell_type": "code",
   "execution_count": 15,
   "id": "K1Zlk17RVnTn",
   "metadata": {
    "id": "K1Zlk17RVnTn"
   },
   "outputs": [
    {
     "data": {
      "text/html": [
       "<div>\n",
       "<style scoped>\n",
       "    .dataframe tbody tr th:only-of-type {\n",
       "        vertical-align: middle;\n",
       "    }\n",
       "\n",
       "    .dataframe tbody tr th {\n",
       "        vertical-align: top;\n",
       "    }\n",
       "\n",
       "    .dataframe thead th {\n",
       "        text-align: right;\n",
       "    }\n",
       "</style>\n",
       "<table border=\"1\" class=\"dataframe\">\n",
       "  <thead>\n",
       "    <tr style=\"text-align: right;\">\n",
       "      <th></th>\n",
       "      <th>ID</th>\n",
       "      <th>Tweet</th>\n",
       "      <th>anger</th>\n",
       "      <th>anticipation</th>\n",
       "      <th>disgust</th>\n",
       "      <th>fear</th>\n",
       "      <th>joy</th>\n",
       "      <th>love</th>\n",
       "      <th>optimism</th>\n",
       "      <th>pessimism</th>\n",
       "      <th>sadness</th>\n",
       "      <th>surprise</th>\n",
       "      <th>trust</th>\n",
       "    </tr>\n",
       "  </thead>\n",
       "  <tbody>\n",
       "    <tr>\n",
       "      <th>0</th>\n",
       "      <td>2017-21441</td>\n",
       "      <td>“Worry is a down payment on a problem you may ...</td>\n",
       "      <td>0</td>\n",
       "      <td>1</td>\n",
       "      <td>0</td>\n",
       "      <td>0</td>\n",
       "      <td>0</td>\n",
       "      <td>0</td>\n",
       "      <td>1</td>\n",
       "      <td>0</td>\n",
       "      <td>0</td>\n",
       "      <td>0</td>\n",
       "      <td>1</td>\n",
       "    </tr>\n",
       "    <tr>\n",
       "      <th>1</th>\n",
       "      <td>2017-31535</td>\n",
       "      <td>Whatever you decide to do make sure it makes y...</td>\n",
       "      <td>0</td>\n",
       "      <td>0</td>\n",
       "      <td>0</td>\n",
       "      <td>0</td>\n",
       "      <td>1</td>\n",
       "      <td>1</td>\n",
       "      <td>1</td>\n",
       "      <td>0</td>\n",
       "      <td>0</td>\n",
       "      <td>0</td>\n",
       "      <td>0</td>\n",
       "    </tr>\n",
       "    <tr>\n",
       "      <th>2</th>\n",
       "      <td>2017-21068</td>\n",
       "      <td>@Max_Kellerman  it also helps that the majorit...</td>\n",
       "      <td>1</td>\n",
       "      <td>0</td>\n",
       "      <td>1</td>\n",
       "      <td>0</td>\n",
       "      <td>1</td>\n",
       "      <td>0</td>\n",
       "      <td>1</td>\n",
       "      <td>0</td>\n",
       "      <td>0</td>\n",
       "      <td>0</td>\n",
       "      <td>0</td>\n",
       "    </tr>\n",
       "    <tr>\n",
       "      <th>3</th>\n",
       "      <td>2017-31436</td>\n",
       "      <td>Accept the challenges so that you can literall...</td>\n",
       "      <td>0</td>\n",
       "      <td>0</td>\n",
       "      <td>0</td>\n",
       "      <td>0</td>\n",
       "      <td>1</td>\n",
       "      <td>0</td>\n",
       "      <td>1</td>\n",
       "      <td>0</td>\n",
       "      <td>0</td>\n",
       "      <td>0</td>\n",
       "      <td>0</td>\n",
       "    </tr>\n",
       "    <tr>\n",
       "      <th>4</th>\n",
       "      <td>2017-22195</td>\n",
       "      <td>My roommate: it's okay that we can't spell bec...</td>\n",
       "      <td>1</td>\n",
       "      <td>0</td>\n",
       "      <td>1</td>\n",
       "      <td>0</td>\n",
       "      <td>0</td>\n",
       "      <td>0</td>\n",
       "      <td>0</td>\n",
       "      <td>0</td>\n",
       "      <td>0</td>\n",
       "      <td>0</td>\n",
       "      <td>0</td>\n",
       "    </tr>\n",
       "  </tbody>\n",
       "</table>\n",
       "</div>"
      ],
      "text/plain": [
       "           ID                                              Tweet  anger  \\\n",
       "0  2017-21441  “Worry is a down payment on a problem you may ...      0   \n",
       "1  2017-31535  Whatever you decide to do make sure it makes y...      0   \n",
       "2  2017-21068  @Max_Kellerman  it also helps that the majorit...      1   \n",
       "3  2017-31436  Accept the challenges so that you can literall...      0   \n",
       "4  2017-22195  My roommate: it's okay that we can't spell bec...      1   \n",
       "\n",
       "   anticipation  disgust  fear  joy  love  optimism  pessimism  sadness  \\\n",
       "0             1        0     0    0     0         1          0        0   \n",
       "1             0        0     0    1     1         1          0        0   \n",
       "2             0        1     0    1     0         1          0        0   \n",
       "3             0        0     0    1     0         1          0        0   \n",
       "4             0        1     0    0     0         0          0        0   \n",
       "\n",
       "   surprise  trust  \n",
       "0         0      1  \n",
       "1         0      0  \n",
       "2         0      0  \n",
       "3         0      0  \n",
       "4         0      0  "
      ]
     },
     "execution_count": 15,
     "metadata": {},
     "output_type": "execute_result"
    }
   ],
   "source": [
    "train_df.head()"
   ]
  },
  {
   "cell_type": "code",
   "execution_count": 16,
   "id": "HG1zhQS_VpXY",
   "metadata": {
    "id": "HG1zhQS_VpXY"
   },
   "outputs": [
    {
     "data": {
      "text/html": [
       "<div>\n",
       "<style scoped>\n",
       "    .dataframe tbody tr th:only-of-type {\n",
       "        vertical-align: middle;\n",
       "    }\n",
       "\n",
       "    .dataframe tbody tr th {\n",
       "        vertical-align: top;\n",
       "    }\n",
       "\n",
       "    .dataframe thead th {\n",
       "        text-align: right;\n",
       "    }\n",
       "</style>\n",
       "<table border=\"1\" class=\"dataframe\">\n",
       "  <thead>\n",
       "    <tr style=\"text-align: right;\">\n",
       "      <th></th>\n",
       "      <th>ID</th>\n",
       "      <th>Tweet</th>\n",
       "      <th>anger</th>\n",
       "      <th>anticipation</th>\n",
       "      <th>disgust</th>\n",
       "      <th>fear</th>\n",
       "      <th>joy</th>\n",
       "      <th>love</th>\n",
       "      <th>optimism</th>\n",
       "      <th>pessimism</th>\n",
       "      <th>sadness</th>\n",
       "      <th>surprise</th>\n",
       "      <th>trust</th>\n",
       "    </tr>\n",
       "  </thead>\n",
       "  <tbody>\n",
       "    <tr>\n",
       "      <th>6</th>\n",
       "      <td>2017-20221</td>\n",
       "      <td>Do you think humans have the sense for recogni...</td>\n",
       "      <td>0</td>\n",
       "      <td>1</td>\n",
       "      <td>0</td>\n",
       "      <td>0</td>\n",
       "      <td>0</td>\n",
       "      <td>0</td>\n",
       "      <td>0</td>\n",
       "      <td>1</td>\n",
       "      <td>0</td>\n",
       "      <td>0</td>\n",
       "      <td>0</td>\n",
       "    </tr>\n",
       "    <tr>\n",
       "      <th>25</th>\n",
       "      <td>2017-11184</td>\n",
       "      <td>What a fucking muppet.  @jRwild1  #stalker.</td>\n",
       "      <td>1</td>\n",
       "      <td>0</td>\n",
       "      <td>1</td>\n",
       "      <td>0</td>\n",
       "      <td>0</td>\n",
       "      <td>0</td>\n",
       "      <td>0</td>\n",
       "      <td>0</td>\n",
       "      <td>0</td>\n",
       "      <td>0</td>\n",
       "      <td>0</td>\n",
       "    </tr>\n",
       "    <tr>\n",
       "      <th>28</th>\n",
       "      <td>2017-21740</td>\n",
       "      <td>@FaithHill I remember it well #happy #afraid #...</td>\n",
       "      <td>0</td>\n",
       "      <td>0</td>\n",
       "      <td>0</td>\n",
       "      <td>1</td>\n",
       "      <td>1</td>\n",
       "      <td>1</td>\n",
       "      <td>1</td>\n",
       "      <td>0</td>\n",
       "      <td>0</td>\n",
       "      <td>0</td>\n",
       "      <td>0</td>\n",
       "    </tr>\n",
       "    <tr>\n",
       "      <th>31</th>\n",
       "      <td>2017-21716</td>\n",
       "      <td>@WaterboysAS I would never strategically vote ...</td>\n",
       "      <td>1</td>\n",
       "      <td>0</td>\n",
       "      <td>1</td>\n",
       "      <td>1</td>\n",
       "      <td>0</td>\n",
       "      <td>0</td>\n",
       "      <td>0</td>\n",
       "      <td>0</td>\n",
       "      <td>0</td>\n",
       "      <td>0</td>\n",
       "      <td>0</td>\n",
       "    </tr>\n",
       "    <tr>\n",
       "      <th>39</th>\n",
       "      <td>2017-21752</td>\n",
       "      <td>@imtarakate Uggh that's really horrible. You'r...</td>\n",
       "      <td>0</td>\n",
       "      <td>0</td>\n",
       "      <td>1</td>\n",
       "      <td>1</td>\n",
       "      <td>0</td>\n",
       "      <td>0</td>\n",
       "      <td>1</td>\n",
       "      <td>0</td>\n",
       "      <td>0</td>\n",
       "      <td>0</td>\n",
       "      <td>1</td>\n",
       "    </tr>\n",
       "  </tbody>\n",
       "</table>\n",
       "</div>"
      ],
      "text/plain": [
       "            ID                                              Tweet  anger  \\\n",
       "6   2017-20221  Do you think humans have the sense for recogni...      0   \n",
       "25  2017-11184        What a fucking muppet.  @jRwild1  #stalker.      1   \n",
       "28  2017-21740  @FaithHill I remember it well #happy #afraid #...      0   \n",
       "31  2017-21716  @WaterboysAS I would never strategically vote ...      1   \n",
       "39  2017-21752  @imtarakate Uggh that's really horrible. You'r...      0   \n",
       "\n",
       "    anticipation  disgust  fear  joy  love  optimism  pessimism  sadness  \\\n",
       "6              1        0     0    0     0         0          1        0   \n",
       "25             0        1     0    0     0         0          0        0   \n",
       "28             0        0     1    1     1         1          0        0   \n",
       "31             0        1     1    0     0         0          0        0   \n",
       "39             0        1     1    0     0         1          0        0   \n",
       "\n",
       "    surprise  trust  \n",
       "6          0      0  \n",
       "25         0      0  \n",
       "28         0      0  \n",
       "31         0      0  \n",
       "39         0      1  "
      ]
     },
     "execution_count": 16,
     "metadata": {},
     "output_type": "execute_result"
    }
   ],
   "source": [
    "val_df.head()"
   ]
  },
  {
   "cell_type": "code",
   "execution_count": 17,
   "id": "0V0tdt6IVrua",
   "metadata": {
    "id": "0V0tdt6IVrua"
   },
   "outputs": [],
   "source": [
    "train_labels = train_df[['anger',\n",
    "                         'anticipation',\n",
    "                         'disgust',\n",
    "                         'fear',\n",
    "                         'joy',\n",
    "                         'love',\n",
    "                         'optimism',\n",
    "                         'pessimism',\n",
    "                         'sadness',\n",
    "                         'surprise',\n",
    "                         'trust']]"
   ]
  },
  {
   "cell_type": "code",
   "execution_count": 18,
   "id": "MGtoFRuaVtrb",
   "metadata": {
    "id": "MGtoFRuaVtrb"
   },
   "outputs": [
    {
     "data": {
      "text/plain": [
       "anger           2574\n",
       "anticipation     991\n",
       "disgust         2629\n",
       "fear            1226\n",
       "joy             2589\n",
       "love             749\n",
       "optimism        2062\n",
       "pessimism        805\n",
       "sadness         2046\n",
       "surprise         356\n",
       "trust            360\n",
       "dtype: int64"
      ]
     },
     "execution_count": 18,
     "metadata": {},
     "output_type": "execute_result"
    }
   ],
   "source": [
    "train_labels.sum()"
   ]
  },
  {
   "cell_type": "markdown",
   "id": "ddZU_6NmV2cn",
   "metadata": {
    "id": "ddZU_6NmV2cn"
   },
   "source": [
    "<font color = 'purple'>***Plotting the training and validation class distributions to check the split.***"
   ]
  },
  {
   "cell_type": "code",
   "execution_count": 19,
   "id": "t_Pq9rxnVvV7",
   "metadata": {
    "id": "t_Pq9rxnVvV7"
   },
   "outputs": [
    {
     "data": {
      "image/png": "[encoded data removed]",
      "text/plain": [
       "<Figure size 1200x800 with 1 Axes>"
      ]
     },
     "metadata": {},
     "output_type": "display_data"
    }
   ],
   "source": [
    "label_counts_t = train_labels.sum()\n",
    "\n",
    "total_count_t = label_counts_t.sum()\n",
    "\n",
    "percentages = (label_counts_t/total_count_t)*100\n",
    "\n",
    "plt.figure(figsize = (12,8))\n",
    "plt.bar(label_counts_t.index, label_counts_t.values, color = 'green')\n",
    "\n",
    "for i, (count, pct) in enumerate(zip(label_counts_t.values, percentages)):\n",
    "  plt.text(i, count+10, f'{pct:.2f}%', ha = 'center')\n",
    "\n",
    "plt.title('Emotion Class Distribution - Training Set')\n",
    "plt.ylabel('Count')\n",
    "plt.show()"
   ]
  },
  {
   "cell_type": "code",
   "execution_count": 20,
   "id": "cH8uuDdpVxjF",
   "metadata": {
    "id": "cH8uuDdpVxjF"
   },
   "outputs": [],
   "source": [
    "val_labels = val_df[['anger',\n",
    "                         'anticipation',\n",
    "                         'disgust',\n",
    "                         'fear',\n",
    "                         'joy',\n",
    "                         'love',\n",
    "                         'optimism',\n",
    "                         'pessimism',\n",
    "                         'sadness',\n",
    "                         'surprise',\n",
    "                         'trust']]"
   ]
  },
  {
   "cell_type": "code",
   "execution_count": 21,
   "id": "iX4Ppa5iV5Uw",
   "metadata": {
    "id": "iX4Ppa5iV5Uw"
   },
   "outputs": [
    {
     "data": {
      "text/plain": [
       "anger           285\n",
       "anticipation    111\n",
       "disgust         292\n",
       "fear            137\n",
       "joy             288\n",
       "love             83\n",
       "optimism        229\n",
       "pessimism        90\n",
       "sadness         227\n",
       "surprise         40\n",
       "trust            40\n",
       "dtype: int64"
      ]
     },
     "execution_count": 21,
     "metadata": {},
     "output_type": "execute_result"
    }
   ],
   "source": [
    "val_labels.sum()"
   ]
  },
  {
   "cell_type": "code",
   "execution_count": 22,
   "id": "V2n_9I7nV68G",
   "metadata": {
    "id": "V2n_9I7nV68G"
   },
   "outputs": [
    {
     "data": {
      "image/png": "[encoded data removed]",
      "text/plain": [
       "<Figure size 1200x800 with 1 Axes>"
      ]
     },
     "metadata": {},
     "output_type": "display_data"
    }
   ],
   "source": [
    "# plotting to see the distribution for the validation set\n",
    "label_counts_v = val_labels.sum()\n",
    "\n",
    "total_counts_v = label_counts_v.sum()\n",
    "\n",
    "percentages = (label_counts_v/total_counts_v)*100\n",
    "\n",
    "plt.figure(figsize = (12,8))\n",
    "plt.bar(label_counts_v.index, label_counts_v.values, color = 'green')\n",
    "\n",
    "for i, (count, pct) in enumerate(zip(label_counts_v.values, percentages)):\n",
    "  plt.text(i, count+5, f'{pct:.2f}%', ha = 'center')\n",
    "\n",
    "plt.title('Emotion Class Distribution - Validation Set')\n",
    "plt.ylabel('Count')\n",
    "plt.show()"
   ]
  },
  {
   "cell_type": "code",
   "execution_count": 23,
   "id": "NPwF-drUV-gx",
   "metadata": {
    "id": "NPwF-drUV-gx"
   },
   "outputs": [
    {
     "data": {
      "text/plain": [
       "numpy.ndarray"
      ]
     },
     "execution_count": 23,
     "metadata": {},
     "output_type": "execute_result"
    }
   ],
   "source": [
    "type(X_train)"
   ]
  },
  {
   "cell_type": "code",
   "execution_count": 24,
   "id": "urrJMWKaV_zk",
   "metadata": {
    "id": "urrJMWKaV_zk"
   },
   "outputs": [
    {
     "data": {
      "text/plain": [
       "numpy.ndarray"
      ]
     },
     "execution_count": 24,
     "metadata": {},
     "output_type": "execute_result"
    }
   ],
   "source": [
    "type(y_train)"
   ]
  },
  {
   "cell_type": "code",
   "execution_count": 25,
   "id": "0rPE1bsyWCd4",
   "metadata": {
    "id": "0rPE1bsyWCd4"
   },
   "outputs": [],
   "source": [
    "X_train = X_train.tolist()\n",
    "X_val = X_val.tolist()"
   ]
  },
  {
   "cell_type": "code",
   "execution_count": 26,
   "id": "LQqlbRaBWjeo",
   "metadata": {
    "id": "LQqlbRaBWjeo"
   },
   "outputs": [
    {
     "data": {
      "text/plain": [
       "\"“Worry is a down payment on a problem you may never have'. \\xa0Joyce Meyer.  #motivation #leadership #worry\""
      ]
     },
     "execution_count": 26,
     "metadata": {},
     "output_type": "execute_result"
    }
   ],
   "source": [
    "X_train[0]"
   ]
  },
  {
   "cell_type": "code",
   "execution_count": 27,
   "id": "Nj2aAg_iWk8a",
   "metadata": {
    "id": "Nj2aAg_iWk8a"
   },
   "outputs": [
    {
     "data": {
      "text/plain": [
       "array([0, 1, 0, 0, 0, 0, 1, 0, 0, 0, 1])"
      ]
     },
     "execution_count": 27,
     "metadata": {},
     "output_type": "execute_result"
    }
   ],
   "source": [
    "y_train[0]"
   ]
  },
  {
   "cell_type": "code",
   "execution_count": 28,
   "id": "XXr1So_tWnpD",
   "metadata": {
    "id": "XXr1So_tWnpD"
   },
   "outputs": [],
   "source": [
    "class_names = ['anger',\n",
    " 'anticipation',\n",
    " 'disgust',\n",
    " 'fear',\n",
    " 'joy',\n",
    " 'love',\n",
    " 'optimism',\n",
    " 'pessimism',\n",
    " 'sadness',\n",
    " 'surprise',\n",
    " 'trust']"
   ]
  },
  {
   "cell_type": "code",
   "execution_count": null,
   "id": "efPQUMo4WpoJ",
   "metadata": {
    "id": "efPQUMo4WpoJ"
   },
   "outputs": [],
   "source": [
    "# Map the binary array to class names\n",
    "def map_binary_to_classes(binary_array, class_names):\n",
    "    # Iterate through each sample (row) in the binary array\n",
    "    mapped_samples = []\n",
    "    for sample in binary_array:\n",
    "        mapped_samples.append([class_names[i] for i in range(len(sample)) if sample[i] == 1])\n",
    "    return mapped_samples\n",
    "\n",
    "# Apply the mapping\n",
    "y_train_mapped = map_binary_to_classes(y_train, class_names)\n",
    "y_val_mapped = map_binary_to_classes(y_val, class_names)\n",
    "\n",
    "print(f\"Mapped y_train: {y_train_mapped}\")\n",
    "print(f\"Mapped y_val: {y_val_mapped}\")"
   ]
  },
  {
   "cell_type": "code",
   "execution_count": 30,
   "id": "QizmyfBCWrm-",
   "metadata": {
    "id": "QizmyfBCWrm-"
   },
   "outputs": [],
   "source": [
    "trainset = Dataset.from_dict(\n",
    "    {\n",
    "    'text':X_train,\n",
    "    'label':y_train_mapped\n",
    "    })\n",
    "validset = Dataset.from_dict({\n",
    "    'text': X_val,\n",
    "    'label':y_val_mapped\n",
    "})"
   ]
  },
  {
   "cell_type": "code",
   "execution_count": 31,
   "id": "m-pA_Z6NWt6o",
   "metadata": {
    "id": "m-pA_Z6NWt6o"
   },
   "outputs": [
    {
     "data": {
      "text/plain": [
       "{'text': \"“Worry is a down payment on a problem you may never have'. \\xa0Joyce Meyer.  #motivation #leadership #worry\",\n",
       " 'label': ['anticipation', 'optimism', 'trust']}"
      ]
     },
     "execution_count": 31,
     "metadata": {},
     "output_type": "execute_result"
    }
   ],
   "source": [
    "trainset[0]"
   ]
  },
  {
   "cell_type": "code",
   "execution_count": 32,
   "id": "h3mgyVwDWvfa",
   "metadata": {
    "id": "h3mgyVwDWvfa"
   },
   "outputs": [
    {
     "data": {
      "text/plain": [
       "{'text': 'Do you think humans have the sense for recognizing impending doom? ',\n",
       " 'label': ['anticipation', 'pessimism']}"
      ]
     },
     "execution_count": 32,
     "metadata": {},
     "output_type": "execute_result"
    }
   ],
   "source": [
    "validset[0]"
   ]
  },
  {
   "cell_type": "code",
   "execution_count": 33,
   "id": "UbdKXqrDWyy3",
   "metadata": {
    "id": "UbdKXqrDWyy3"
   },
   "outputs": [],
   "source": [
    "# compiling the trainset and validset into another dataset\n",
    "train_val = DatasetDict({'train':trainset, 'valid':validset})"
   ]
  },
  {
   "cell_type": "code",
   "execution_count": 34,
   "id": "XwgBdluRW0P2",
   "metadata": {
    "id": "XwgBdluRW0P2"
   },
   "outputs": [
    {
     "data": {
      "text/plain": [
       "DatasetDict({\n",
       "    train: Dataset({\n",
       "        features: ['text', 'label'],\n",
       "        num_rows: 6951\n",
       "    })\n",
       "    valid: Dataset({\n",
       "        features: ['text', 'label'],\n",
       "        num_rows: 773\n",
       "    })\n",
       "})"
      ]
     },
     "execution_count": 34,
     "metadata": {},
     "output_type": "execute_result"
    }
   ],
   "source": [
    "train_val"
   ]
  },
  {
   "cell_type": "code",
   "execution_count": 35,
   "id": "ltvEPmykW2IK",
   "metadata": {
    "id": "ltvEPmykW2IK"
   },
   "outputs": [
    {
     "data": {
      "text/plain": [
       "{'text': \"“Worry is a down payment on a problem you may never have'. \\xa0Joyce Meyer.  #motivation #leadership #worry\",\n",
       " 'label': ['anticipation', 'optimism', 'trust']}"
      ]
     },
     "execution_count": 35,
     "metadata": {},
     "output_type": "execute_result"
    }
   ],
   "source": [
    "train_val['train'][0]"
   ]
  },
  {
   "cell_type": "code",
   "execution_count": 36,
   "id": "J3Tl1yjTW3Zq",
   "metadata": {
    "id": "J3Tl1yjTW3Zq"
   },
   "outputs": [
    {
     "data": {
      "text/plain": [
       "{'text': 'Do you think humans have the sense for recognizing impending doom? ',\n",
       " 'label': ['anticipation', 'pessimism']}"
      ]
     },
     "execution_count": 36,
     "metadata": {},
     "output_type": "execute_result"
    }
   ],
   "source": [
    "train_val['valid'][0]"
   ]
  },
  {
   "cell_type": "markdown",
   "id": "e4f9e41f",
   "metadata": {
    "id": "e4f9e41f"
   },
   "source": [
    "# <font color='purple'>**4. Load the Pretrained Tokenizer**"
   ]
  },
  {
   "cell_type": "code",
   "execution_count": 37,
   "id": "RtpZWDNAW6IQ",
   "metadata": {
    "id": "RtpZWDNAW6IQ"
   },
   "outputs": [],
   "source": [
    "def free_gpu_memory():\n",
    "    \"\"\"\n",
    "    Frees up GPU memory after CUDA out-of-memory error in Colab.\n",
    "\n",
    "    This function performs the following steps:\n",
    "    1. Deletes all PyTorch objects to clear references.\n",
    "    2. Calls garbage collection to remove unreferenced objects from memory.\n",
    "    3. Uses torch.cuda.empty_cache() to release cached GPU memory.\n",
    "    4. Waits for a moment to ensure memory is fully released.\n",
    "    \"\"\"\n",
    "    try:\n",
    "        # Delete all torch tensors to free up memory\n",
    "        for obj in list(locals().values()):\n",
    "            if torch.is_tensor(obj):\n",
    "                del obj\n",
    "\n",
    "        # Collect garbage to release any remaining unused memory\n",
    "        gc.collect()\n",
    "\n",
    "        # Empty the CUDA cache to release GPU memory\n",
    "        torch.cuda.empty_cache()\n",
    "\n",
    "        # Adding a small delay to allow memory to be fully released\n",
    "        time.sleep(2)\n",
    "\n",
    "        print(\"GPU memory has been freed.\")\n",
    "    except Exception as e:\n",
    "        print(f\"Error while freeing GPU memory: {e}\")"
   ]
  },
  {
   "cell_type": "code",
   "execution_count": 38,
   "id": "hGgm2-DrW-ZT",
   "metadata": {
    "id": "hGgm2-DrW-ZT"
   },
   "outputs": [
    {
     "name": "stdout",
     "output_type": "stream",
     "text": [
      "GPU memory has been freed.\n"
     ]
    }
   ],
   "source": [
    "free_gpu_memory()"
   ]
  },
  {
   "cell_type": "code",
   "execution_count": 40,
   "id": "auQKzkqYXExq",
   "metadata": {
    "id": "auQKzkqYXExq"
   },
   "outputs": [
    {
     "data": {
      "application/vnd.jupyter.widget-view+json": {
       "model_id": "efd2d27dc17148cc92da98a8da9e1fab",
       "version_major": 2,
       "version_minor": 0
      },
      "text/plain": [
       "tokenizer_config.json:   0%|          | 0.00/7.30k [00:00<?, ?B/s]"
      ]
     },
     "metadata": {},
     "output_type": "display_data"
    },
    {
     "data": {
      "application/vnd.jupyter.widget-view+json": {
       "model_id": "4c32317b9d9840ea917b5b159c6ddd6e",
       "version_major": 2,
       "version_minor": 0
      },
      "text/plain": [
       "vocab.json:   0%|          | 0.00/2.78M [00:00<?, ?B/s]"
      ]
     },
     "metadata": {},
     "output_type": "display_data"
    },
    {
     "data": {
      "application/vnd.jupyter.widget-view+json": {
       "model_id": "14661b808b4d4f1ea29b3c66c129fa2e",
       "version_major": 2,
       "version_minor": 0
      },
      "text/plain": [
       "merges.txt:   0%|          | 0.00/1.67M [00:00<?, ?B/s]"
      ]
     },
     "metadata": {},
     "output_type": "display_data"
    },
    {
     "data": {
      "application/vnd.jupyter.widget-view+json": {
       "model_id": "4b2efb2ad26a4e01a435f6c3e2ad07eb",
       "version_major": 2,
       "version_minor": 0
      },
      "text/plain": [
       "tokenizer.json:   0%|          | 0.00/7.03M [00:00<?, ?B/s]"
      ]
     },
     "metadata": {},
     "output_type": "display_data"
    }
   ],
   "source": [
    "checkpoint = 'Qwen/Qwen2.5-Coder-14B-Instruct'\n",
    "tokenizer = AutoTokenizer.from_pretrained(checkpoint)"
   ]
  },
  {
   "cell_type": "code",
   "execution_count": 41,
   "id": "_HFL_ReXX12w",
   "metadata": {
    "id": "_HFL_ReXX12w"
   },
   "outputs": [
    {
     "data": {
      "text/plain": [
       "'<|im_end|>'"
      ]
     },
     "execution_count": 41,
     "metadata": {},
     "output_type": "execute_result"
    }
   ],
   "source": [
    "tokenizer.eos_token"
   ]
  },
  {
   "cell_type": "code",
   "execution_count": 42,
   "id": "NMSX9qxMX39Z",
   "metadata": {
    "id": "NMSX9qxMX39Z"
   },
   "outputs": [
    {
     "data": {
      "text/plain": [
       "'<|endoftext|>'"
      ]
     },
     "execution_count": 42,
     "metadata": {},
     "output_type": "execute_result"
    }
   ],
   "source": [
    "tokenizer.pad_token"
   ]
  },
  {
   "cell_type": "code",
   "execution_count": 43,
   "id": "x0Qcb3qrX5b7",
   "metadata": {
    "id": "x0Qcb3qrX5b7"
   },
   "outputs": [
    {
     "data": {
      "text/plain": [
       "'right'"
      ]
     },
     "execution_count": 43,
     "metadata": {},
     "output_type": "execute_result"
    }
   ],
   "source": [
    "tokenizer.padding_side"
   ]
  },
  {
   "cell_type": "code",
   "execution_count": 44,
   "id": "SL50PURSX7EG",
   "metadata": {
    "id": "SL50PURSX7EG"
   },
   "outputs": [
    {
     "data": {
      "text/plain": [
       "'{%- if tools %}\\n    {{- \\'<|im_start|>system\\\\n\\' }}\\n    {%- if messages[0][\\'role\\'] == \\'system\\' %}\\n        {{- messages[0][\\'content\\'] }}\\n    {%- else %}\\n        {{- \\'You are Qwen, created by Alibaba Cloud. You are a helpful assistant.\\' }}\\n    {%- endif %}\\n    {{- \"\\\\n\\\\n# Tools\\\\n\\\\nYou may call one or more functions to assist with the user query.\\\\n\\\\nYou are provided with function signatures within <tools></tools> XML tags:\\\\n<tools>\" }}\\n    {%- for tool in tools %}\\n        {{- \"\\\\n\" }}\\n        {{- tool | tojson }}\\n    {%- endfor %}\\n    {{- \"\\\\n</tools>\\\\n\\\\nFor each function call, return a json object with function name and arguments within <tool_call></tool_call> XML tags:\\\\n<tool_call>\\\\n{\\\\\"name\\\\\": <function-name>, \\\\\"arguments\\\\\": <args-json-object>}\\\\n</tool_call><|im_end|>\\\\n\" }}\\n{%- else %}\\n    {%- if messages[0][\\'role\\'] == \\'system\\' %}\\n        {{- \\'<|im_start|>system\\\\n\\' + messages[0][\\'content\\'] + \\'<|im_end|>\\\\n\\' }}\\n    {%- else %}\\n        {{- \\'<|im_start|>system\\\\nYou are Qwen, created by Alibaba Cloud. You are a helpful assistant.<|im_end|>\\\\n\\' }}\\n    {%- endif %}\\n{%- endif %}\\n{%- for message in messages %}\\n    {%- if (message.role == \"user\") or (message.role == \"system\" and not loop.first) or (message.role == \"assistant\" and not message.tool_calls) %}\\n        {{- \\'<|im_start|>\\' + message.role + \\'\\\\n\\' + message.content + \\'<|im_end|>\\' + \\'\\\\n\\' }}\\n    {%- elif message.role == \"assistant\" %}\\n        {{- \\'<|im_start|>\\' + message.role }}\\n        {%- if message.content %}\\n            {{- \\'\\\\n\\' + message.content }}\\n        {%- endif %}\\n        {%- for tool_call in message.tool_calls %}\\n            {%- if tool_call.function is defined %}\\n                {%- set tool_call = tool_call.function %}\\n            {%- endif %}\\n            {{- \\'\\\\n<tool_call>\\\\n{\"name\": \"\\' }}\\n            {{- tool_call.name }}\\n            {{- \\'\", \"arguments\": \\' }}\\n            {{- tool_call.arguments | tojson }}\\n            {{- \\'}\\\\n</tool_call>\\' }}\\n        {%- endfor %}\\n        {{- \\'<|im_end|>\\\\n\\' }}\\n    {%- elif message.role == \"tool\" %}\\n        {%- if (loop.index0 == 0) or (messages[loop.index0 - 1].role != \"tool\") %}\\n            {{- \\'<|im_start|>user\\' }}\\n        {%- endif %}\\n        {{- \\'\\\\n<tool_response>\\\\n\\' }}\\n        {{- message.content }}\\n        {{- \\'\\\\n</tool_response>\\' }}\\n        {%- if loop.last or (messages[loop.index0 + 1].role != \"tool\") %}\\n            {{- \\'<|im_end|>\\\\n\\' }}\\n        {%- endif %}\\n    {%- endif %}\\n{%- endfor %}\\n{%- if add_generation_prompt %}\\n    {{- \\'<|im_start|>assistant\\\\n\\' }}\\n{%- endif %}\\n'"
      ]
     },
     "execution_count": 44,
     "metadata": {},
     "output_type": "execute_result"
    }
   ],
   "source": [
    "tokenizer.chat_template"
   ]
  },
  {
   "cell_type": "markdown",
   "id": "a56f459a",
   "metadata": {
    "id": "a56f459a"
   },
   "source": [
    "# <font color='purple'>**5. Create prompts**"
   ]
  },
  {
   "cell_type": "code",
   "execution_count": 45,
   "id": "WYH84BfUYDYr",
   "metadata": {
    "id": "WYH84BfUYDYr"
   },
   "outputs": [
    {
     "data": {
      "text/plain": [
       "['anger',\n",
       " 'anticipation',\n",
       " 'disgust',\n",
       " 'fear',\n",
       " 'joy',\n",
       " 'love',\n",
       " 'optimism',\n",
       " 'pessimism',\n",
       " 'sadness',\n",
       " 'surprise',\n",
       " 'trust']"
      ]
     },
     "execution_count": 45,
     "metadata": {},
     "output_type": "execute_result"
    }
   ],
   "source": [
    "class_names"
   ]
  },
  {
   "cell_type": "code",
   "execution_count": 46,
   "id": "sjm-dS5NYEIE",
   "metadata": {
    "id": "sjm-dS5NYEIE"
   },
   "outputs": [],
   "source": [
    "def format_chat(example):\n",
    "    instruction = f\"Classify the TEXT by selecting all applicable labels from the following list: {class_names}.\\n\\nTEXT: {example['text']}\"\n",
    "    messages = [\n",
    "        {\"role\": \"user\", \"content\": instruction},\n",
    "        {\"role\": \"assistant\", \"content\": f\"{example['label']}\"}\n",
    "    ]\n",
    "    return {\"text\": tokenizer.apply_chat_template(messages, tokenize=False)}"
   ]
  },
  {
   "cell_type": "code",
   "execution_count": 47,
   "id": "eL-coS4sYHaP",
   "metadata": {
    "id": "eL-coS4sYHaP"
   },
   "outputs": [
    {
     "data": {
      "application/vnd.jupyter.widget-view+json": {
       "model_id": "74c6a264d9c047c5810182020f316a01",
       "version_major": 2,
       "version_minor": 0
      },
      "text/plain": [
       "Map:   0%|          | 0/6951 [00:00<?, ? examples/s]"
      ]
     },
     "metadata": {},
     "output_type": "display_data"
    },
    {
     "data": {
      "application/vnd.jupyter.widget-view+json": {
       "model_id": "94d87f41eec54c2daa5c745fe03bfac1",
       "version_major": 2,
       "version_minor": 0
      },
      "text/plain": [
       "Map:   0%|          | 0/773 [00:00<?, ? examples/s]"
      ]
     },
     "metadata": {},
     "output_type": "display_data"
    }
   ],
   "source": [
    "train_val_subset_chat = train_val.map(format_chat)"
   ]
  },
  {
   "cell_type": "code",
   "execution_count": 48,
   "id": "JJOvvGvOYI3-",
   "metadata": {
    "id": "JJOvvGvOYI3-"
   },
   "outputs": [
    {
     "data": {
      "text/plain": [
       "DatasetDict({\n",
       "    train: Dataset({\n",
       "        features: ['text', 'label'],\n",
       "        num_rows: 6951\n",
       "    })\n",
       "    valid: Dataset({\n",
       "        features: ['text', 'label'],\n",
       "        num_rows: 773\n",
       "    })\n",
       "})"
      ]
     },
     "execution_count": 48,
     "metadata": {},
     "output_type": "execute_result"
    }
   ],
   "source": [
    "train_val_subset_chat"
   ]
  },
  {
   "cell_type": "code",
   "execution_count": 49,
   "id": "aaL90YBkYKYk",
   "metadata": {
    "id": "aaL90YBkYKYk"
   },
   "outputs": [
    {
     "data": {
      "text/plain": [
       "{'text': \"<|im_start|>system\\nYou are Qwen, created by Alibaba Cloud. You are a helpful assistant.<|im_end|>\\n<|im_start|>user\\nClassify the TEXT by selecting all applicable labels from the following list: ['anger', 'anticipation', 'disgust', 'fear', 'joy', 'love', 'optimism', 'pessimism', 'sadness', 'surprise', 'trust'].\\n\\nTEXT: “Worry is a down payment on a problem you may never have'. \\xa0Joyce Meyer.  #motivation #leadership #worry<|im_end|>\\n<|im_start|>assistant\\n['anticipation', 'optimism', 'trust']<|im_end|>\\n\",\n",
       " 'label': ['anticipation', 'optimism', 'trust']}"
      ]
     },
     "execution_count": 49,
     "metadata": {},
     "output_type": "execute_result"
    }
   ],
   "source": [
    "train_val_subset_chat['train'][0]"
   ]
  },
  {
   "cell_type": "markdown",
   "id": "WEJXhbRcSAsl",
   "metadata": {
    "id": "WEJXhbRcSAsl"
   },
   "source": [
    "## <font color='purple'>**5.1 Filter Long Sequences**"
   ]
  },
  {
   "cell_type": "code",
   "execution_count": 50,
   "id": "YqSYKcc-YMtR",
   "metadata": {
    "id": "YqSYKcc-YMtR"
   },
   "outputs": [
    {
     "data": {
      "application/vnd.jupyter.widget-view+json": {
       "model_id": "29111e7ed54a4991982ea2e5504a6abb",
       "version_major": 2,
       "version_minor": 0
      },
      "text/plain": [
       "Filter:   0%|          | 0/6951 [00:00<?, ? examples/s]"
      ]
     },
     "metadata": {},
     "output_type": "display_data"
    },
    {
     "data": {
      "application/vnd.jupyter.widget-view+json": {
       "model_id": "15fd6f11183148358d0dcad8d688ef1d",
       "version_major": 2,
       "version_minor": 0
      },
      "text/plain": [
       "Filter:   0%|          | 0/773 [00:00<?, ? examples/s]"
      ]
     },
     "metadata": {},
     "output_type": "display_data"
    },
    {
     "name": "stdout",
     "output_type": "stream",
     "text": [
      "Train: 6951 -> 6951\n",
      "Valid: 773 -> 773\n"
     ]
    }
   ],
   "source": [
    "def check_length(example):\n",
    "   encoding = tokenizer.encode(example['text'])\n",
    "   return len(encoding) <= 1000\n",
    "\n",
    "train_filtered = train_val_subset_chat['train'].filter(check_length)\n",
    "valid_filtered = train_val_subset_chat['valid'].filter(check_length)\n",
    "\n",
    "print(f\"Train: {len(train_val_subset_chat['train'])} -> {len(train_filtered)}\")\n",
    "print(f\"Valid: {len(train_val_subset_chat['valid'])} -> {len(valid_filtered)}\")"
   ]
  },
  {
   "cell_type": "markdown",
   "id": "a8cb50cc",
   "metadata": {
    "id": "a8cb50cc"
   },
   "source": [
    "# <font color='purple'>**6. Train the Model**"
   ]
  },
  {
   "cell_type": "markdown",
   "id": "e5cf8042",
   "metadata": {
    "id": "e5cf8042"
   },
   "source": [
    "## <font color='purple'>**6.1 Download the Model**"
   ]
  },
  {
   "cell_type": "code",
   "execution_count": 51,
   "id": "u41nIWt9YPWA",
   "metadata": {
    "id": "u41nIWt9YPWA"
   },
   "outputs": [],
   "source": [
    "def get_appropriate_dtype():\n",
    "    if torch.cuda.is_available() and torch.cuda.get_device_capability(0) >= (8, 0):\n",
    "        return torch.bfloat16\n",
    "    return torch.float16"
   ]
  },
  {
   "cell_type": "code",
   "execution_count": 52,
   "id": "RKAAILDuYRDJ",
   "metadata": {
    "id": "RKAAILDuYRDJ"
   },
   "outputs": [
    {
     "data": {
      "text/plain": [
       "torch.bfloat16"
      ]
     },
     "execution_count": 52,
     "metadata": {},
     "output_type": "execute_result"
    }
   ],
   "source": [
    "torch_data_type = get_appropriate_dtype()\n",
    "torch_data_type"
   ]
  },
  {
   "cell_type": "code",
   "execution_count": 53,
   "id": "2LfGwGREYS9j",
   "metadata": {
    "id": "2LfGwGREYS9j"
   },
   "outputs": [],
   "source": [
    "bnb_config = BitsAndBytesConfig(\n",
    "  load_in_4bit=True,\n",
    "  bnb_4bit_quant_type=\"nf4\",\n",
    "  bnb_4bit_use_double_quant=True,\n",
    "  bnb_4bit_compute_dtype=torch_data_type,\n",
    "  bnb_4bit_quant_storage=torch_data_type,\n",
    ")"
   ]
  },
  {
   "cell_type": "code",
   "execution_count": 54,
   "id": "xYm1Zu9tYU3I",
   "metadata": {
    "id": "xYm1Zu9tYU3I"
   },
   "outputs": [
    {
     "data": {
      "application/vnd.jupyter.widget-view+json": {
       "model_id": "c8ab6e0689984e64bdc6956ce9c8aecc",
       "version_major": 2,
       "version_minor": 0
      },
      "text/plain": [
       "config.json:   0%|          | 0.00/663 [00:00<?, ?B/s]"
      ]
     },
     "metadata": {},
     "output_type": "display_data"
    },
    {
     "name": "stderr",
     "output_type": "stream",
     "text": [
      "`low_cpu_mem_usage` was None, now default to True since model is quantized.\n"
     ]
    },
    {
     "data": {
      "application/vnd.jupyter.widget-view+json": {
       "model_id": "4d4e10d74079425988772fdb62d4af49",
       "version_major": 2,
       "version_minor": 0
      },
      "text/plain": [
       "model.safetensors.index.json:   0%|          | 0.00/47.5k [00:00<?, ?B/s]"
      ]
     },
     "metadata": {},
     "output_type": "display_data"
    },
    {
     "data": {
      "application/vnd.jupyter.widget-view+json": {
       "model_id": "c9854431202a42f1b7c19198de3db42f",
       "version_major": 2,
       "version_minor": 0
      },
      "text/plain": [
       "Downloading shards:   0%|          | 0/6 [00:00<?, ?it/s]"
      ]
     },
     "metadata": {},
     "output_type": "display_data"
    },
    {
     "data": {
      "application/vnd.jupyter.widget-view+json": {
       "model_id": "f8c385a9bf4c44b4933b7414b39f6eb7",
       "version_major": 2,
       "version_minor": 0
      },
      "text/plain": [
       "model-00001-of-00006.safetensors:   0%|          | 0.00/4.99G [00:00<?, ?B/s]"
      ]
     },
     "metadata": {},
     "output_type": "display_data"
    },
    {
     "data": {
      "application/vnd.jupyter.widget-view+json": {
       "model_id": "16e871abf81b4e05925a66db9f6be3e4",
       "version_major": 2,
       "version_minor": 0
      },
      "text/plain": [
       "model-00002-of-00006.safetensors:   0%|          | 0.00/4.95G [00:00<?, ?B/s]"
      ]
     },
     "metadata": {},
     "output_type": "display_data"
    },
    {
     "data": {
      "application/vnd.jupyter.widget-view+json": {
       "model_id": "aef8459df90041b996b2071a8349de02",
       "version_major": 2,
       "version_minor": 0
      },
      "text/plain": [
       "model-00003-of-00006.safetensors:   0%|          | 0.00/4.95G [00:00<?, ?B/s]"
      ]
     },
     "metadata": {},
     "output_type": "display_data"
    },
    {
     "data": {
      "application/vnd.jupyter.widget-view+json": {
       "model_id": "f7315f851e454557af29aedef55afa13",
       "version_major": 2,
       "version_minor": 0
      },
      "text/plain": [
       "model-00004-of-00006.safetensors:   0%|          | 0.00/4.95G [00:00<?, ?B/s]"
      ]
     },
     "metadata": {},
     "output_type": "display_data"
    },
    {
     "data": {
      "application/vnd.jupyter.widget-view+json": {
       "model_id": "b91633a18b7b441687b157182926d96f",
       "version_major": 2,
       "version_minor": 0
      },
      "text/plain": [
       "model-00005-of-00006.safetensors:   0%|          | 0.00/4.95G [00:00<?, ?B/s]"
      ]
     },
     "metadata": {},
     "output_type": "display_data"
    },
    {
     "data": {
      "application/vnd.jupyter.widget-view+json": {
       "model_id": "55d0c5a1aa5e4514a2b0bb6c42362dec",
       "version_major": 2,
       "version_minor": 0
      },
      "text/plain": [
       "model-00006-of-00006.safetensors:   0%|          | 0.00/4.73G [00:00<?, ?B/s]"
      ]
     },
     "metadata": {},
     "output_type": "display_data"
    },
    {
     "data": {
      "application/vnd.jupyter.widget-view+json": {
       "model_id": "524630594d4c4adc9f62e2467c32e18d",
       "version_major": 2,
       "version_minor": 0
      },
      "text/plain": [
       "Loading checkpoint shards:   0%|          | 0/6 [00:00<?, ?it/s]"
      ]
     },
     "metadata": {},
     "output_type": "display_data"
    },
    {
     "data": {
      "application/vnd.jupyter.widget-view+json": {
       "model_id": "825adcc459134a5fa66710430d6f1204",
       "version_major": 2,
       "version_minor": 0
      },
      "text/plain": [
       "generation_config.json:   0%|          | 0.00/243 [00:00<?, ?B/s]"
      ]
     },
     "metadata": {},
     "output_type": "display_data"
    }
   ],
   "source": [
    "model = AutoModelForCausalLM.from_pretrained(checkpoint,\n",
    "                                             quantization_config=bnb_config,\n",
    "                                             torch_dtype=torch_data_type,\n",
    "                                             trust_remote_code=True,\n",
    "                                            )"
   ]
  },
  {
   "cell_type": "markdown",
   "id": "67f9198f",
   "metadata": {
    "id": "67f9198f"
   },
   "source": [
    "## <font color='purple'>**6.2 PEFT setup**"
   ]
  },
  {
   "cell_type": "code",
   "execution_count": 55,
   "id": "Bwc6BrLDYsZY",
   "metadata": {
    "id": "Bwc6BrLDYsZY"
   },
   "outputs": [
    {
     "data": {
      "text/plain": [
       "Qwen2ForCausalLM(\n",
       "  (model): Qwen2Model(\n",
       "    (embed_tokens): Embedding(152064, 5120)\n",
       "    (layers): ModuleList(\n",
       "      (0-47): 48 x Qwen2DecoderLayer(\n",
       "        (self_attn): Qwen2SdpaAttention(\n",
       "          (q_proj): Linear4bit(in_features=5120, out_features=5120, bias=True)\n",
       "          (k_proj): Linear4bit(in_features=5120, out_features=1024, bias=True)\n",
       "          (v_proj): Linear4bit(in_features=5120, out_features=1024, bias=True)\n",
       "          (o_proj): Linear4bit(in_features=5120, out_features=5120, bias=False)\n",
       "          (rotary_emb): Qwen2RotaryEmbedding()\n",
       "        )\n",
       "        (mlp): Qwen2MLP(\n",
       "          (gate_proj): Linear4bit(in_features=5120, out_features=13824, bias=False)\n",
       "          (up_proj): Linear4bit(in_features=5120, out_features=13824, bias=False)\n",
       "          (down_proj): Linear4bit(in_features=13824, out_features=5120, bias=False)\n",
       "          (act_fn): SiLU()\n",
       "        )\n",
       "        (input_layernorm): Qwen2RMSNorm((5120,), eps=1e-06)\n",
       "        (post_attention_layernorm): Qwen2RMSNorm((5120,), eps=1e-06)\n",
       "      )\n",
       "    )\n",
       "    (norm): Qwen2RMSNorm((5120,), eps=1e-06)\n",
       "    (rotary_emb): Qwen2RotaryEmbedding()\n",
       "  )\n",
       "  (lm_head): Linear(in_features=5120, out_features=152064, bias=False)\n",
       ")"
      ]
     },
     "execution_count": 55,
     "metadata": {},
     "output_type": "execute_result"
    }
   ],
   "source": [
    "model"
   ]
  },
  {
   "cell_type": "code",
   "execution_count": 56,
   "id": "7bwYFBdhYs6M",
   "metadata": {
    "id": "7bwYFBdhYs6M"
   },
   "outputs": [],
   "source": [
    "def find_linear_layers(model):\n",
    "    \"\"\"\n",
    "    Extracts the unique names of Linear layers from a model.\n",
    "\n",
    "    Args:\n",
    "    model (nn.Module): The model from which to extract Linear layer names.\n",
    "\n",
    "    Returns:\n",
    "    list: A list of unique names of Linear layers.\n",
    "    \"\"\"\n",
    "    # Convert the model's modules to string\n",
    "    model_modules = str(model.modules)\n",
    "    # Pattern to extract names of Linear layers\n",
    "    pattern = r'\\((\\w+)\\): Linear'\n",
    "    # Find all occurrences of the pattern\n",
    "    linear_layer_names = re.findall(pattern, model_modules)\n",
    "    print(linear_layer_names)\n",
    "    # Get unique names using a set, then convert back to list\n",
    "    target_modules = list(set(linear_layer_names))\n",
    "    return target_modules"
   ]
  },
  {
   "cell_type": "code",
   "execution_count": 57,
   "id": "b8HLTc_uYwoN",
   "metadata": {
    "id": "b8HLTc_uYwoN"
   },
   "outputs": [
    {
     "name": "stdout",
     "output_type": "stream",
     "text": [
      "['q_proj', 'k_proj', 'v_proj', 'o_proj', 'gate_proj', 'up_proj', 'down_proj', 'lm_head']\n"
     ]
    },
    {
     "data": {
      "text/plain": [
       "['gate_proj',\n",
       " 'k_proj',\n",
       " 'o_proj',\n",
       " 'up_proj',\n",
       " 'down_proj',\n",
       " 'q_proj',\n",
       " 'lm_head',\n",
       " 'v_proj']"
      ]
     },
     "execution_count": 57,
     "metadata": {},
     "output_type": "execute_result"
    }
   ],
   "source": [
    "find_linear_layers(model)"
   ]
  },
  {
   "cell_type": "code",
   "execution_count": 58,
   "id": "9XrlEDJ8Yxtu",
   "metadata": {
    "id": "9XrlEDJ8Yxtu"
   },
   "outputs": [
    {
     "data": {
      "text/plain": [
       "<TaskType.CAUSAL_LM: 'CAUSAL_LM'>"
      ]
     },
     "execution_count": 58,
     "metadata": {},
     "output_type": "execute_result"
    }
   ],
   "source": [
    "TaskType.CAUSAL_LM"
   ]
  },
  {
   "cell_type": "code",
   "execution_count": 59,
   "id": "Wc92sVa0Y2Wo",
   "metadata": {
    "id": "Wc92sVa0Y2Wo"
   },
   "outputs": [
    {
     "name": "stdout",
     "output_type": "stream",
     "text": [
      "trainable params: 550,502,400 || all params: 15,320,536,064 || trainable%: 3.5932\n"
     ]
    }
   ],
   "source": [
    "peft_config = LoraConfig(\n",
    "    task_type=TaskType.CAUSAL_LM,\n",
    "    r=128,\n",
    "    lora_alpha=256,\n",
    "    lora_dropout=0.01,\n",
    "    target_modules = ['v_proj',  'q_proj',  'up_proj', 'o_proj', 'down_proj', 'gate_proj','k_proj'])\n",
    "\n",
    "lora_model = get_peft_model(model, peft_config )\n",
    "# qlora_model.resize_token_embeddings(len(tokenizer))\n",
    "lora_model.print_trainable_parameters()"
   ]
  },
  {
   "cell_type": "markdown",
   "id": "ce31c25e",
   "metadata": {
    "id": "ce31c25e"
   },
   "source": [
    "## <font color='purple'>**6.3 Define Training Arguments**"
   ]
  },
  {
   "cell_type": "code",
   "execution_count": 60,
   "id": "LVfKQaqEZWyM",
   "metadata": {
    "id": "LVfKQaqEZWyM"
   },
   "outputs": [],
   "source": [
    "run_name = 'QWEN-14B-it-emotion-exp1'\n",
    "use_fp16 = torch_data_type == torch.float16\n",
    "use_bf16 = torch_data_type == torch.bfloat16\n",
    "\n",
    "# Configure training parameters\n",
    "training_args = SFTConfig(\n",
    "    seed = 42,\n",
    "    # Training-specific configurations\n",
    "    num_train_epochs=3,  # Total number of training epochs\n",
    "    # Number of samples per training batch for each device\n",
    "    per_device_train_batch_size=16,\n",
    "    # Number of samples per evaluation batch for each device\n",
    "    per_device_eval_batch_size=16,\n",
    "    gradient_accumulation_steps=2,\n",
    "    gradient_checkpointing=True,\n",
    "    gradient_checkpointing_kwargs={\"use_reentrant\":False},\n",
    "    # torch_empty_cache_steps=5,\n",
    "    weight_decay=0.01,  # Apply L2 regularization to prevent overfitting\n",
    "    learning_rate=5e-5,  # Step size for the optimizer during training\n",
    "    optim='adamw_torch',  # Optimizer,\n",
    "\n",
    "    # Checkpoint saving and model evaluation settings\n",
    "    output_dir=str(model_folder),  # Directory to save model checkpoints\n",
    "    eval_strategy='steps',  # Evaluate model at specified step intervals\n",
    "    eval_steps=100,  # Perform evaluation every 10 training steps\n",
    "    save_strategy=\"steps\",  # Save model checkpoint at specified step intervals\n",
    "    save_steps=100,  # Save a model checkpoint every 10 training steps\n",
    "    load_best_model_at_end=True,  # Reload the best model at the end of training\n",
    "    save_total_limit=2,  # Retain only the best and the most recent model checkpoints\n",
    "    # Use 'accuracy' as the metric to determine the best model\n",
    "    metric_for_best_model=\"eval_loss\",\n",
    "    greater_is_better=False,  # A model is 'better' if its accuracy is higher\n",
    "    lr_scheduler_type = 'linear', # linear learning rate scheduler\n",
    "    warmup_steps = 200, #200 warmup steps\n",
    "\n",
    "\n",
    "    # Experiment logging configurations (commented out in this example)\n",
    "    logging_strategy='steps',\n",
    "    logging_steps=100,\n",
    "    report_to='wandb',  # Log metrics and results to Weights & Biases platform\n",
    "    run_name= run_name,  # Experiment name for Weights & Biases\n",
    "\n",
    "    # Precision settings determined based on GPU capability\n",
    "    fp16=use_fp16 ,  # Set True if torch_data_type is torch.float16\n",
    "    bf16=use_bf16,  # Set True if torch_data_type is torch.bfloat16\n",
    "    tf32=False,  # Disable tf32 unless you want to use Ampere specific optimization\n",
    ")"
   ]
  },
  {
   "cell_type": "code",
   "execution_count": 61,
   "id": "omboVs6GZfNv",
   "metadata": {
    "id": "omboVs6GZfNv"
   },
   "outputs": [
    {
     "data": {
      "text/plain": [
       "Qwen2Config {\n",
       "  \"_attn_implementation_autoset\": true,\n",
       "  \"_name_or_path\": \"Qwen/Qwen2.5-Coder-14B-Instruct\",\n",
       "  \"architectures\": [\n",
       "    \"Qwen2ForCausalLM\"\n",
       "  ],\n",
       "  \"attention_dropout\": 0.0,\n",
       "  \"bos_token_id\": 151643,\n",
       "  \"eos_token_id\": 151645,\n",
       "  \"hidden_act\": \"silu\",\n",
       "  \"hidden_size\": 5120,\n",
       "  \"initializer_range\": 0.02,\n",
       "  \"intermediate_size\": 13824,\n",
       "  \"max_position_embeddings\": 32768,\n",
       "  \"max_window_layers\": 48,\n",
       "  \"model_type\": \"qwen2\",\n",
       "  \"num_attention_heads\": 40,\n",
       "  \"num_hidden_layers\": 48,\n",
       "  \"num_key_value_heads\": 8,\n",
       "  \"quantization_config\": {\n",
       "    \"_load_in_4bit\": true,\n",
       "    \"_load_in_8bit\": false,\n",
       "    \"bnb_4bit_compute_dtype\": \"bfloat16\",\n",
       "    \"bnb_4bit_quant_storage\": \"bfloat16\",\n",
       "    \"bnb_4bit_quant_type\": \"nf4\",\n",
       "    \"bnb_4bit_use_double_quant\": true,\n",
       "    \"llm_int8_enable_fp32_cpu_offload\": false,\n",
       "    \"llm_int8_has_fp16_weight\": false,\n",
       "    \"llm_int8_skip_modules\": null,\n",
       "    \"llm_int8_threshold\": 6.0,\n",
       "    \"load_in_4bit\": true,\n",
       "    \"load_in_8bit\": false,\n",
       "    \"quant_method\": \"bitsandbytes\"\n",
       "  },\n",
       "  \"rms_norm_eps\": 1e-06,\n",
       "  \"rope_scaling\": null,\n",
       "  \"rope_theta\": 1000000.0,\n",
       "  \"sliding_window\": null,\n",
       "  \"tie_word_embeddings\": false,\n",
       "  \"torch_dtype\": \"bfloat16\",\n",
       "  \"transformers_version\": \"4.46.3\",\n",
       "  \"use_cache\": false,\n",
       "  \"use_sliding_window\": false,\n",
       "  \"vocab_size\": 152064\n",
       "}"
      ]
     },
     "execution_count": 61,
     "metadata": {},
     "output_type": "execute_result"
    }
   ],
   "source": [
    "# If gradient checkpointing is enabled, configure relevant settings\n",
    "if training_args.gradient_checkpointing:\n",
    "    model.config.use_cache = False  # Disable caching for compatibility\n",
    "\n",
    "model.config"
   ]
  },
  {
   "cell_type": "markdown",
   "id": "7f06cc58",
   "metadata": {
    "id": "7f06cc58"
   },
   "source": [
    "## <font color='purple'>**6.4 Instantiate the Trainer**"
   ]
  },
  {
   "cell_type": "code",
   "execution_count": 62,
   "id": "NH3ex2RfZmN5",
   "metadata": {
    "id": "NH3ex2RfZmN5"
   },
   "outputs": [
    {
     "name": "stderr",
     "output_type": "stream",
     "text": [
      "/root/miniconda/envs/colab_env/lib/python3.10/site-packages/trl/trainer/sft_trainer.py:309: UserWarning: You didn't pass a `max_seq_length` argument to the SFTTrainer, this will default to 1024\n",
      "  warnings.warn(\n"
     ]
    },
    {
     "data": {
      "application/vnd.jupyter.widget-view+json": {
       "model_id": "6ee1e466d15249fb9d311f542d7a8e09",
       "version_major": 2,
       "version_minor": 0
      },
      "text/plain": [
       "Map:   0%|          | 0/6951 [00:00<?, ? examples/s]"
      ]
     },
     "metadata": {},
     "output_type": "display_data"
    },
    {
     "data": {
      "application/vnd.jupyter.widget-view+json": {
       "model_id": "bbf5779189ec43b38207f4a1a05f625c",
       "version_major": 2,
       "version_minor": 0
      },
      "text/plain": [
       "Map:   0%|          | 0/773 [00:00<?, ? examples/s]"
      ]
     },
     "metadata": {},
     "output_type": "display_data"
    }
   ],
   "source": [
    "# pushing the model to the gpu to prep for training\n",
    "data_collator_comp = DataCollatorForCompletionOnlyLM(tokenizer=tokenizer, mlm=False,\n",
    "                                                      response_template=\"<|im_start|>assistant\\n\")\n",
    "trainer = SFTTrainer(\n",
    "    model=model,\n",
    "    args=training_args,\n",
    "    train_dataset=train_filtered,\n",
    "    eval_dataset=valid_filtered,\n",
    "\n",
    "    peft_config=peft_config,\n",
    "    packing=False,\n",
    "    data_collator=data_collator_comp,\n",
    "\n",
    ")"
   ]
  },
  {
   "cell_type": "markdown",
   "id": "053bf079",
   "metadata": {
    "id": "053bf079"
   },
   "source": [
    "## <font color='purple'>**6.5 Setup Weights & Biases (WANDB)**"
   ]
  },
  {
   "cell_type": "code",
   "execution_count": 63,
   "id": "yyTv4FVyZ7Cs",
   "metadata": {
    "id": "yyTv4FVyZ7Cs"
   },
   "outputs": [
    {
     "name": "stdout",
     "output_type": "stream",
     "text": [
      "env: WANDB_PROJECT=qwen_14B_it_multilabel\n"
     ]
    }
   ],
   "source": [
    "%env WANDB_PROJECT = qwen_14B_it_multilabel"
   ]
  },
  {
   "cell_type": "markdown",
   "id": "07d90b08",
   "metadata": {
    "id": "07d90b08"
   },
   "source": [
    "## <font color='purple'>**6.6 Training and Validation**"
   ]
  },
  {
   "cell_type": "code",
   "execution_count": 64,
   "id": "DHc9Q5VjaGzC",
   "metadata": {
    "id": "DHc9Q5VjaGzC"
   },
   "outputs": [
    {
     "data": {
      "text/html": [
       "Changes to your `wandb` environment variables will be ignored because your `wandb` session has already started. For more information on how to modify your settings with `wandb.init()` arguments, please refer to <a href='https://wandb.me/wandb-init' target=\"_blank\">the W&B docs</a>."
      ],
      "text/plain": [
       "<IPython.core.display.HTML object>"
      ]
     },
     "metadata": {},
     "output_type": "display_data"
    },
    {
     "data": {
      "text/html": [
       "Tracking run with wandb version 0.19.1"
      ],
      "text/plain": [
       "<IPython.core.display.HTML object>"
      ]
     },
     "metadata": {},
     "output_type": "display_data"
    },
    {
     "data": {
      "text/html": [
       "Run data is saved locally in <code>/workspace/wandb/run-20241213_162047-s4sbgew4</code>"
      ],
      "text/plain": [
       "<IPython.core.display.HTML object>"
      ]
     },
     "metadata": {},
     "output_type": "display_data"
    },
    {
     "data": {
      "text/html": [
       "Syncing run <strong><a href='https://wandb.ai/the-steven-e-the-university-of-texas-at-dallas/qwen_14B_it_multilabel/runs/s4sbgew4' target=\"_blank\">QWEN-14B-it-emotion-exp1</a></strong> to <a href='https://wandb.ai/the-steven-e-the-university-of-texas-at-dallas/qwen_14B_it_multilabel' target=\"_blank\">Weights & Biases</a> (<a href='https://wandb.me/developer-guide' target=\"_blank\">docs</a>)<br>"
      ],
      "text/plain": [
       "<IPython.core.display.HTML object>"
      ]
     },
     "metadata": {},
     "output_type": "display_data"
    },
    {
     "data": {
      "text/html": [
       " View project at <a href='https://wandb.ai/the-steven-e-the-university-of-texas-at-dallas/qwen_14B_it_multilabel' target=\"_blank\">https://wandb.ai/the-steven-e-the-university-of-texas-at-dallas/qwen_14B_it_multilabel</a>"
      ],
      "text/plain": [
       "<IPython.core.display.HTML object>"
      ]
     },
     "metadata": {},
     "output_type": "display_data"
    },
    {
     "data": {
      "text/html": [
       " View run at <a href='https://wandb.ai/the-steven-e-the-university-of-texas-at-dallas/qwen_14B_it_multilabel/runs/s4sbgew4' target=\"_blank\">https://wandb.ai/the-steven-e-the-university-of-texas-at-dallas/qwen_14B_it_multilabel/runs/s4sbgew4</a>"
      ],
      "text/plain": [
       "<IPython.core.display.HTML object>"
      ]
     },
     "metadata": {},
     "output_type": "display_data"
    },
    {
     "data": {
      "text/html": [
       "\n",
       "    <div>\n",
       "      \n",
       "      <progress value='651' max='651' style='width:300px; height:20px; vertical-align: middle;'></progress>\n",
       "      [651/651 55:51, Epoch 2/3]\n",
       "    </div>\n",
       "    <table border=\"1\" class=\"dataframe\">\n",
       "  <thead>\n",
       " <tr style=\"text-align: left;\">\n",
       "      <th>Step</th>\n",
       "      <th>Training Loss</th>\n",
       "      <th>Validation Loss</th>\n",
       "    </tr>\n",
       "  </thead>\n",
       "  <tbody>\n",
       "    <tr>\n",
       "      <td>100</td>\n",
       "      <td>0.356600</td>\n",
       "      <td>0.286029</td>\n",
       "    </tr>\n",
       "    <tr>\n",
       "      <td>200</td>\n",
       "      <td>0.278100</td>\n",
       "      <td>0.273715</td>\n",
       "    </tr>\n",
       "    <tr>\n",
       "      <td>300</td>\n",
       "      <td>0.259700</td>\n",
       "      <td>0.258845</td>\n",
       "    </tr>\n",
       "    <tr>\n",
       "      <td>400</td>\n",
       "      <td>0.246000</td>\n",
       "      <td>0.260853</td>\n",
       "    </tr>\n",
       "    <tr>\n",
       "      <td>500</td>\n",
       "      <td>0.220900</td>\n",
       "      <td>0.268843</td>\n",
       "    </tr>\n",
       "    <tr>\n",
       "      <td>600</td>\n",
       "      <td>0.200900</td>\n",
       "      <td>0.267495</td>\n",
       "    </tr>\n",
       "  </tbody>\n",
       "</table><p>"
      ],
      "text/plain": [
       "<IPython.core.display.HTML object>"
      ]
     },
     "metadata": {},
     "output_type": "display_data"
    }
   ],
   "source": [
    "try:\n",
    "    # Your code that may cause a CUDA out-of-memory error\n",
    "    # Example: trainer.train() or other GPU intensive operations\n",
    "    # lora_model.config.use_cache = False\n",
    "    trainer.train()\n",
    "except RuntimeError as e:\n",
    "    if 'CUDA out of memory' in str(e):\n",
    "        print(\"CUDA out of memory error detected. Freeing GPU memory.\")\n",
    "        free_gpu_memory()\n",
    "        # Optionally, you can retry the operation here after freeing up memory\n",
    "        # Example retry:\n",
    "        # trainer.train()\n",
    "    else:\n",
    "        raise e"
   ]
  },
  {
   "cell_type": "code",
   "execution_count": 65,
   "id": "yqXwQ0O0aIwU",
   "metadata": {
    "id": "yqXwQ0O0aIwU"
   },
   "outputs": [],
   "source": [
    "best_model_checkpoint_step = trainer.state.best_model_checkpoint.split('-')[-1]"
   ]
  },
  {
   "cell_type": "code",
   "execution_count": 66,
   "id": "3Qm75jtTaKKr",
   "metadata": {
    "id": "3Qm75jtTaKKr"
   },
   "outputs": [
    {
     "data": {
      "text/plain": [
       "'300'"
      ]
     },
     "execution_count": 66,
     "metadata": {},
     "output_type": "execute_result"
    }
   ],
   "source": [
    "best_model_checkpoint_step"
   ]
  },
  {
   "cell_type": "code",
   "execution_count": 68,
   "id": "61bbcb07-d57e-4183-b425-38d80b9cb1e7",
   "metadata": {},
   "outputs": [],
   "source": [
    "from peft import AutoPeftModelForCausalLM, PeftConfig"
   ]
  },
  {
   "cell_type": "code",
   "execution_count": 69,
   "id": "J6SKCadTaOjL",
   "metadata": {
    "id": "J6SKCadTaOjL"
   },
   "outputs": [
    {
     "name": "stderr",
     "output_type": "stream",
     "text": [
      "`low_cpu_mem_usage` was None, now default to True since model is quantized.\n"
     ]
    },
    {
     "data": {
      "application/vnd.jupyter.widget-view+json": {
       "model_id": "fb9c9b02c10f465480905ff77199fd35",
       "version_major": 2,
       "version_minor": 0
      },
      "text/plain": [
       "Loading checkpoint shards:   0%|          | 0/6 [00:00<?, ?it/s]"
      ]
     },
     "metadata": {},
     "output_type": "display_data"
    }
   ],
   "source": [
    "model_folder = model_folder\n",
    "best_model_checkpoint_step\n",
    "checkpoint = str(model_folder/f'checkpoint-{best_model_checkpoint_step}')\n",
    "model = AutoPeftModelForCausalLM.from_pretrained(checkpoint,\n",
    "                                             quantization_config=bnb_config,\n",
    "                                             torch_dtype=torch_data_type,\n",
    "                                             trust_remote_code=True,\n",
    "                                             )\n",
    "peft_config = PeftConfig.from_pretrained(checkpoint)\n",
    "base_model_name = peft_config.base_model_name_or_path\n",
    "tokenizer = AutoTokenizer.from_pretrained(base_model_name)\n",
    "tokenizer.padding_side = 'left'"
   ]
  },
  {
   "cell_type": "code",
   "execution_count": 70,
   "id": "DTjK8tBYaQyp",
   "metadata": {
    "id": "DTjK8tBYaQyp"
   },
   "outputs": [],
   "source": [
    "def format_chat_inference(example):\n",
    "    instruction = f\"Classify the TEXT by selecting all applicable labels from the following list: {class_names}.\\n\\nTEXT: {example['text']}\"\n",
    "    messages = [\n",
    "        {\"role\": \"user\", \"content\": instruction},\n",
    "    ]\n",
    "    text = tokenizer.apply_chat_template(messages, tokenize=False, add_generation_prompt=True)\n",
    "    return {\"text\": text}"
   ]
  },
  {
   "cell_type": "code",
   "execution_count": 72,
   "id": "MruqPBhmaVfL",
   "metadata": {
    "id": "MruqPBhmaVfL"
   },
   "outputs": [
    {
     "data": {
      "application/vnd.jupyter.widget-view+json": {
       "model_id": "bca53730cd7f4d839050bc3a8d5dc0a5",
       "version_major": 2,
       "version_minor": 0
      },
      "text/plain": [
       "Map:   0%|          | 0/773 [00:00<?, ? examples/s]"
      ]
     },
     "metadata": {},
     "output_type": "display_data"
    }
   ],
   "source": [
    "valid_subset= train_val['valid'].map(format_chat_inference)"
   ]
  },
  {
   "cell_type": "code",
   "execution_count": 73,
   "id": "OHOjB4vzaXTk",
   "metadata": {
    "id": "OHOjB4vzaXTk"
   },
   "outputs": [
    {
     "data": {
      "application/vnd.jupyter.widget-view+json": {
       "model_id": "f0148493a5db4815808eb15cb61b39d1",
       "version_major": 2,
       "version_minor": 0
      },
      "text/plain": [
       "Filter:   0%|          | 0/773 [00:00<?, ? examples/s]"
      ]
     },
     "metadata": {},
     "output_type": "display_data"
    }
   ],
   "source": [
    "valid_filtered = valid_subset.filter(check_length)"
   ]
  },
  {
   "cell_type": "code",
   "execution_count": 74,
   "id": "d-48tJ5uaZNM",
   "metadata": {
    "id": "d-48tJ5uaZNM"
   },
   "outputs": [
    {
     "data": {
      "text/plain": [
       "\"<|im_start|>system\\nYou are Qwen, created by Alibaba Cloud. You are a helpful assistant.<|im_end|>\\n<|im_start|>user\\nClassify the TEXT by selecting all applicable labels from the following list: ['anger', 'anticipation', 'disgust', 'fear', 'joy', 'love', 'optimism', 'pessimism', 'sadness', 'surprise', 'trust'].\\n\\nTEXT: Do you think humans have the sense for recognizing impending doom? <|im_end|>\\n<|im_start|>assistant\\n\""
      ]
     },
     "execution_count": 74,
     "metadata": {},
     "output_type": "execute_result"
    }
   ],
   "source": [
    "valid_filtered['text'][0]"
   ]
  },
  {
   "cell_type": "code",
   "execution_count": 75,
   "id": "InRBFxYOaauD",
   "metadata": {
    "id": "InRBFxYOaauD"
   },
   "outputs": [
    {
     "name": "stdout",
     "output_type": "stream",
     "text": [
      "GPU memory has been freed.\n"
     ]
    }
   ],
   "source": [
    "free_gpu_memory()"
   ]
  },
  {
   "cell_type": "markdown",
   "id": "308e17e2",
   "metadata": {
    "id": "308e17e2"
   },
   "source": [
    "## <font color='purple'>**6.7 Generate Labels Using the Instruction-Tuned Language Head**"
   ]
  },
  {
   "cell_type": "code",
   "execution_count": 77,
   "id": "18_ONCMgadem",
   "metadata": {
    "id": "18_ONCMgadem"
   },
   "outputs": [],
   "source": [
    "def run_inference_instruction(\n",
    "    seed: int,\n",
    "    dataset: Union[Dict, List],\n",
    "    model,\n",
    "    tokenizer,\n",
    "    per_device_batch_size: int,\n",
    "    input_field: str,\n",
    "    output_field: str,\n",
    "    save_dir: Optional[Path] = None,\n",
    "    save_file_name: Optional[str] = None,\n",
    "    max_new_tokens: int = 20,\n",
    "    num_beams: int = 1,\n",
    "    do_sample: bool = False,\n",
    "    top_k: int = 50,\n",
    "    top_p: float = 1.0,\n",
    "    temperature: float = 1.0,\n",
    "    no_repeat_ngram_size: int = 2,\n",
    "    num_return_sequences: int = 1\n",
    ") -> List[Dict]:\n",
    "\n",
    "    \"\"\"\n",
    "    Run inference on a dataset and return complete generations.\n",
    "\n",
    "    Args:\n",
    "        seed: Random seed for reproducibility\n",
    "        dataset: Input dataset (dict or list)\n",
    "        model: The model to use for inference\n",
    "        tokenizer: The tokenizer to use\n",
    "        per_device_batch_size: Batch size for inference\n",
    "        prompt_template: Template for formatting prompts\n",
    "        input_field: Field name for input text in dataset\n",
    "        output_delimiter: Delimiter used in prompt template\n",
    "        save_path: Optional path to save generations\n",
    "        ... (generation parameters)\n",
    "\n",
    "    Returns:\n",
    "        List of dictionaries containing input, complete generation, and labels\n",
    "    \"\"\"\n",
    "\n",
    "    set_seed(seed)\n",
    "    model.eval()\n",
    "    device = model.device\n",
    "    batch_size = per_device_batch_size\n",
    "    inference_results = []\n",
    "\n",
    "\n",
    "    progress_bar = tqdm(range(0, len(dataset), batch_size), desc=\"Generating predictions\")\n",
    "\n",
    "    for i in progress_bar:\n",
    "       batch = dataset[i:i + batch_size]\n",
    "\n",
    "       try:\n",
    "           texts = batch[input_field]\n",
    "           labels = batch[output_field] if output_field in batch else [\"N/A\"] * len(texts)\n",
    "\n",
    "\n",
    "           inputs = tokenizer(texts, return_tensors=\"pt\", padding=True)\n",
    "           inputs = {k: v.to(device) for k, v in inputs.items()}\n",
    "\n",
    "           with torch.no_grad():\n",
    "               outputs = model.generate(\n",
    "                   **inputs,\n",
    "                   max_new_tokens=max_new_tokens,\n",
    "                   num_beams=num_beams,\n",
    "                   do_sample=do_sample,\n",
    "                   top_k=top_k,\n",
    "                   top_p=top_p,\n",
    "                   temperature=temperature,\n",
    "                   pad_token_id=tokenizer.pad_token_id,\n",
    "               )\n",
    "\n",
    "           decoded_outputs = tokenizer.batch_decode(outputs, skip_special_tokens=False)\n",
    "\n",
    "           for text, label, decoded_output in zip(texts, labels, decoded_outputs):\n",
    "                   inference_results.append({\n",
    "                    \"input\": text,\n",
    "                    \"generated_output\": decoded_output,\n",
    "                    \"ground_truth\": label\n",
    "                })\n",
    "\n",
    "\n",
    "       except Exception as e:\n",
    "           print(f\"Error processing batch: {str(e)}\")\n",
    "           continue\n",
    "    # Save generations if path provided\n",
    "    if save_dir:\n",
    "        save_dir = Path(save_dir)\n",
    "        save_dir.mkdir(parents=True, exist_ok=True)\n",
    "\n",
    "        # If no filename provided, create a timestamped one\n",
    "        if save_file_name is None:\n",
    "            from datetime import datetime\n",
    "            timestamp = datetime.now().strftime(\"%Y%m%d_%H%M%S\")\n",
    "            save_name = f\"generations_{timestamp}.json\"\n",
    "        elif not save_file_name.endswith('.json'):\n",
    "            save_name = f\"{save_file_name}.json\"\n",
    "\n",
    "        save_file = save_dir / save_name\n",
    "\n",
    "        with open(save_file, 'w') as f:\n",
    "            json.dump(inference_results, f, indent=2)\n",
    "        print(f\"Saved inference_results to: {save_file}\")\n",
    "\n",
    "    return inference_results"
   ]
  },
  {
   "cell_type": "code",
   "execution_count": 78,
   "id": "hl36gGw9af2-",
   "metadata": {
    "id": "hl36gGw9af2-"
   },
   "outputs": [
    {
     "name": "stdout",
     "output_type": "stream",
     "text": [
      "GPU memory has been freed.\n"
     ]
    }
   ],
   "source": [
    "free_gpu_memory()"
   ]
  },
  {
   "cell_type": "code",
   "execution_count": 79,
   "id": "CXSmXKJeawVq",
   "metadata": {
    "id": "CXSmXKJeawVq"
   },
   "outputs": [
    {
     "name": "stderr",
     "output_type": "stream",
     "text": [
      "Generating predictions: 100%|██████████| 16/16 [01:08<00:00,  4.26s/it]"
     ]
    },
    {
     "name": "stdout",
     "output_type": "stream",
     "text": [
      "Saved inference_results to: /sys/fs/cgroup/models/qwen-72B-it/valid_complete_generations.json\n"
     ]
    },
    {
     "name": "stderr",
     "output_type": "stream",
     "text": [
      "\n"
     ]
    }
   ],
   "source": [
    "valid_inference_results = run_inference_instruction(seed = 42,\n",
    "                                                    dataset = valid_filtered,\n",
    "                                                    model = model,\n",
    "                                                    tokenizer = tokenizer,\n",
    "                                                    per_device_batch_size = 50,\n",
    "                                                    input_field = 'text',\n",
    "                                                    output_field = 'label',\n",
    "                                                    save_dir = model_folder,\n",
    "                                                    save_file_name = 'valid_complete_generations')"
   ]
  },
  {
   "cell_type": "code",
   "execution_count": 80,
   "id": "HP2n3qTma280",
   "metadata": {
    "id": "HP2n3qTma280"
   },
   "outputs": [
    {
     "data": {
      "text/plain": [
       "\"<|endoftext|><|endoftext|><|endoftext|><|endoftext|><|endoftext|><|endoftext|><|endoftext|><|endoftext|><|endoftext|><|endoftext|><|endoftext|><|endoftext|><|endoftext|><|endoftext|><|endoftext|><|endoftext|><|endoftext|><|endoftext|><|endoftext|><|endoftext|><|endoftext|><|endoftext|><|endoftext|><|endoftext|><|endoftext|><|endoftext|><|endoftext|><|endoftext|><|endoftext|><|endoftext|><|endoftext|><|im_start|>system\\nYou are Qwen, created by Alibaba Cloud. You are a helpful assistant.<|im_end|>\\n<|im_start|>user\\nClassify the TEXT by selecting all applicable labels from the following list: ['anger', 'anticipation', 'disgust', 'fear', 'joy', 'love', 'optimism', 'pessimism', 'sadness', 'surprise', 'trust'].\\n\\nTEXT: What a fucking muppet.  @jRwild1  #stalker.<|im_end|>\\n<|im_start|>assistant\\n['anger', 'disgust']<|im_end|><|endoftext|><|endoftext|><|endoftext|><|endoftext|><|endoftext|><|endoftext|><|endoftext|><|endoftext|><|endoftext|><|endoftext|><|endoftext|>\""
      ]
     },
     "execution_count": 80,
     "metadata": {},
     "output_type": "execute_result"
    }
   ],
   "source": [
    "valid_inference_results[1]['generated_output']"
   ]
  },
  {
   "cell_type": "code",
   "execution_count": 81,
   "id": "tg12n0QYa5cd",
   "metadata": {
    "id": "tg12n0QYa5cd"
   },
   "outputs": [],
   "source": [
    "output_delimiter = \"<|im_start|>assistant\"\n",
    "def extract_content(generated_output: str, output_delimiter: str) -> str:\n",
    "    \"\"\"\n",
    "    Extract content after delimiter from a generated output string.\n",
    "\n",
    "    Args:\n",
    "        generated_output: String containing the complete model generation\n",
    "        output_delimiter: Delimiter to extract content after\n",
    "\n",
    "    Returns:\n",
    "        Extracted content as string, or None if delimiter not found\n",
    "    \"\"\"\n",
    "    pattern = f'{re.escape(output_delimiter.strip())}\\\\s*(.*?)(?:<\\\\|im_end\\\\|>)'\n",
    "    match = re.search(pattern, generated_output, re.DOTALL)\n",
    "    if match:\n",
    "        return match.group(1).strip()\n",
    "    else:\n",
    "        return None"
   ]
  },
  {
   "cell_type": "code",
   "execution_count": 82,
   "id": "Rd9uzKyIa8pH",
   "metadata": {
    "id": "Rd9uzKyIa8pH"
   },
   "outputs": [],
   "source": [
    "valid_extracted_outputs = [\n",
    "    extract_content(result['generated_output'], output_delimiter)\n",
    "    for result in valid_inference_results]"
   ]
  },
  {
   "cell_type": "code",
   "execution_count": 83,
   "id": "ouXkbQtDbBp8",
   "metadata": {
    "id": "ouXkbQtDbBp8"
   },
   "outputs": [
    {
     "data": {
      "text/plain": [
       "\"['anticipation', 'fear', 'pessimism']\""
      ]
     },
     "execution_count": 83,
     "metadata": {},
     "output_type": "execute_result"
    }
   ],
   "source": [
    "valid_extracted_outputs[0]"
   ]
  },
  {
   "cell_type": "code",
   "execution_count": 84,
   "id": "myZJXxr9bD34",
   "metadata": {
    "id": "myZJXxr9bD34"
   },
   "outputs": [
    {
     "name": "stdout",
     "output_type": "stream",
     "text": [
      "['anticipation', 'fear', 'pessimism']\n",
      "['anger', 'disgust']\n",
      "['fear', 'joy', 'optimism']\n",
      "['anger', 'disgust', 'fear']\n",
      "['anger', 'disgust', 'fear', 'sadness']\n",
      "['optimism', 'trust']\n",
      "['anger', 'anticipation', 'joy']\n",
      "['anticipation', 'joy', 'optimism']\n",
      "['joy', 'optimism']\n",
      "['pessimism', 'sadness']\n",
      "['joy', 'love', 'optimism']\n",
      "['joy', 'optimism']\n",
      "['anticipation', 'joy', 'optimism']\n",
      "['anger', 'disgust', 'fear', 'sadness']\n",
      "['anticipation', 'joy', 'optimism', 'trust']\n",
      "['anger', 'disgust', 'joy']\n",
      "['fear']\n",
      "['anger', 'disgust']\n",
      "['joy', 'love', 'sadness']\n",
      "['joy', 'optimism']\n"
     ]
    }
   ],
   "source": [
    "# getting the first 20 generated outputs\n",
    "for i in range(20):\n",
    "  print(valid_extracted_outputs[i])"
   ]
  },
  {
   "cell_type": "code",
   "execution_count": 85,
   "id": "D4OVPa2GbGar",
   "metadata": {
    "id": "D4OVPa2GbGar"
   },
   "outputs": [
    {
     "name": "stdout",
     "output_type": "stream",
     "text": [
      "['anticipation', 'pessimism']\n",
      "['anger', 'disgust']\n",
      "['fear', 'joy', 'love', 'optimism']\n",
      "['anger', 'disgust', 'fear']\n",
      "['disgust', 'fear', 'optimism', 'trust']\n",
      "['anger', 'optimism']\n",
      "['anger']\n",
      "['joy', 'optimism']\n",
      "['joy', 'optimism']\n",
      "['sadness']\n",
      "['joy', 'love']\n",
      "['anger', 'disgust', 'sadness']\n",
      "['anticipation', 'joy', 'optimism', 'surprise']\n",
      "['anticipation']\n",
      "['anger', 'anticipation', 'disgust', 'optimism']\n",
      "['anger', 'disgust', 'joy', 'optimism']\n",
      "['anger', 'disgust', 'fear']\n",
      "['anger', 'disgust', 'pessimism']\n",
      "['joy', 'love', 'sadness']\n",
      "['anticipation', 'joy', 'optimism']\n"
     ]
    }
   ],
   "source": [
    "# getting the first 20 ground truth labels for comparison\n",
    "for i in range(20):\n",
    "  print(valid_inference_results[i]['ground_truth'])"
   ]
  },
  {
   "cell_type": "code",
   "execution_count": 88,
   "id": "9989e144-5820-4e37-bdb7-b96279a1536a",
   "metadata": {},
   "outputs": [],
   "source": [
    "def clean_and_split_labels(extracted_output: str, class_names: List[str], cutoff: float = 0.6) -> List[str]:\n",
    "    \"\"\"\n",
    "    Clean and normalize extracted content for multi-label classification.\n",
    "\n",
    "    Args:\n",
    "        extracted_output: String containing extracted labels\n",
    "        class_names: List of valid class names\n",
    "        cutoff: Threshold for fuzzy matching\n",
    "\n",
    "    Returns:\n",
    "        List of cleaned and normalized labels\n",
    "    \"\"\"\n",
    "    from difflib import get_close_matches\n",
    "\n",
    "    # Convert to string if not already\n",
    "    if isinstance(extracted_output, (list, tuple)):\n",
    "        label_set = ' '.join(str(x) for x in extracted_output)\n",
    "    else:\n",
    "        label_set = str(extracted_output)\n",
    "\n",
    "    # Basic cleaning\n",
    "    label_set = label_set.lstrip('=')\n",
    "    # Remove various bracket and quote combinations\n",
    "    label_set = label_set.replace('=[\"', '').replace('[\"', '').replace('\"]', '')\n",
    "    label_set = label_set.replace(\"['\", '').replace(\"']\", '')\n",
    "    label_set = label_set.replace('(\"', '').replace('\")', '')\n",
    "    label_set = label_set.replace('([\"', '').replace('\"])', '')\n",
    "    label_set = label_set.replace('([', '').replace('])', '')\n",
    "    label_set = label_set.replace('[', '').replace(']', '')\n",
    "    label_set = label_set.replace('(', '').replace(')', '')\n",
    "    label_set = label_set.replace('\"', '').replace(\"'\", '')\n",
    "\n",
    "    # Handle multiple types of separators\n",
    "    label_set = ' '.join(label_set.split())  # normalize spaces\n",
    "    raw_labels = label_set.split(',') if ',' in label_set else label_set.split()\n",
    "\n",
    "    # Clean and normalize labels\n",
    "    raw_labels = [label.strip().lower() for label in raw_labels if label.strip()]\n",
    "\n",
    "    # Match to valid classes using fuzzy matching\n",
    "    cleaned_labels = []\n",
    "    for label in raw_labels:\n",
    "        if label in class_names:\n",
    "            cleaned_labels.append(label)\n",
    "        else:\n",
    "            matches = get_close_matches(label, class_names, n=1, cutoff=cutoff)\n",
    "            if matches:\n",
    "                cleaned_labels.append(matches[0])\n",
    "\n",
    "    # Remove duplicates while preserving order\n",
    "    seen = set()\n",
    "    cleaned_labels = [x for x in cleaned_labels if not (x in seen or seen.add(x))]\n",
    "\n",
    "    return cleaned_labels\n"
   ]
  },
  {
   "cell_type": "code",
   "execution_count": 89,
   "id": "7d05c1f7-b32b-4852-99a9-655d7f7d6c12",
   "metadata": {},
   "outputs": [],
   "source": [
    "    class_names = ['anger',\n",
    "                    'anticipation',\n",
    "                    'disgust',\n",
    "                    'fear',\n",
    "                    'joy',\n",
    "                    'love',\n",
    "                    'optimism',\n",
    "                    'pessimism',\n",
    "                    'sadness',\n",
    "                    'surprise',\n",
    "                    'trust']"
   ]
  },
  {
   "cell_type": "code",
   "execution_count": 90,
   "id": "46518a37-a40e-4a1d-8958-9f79a9878a6e",
   "metadata": {},
   "outputs": [
    {
     "name": "stdout",
     "output_type": "stream",
     "text": [
      "Sample of true labels: [['anticipation', 'pessimism'], ['anger', 'disgust'], ['fear', 'joy', 'love', 'optimism'], ['anger', 'disgust', 'fear'], ['disgust', 'fear', 'optimism', 'trust']]\n",
      "Sample of predictions: [['anticipation', 'fear', 'pessimism'], ['anger', 'disgust'], ['fear', 'joy', 'optimism'], ['anger', 'disgust', 'fear'], ['anger', 'disgust', 'fear', 'sadness']]\n",
      "\n",
      "Binary format:\n",
      "Labels shape: (773, 11)\n",
      "Predictions shape: (773, 11)\n"
     ]
    }
   ],
   "source": [
    "valid_predictions = [\n",
    "    clean_and_split_labels(extracted_output, class_names)\n",
    "    for extracted_output in valid_extracted_outputs\n",
    "]\n",
    "\n",
    "valid_labels = [\n",
    "    clean_and_split_labels(result['ground_truth'], class_names)\n",
    "    for result in valid_inference_results\n",
    "]\n",
    "\n",
    "# initialize the MultLabelBinarizer with the known classes\n",
    "mlb = MultiLabelBinarizer(classes = class_names)\n",
    "mlb.fit(class_names) # fit with all possible classes\n",
    "\n",
    "# Transform the data\n",
    "valid_labels_binary = mlb.transform(valid_labels)\n",
    "valid_predictions_binary = mlb.transform(valid_predictions)\n",
    "\n",
    "# Print samples and shapes\n",
    "print(\"Sample of true labels:\", valid_labels[:5])\n",
    "print(\"Sample of predictions:\", valid_predictions[:5])\n",
    "print(\"\\nBinary format:\")\n",
    "print(\"Labels shape:\", valid_labels_binary.shape)\n",
    "print(\"Predictions shape:\", valid_predictions_binary.shape)"
   ]
  },
  {
   "cell_type": "markdown",
   "id": "ImEbQfUAbU3o",
   "metadata": {
    "id": "ImEbQfUAbU3o"
   },
   "source": [
    "### <font color='purple'>**6.7.2 Define the compute metrics function**"
   ]
  },
  {
   "cell_type": "code",
   "execution_count": 91,
   "id": "2d3CAb9qbcny",
   "metadata": {
    "id": "2d3CAb9qbcny"
   },
   "outputs": [],
   "source": [
    "accuracy = evaluate.load('accuracy', 'multilabel')\n",
    "f1 = evaluate.load('f1','multilabel')\n",
    "accuracy_flatten = evaluate.load('accuracy')\n",
    "def compute_metrics( labels, preds):\n",
    "  accuracy_label = accuracy_flatten.compute(predictions=preds.flatten(), references=labels.flatten())\n",
    "  accuracy_all = accuracy.compute(predictions=preds, references=labels)\n",
    "  f1_micro = f1.compute(predictions=preds, references=labels, average='micro')\n",
    "  f1_macro = f1.compute(predictions=preds, references=labels, average='macro')\n",
    "  return {'f1_micro':f1_micro['f1'],\n",
    "          'f1_macro':f1_macro['f1'],\n",
    "          'accuracy_label':accuracy_label['accuracy'],\n",
    "            'accuracy_all':accuracy_all['accuracy']}"
   ]
  },
  {
   "cell_type": "code",
   "execution_count": 92,
   "id": "RTZ-GbdDbeB0",
   "metadata": {
    "id": "RTZ-GbdDbeB0"
   },
   "outputs": [],
   "source": [
    "valid_results = compute_metrics(valid_labels_binary , valid_predictions_binary)"
   ]
  },
  {
   "cell_type": "code",
   "execution_count": 93,
   "id": "3DqeyRoybfkQ",
   "metadata": {
    "id": "3DqeyRoybfkQ"
   },
   "outputs": [
    {
     "data": {
      "text/plain": [
       "{'f1_micro': 0.7239459029435164,\n",
       " 'f1_macro': 0.6228617218970677,\n",
       " 'accuracy_label': 0.8775726214277314,\n",
       " 'accuracy_all': 0.258732212160414}"
      ]
     },
     "execution_count": 93,
     "metadata": {},
     "output_type": "execute_result"
    }
   ],
   "source": [
    "valid_results"
   ]
  },
  {
   "cell_type": "code",
   "execution_count": 94,
   "id": "iTk09eWUbhJm",
   "metadata": {
    "id": "iTk09eWUbhJm"
   },
   "outputs": [],
   "source": [
    "wandb.log({\"valid_f1_macro\": valid_results[\"f1_macro\"]})"
   ]
  },
  {
   "cell_type": "markdown",
   "id": "UJiI92ATbkdh",
   "metadata": {
    "id": "UJiI92ATbkdh"
   },
   "source": [
    "<font color = 'purple'>***Simple Confusion Matrix***"
   ]
  },
  {
   "cell_type": "code",
   "execution_count": 95,
   "id": "fOihdQsVbmK7",
   "metadata": {
    "id": "fOihdQsVbmK7"
   },
   "outputs": [
    {
     "name": "stdout",
     "output_type": "stream",
     "text": [
      "[[[429  59]\n",
      "  [ 42 243]]\n",
      "\n",
      " [[606  56]\n",
      "  [ 63  48]]\n",
      "\n",
      " [[395  86]\n",
      "  [ 63 229]]\n",
      "\n",
      " [[586  50]\n",
      "  [ 28 109]]\n",
      "\n",
      " [[414  71]\n",
      "  [ 35 253]]\n",
      "\n",
      " [[645  45]\n",
      "  [ 25  58]]\n",
      "\n",
      " [[447  97]\n",
      "  [ 20 209]]\n",
      "\n",
      " [[632  51]\n",
      "  [ 48  42]]\n",
      "\n",
      " [[495  51]\n",
      "  [ 75 152]]\n",
      "\n",
      " [[724   9]\n",
      "  [ 22  18]]\n",
      "\n",
      " [[724   9]\n",
      "  [ 36   4]]]\n"
     ]
    }
   ],
   "source": [
    "mcm = multilabel_confusion_matrix(valid_labels_binary , valid_predictions_binary)\n",
    "print(mcm)"
   ]
  },
  {
   "cell_type": "code",
   "execution_count": 97,
   "id": "7lwS90cQbref",
   "metadata": {
    "id": "7lwS90cQbref"
   },
   "outputs": [],
   "source": [
    "def multilabel_evaluation(y_true, y_pred, class_names=None, figsize=(12, 8)):\n",
    "    \"\"\"\n",
    "    Generate comprehensive evaluation visualizations for multilabel classification results.\n",
    "\n",
    "    Parameters:\n",
    "    -----------\n",
    "    y_true : array-like\n",
    "        True labels (n_samples, n_classes)\n",
    "    y_pred : array-like\n",
    "        Predicted labels (n_samples, n_classes)\n",
    "    class_names : list, optional\n",
    "        List of class names for better visualization\n",
    "    figsize : tuple, optional\n",
    "        Base figure size for plots (width, height)\n",
    "\n",
    "    Returns:\n",
    "    --------\n",
    "    dict\n",
    "        Dictionary containing the computed metrics for each class\n",
    "    \"\"\"\n",
    "    # Validate inputs\n",
    "    y_true = np.array(y_true)\n",
    "    y_pred = np.array(y_pred)\n",
    "\n",
    "    if y_true.shape != y_pred.shape:\n",
    "        raise ValueError(\"y_true and y_pred must have the same shape\")\n",
    "\n",
    "    # Generate class names if not provided\n",
    "    if class_names is None:\n",
    "        class_names = [f'Class {i}' for i in range(y_true.shape[1])]\n",
    "\n",
    "    # Calculate confusion matrices\n",
    "    mcm = multilabel_confusion_matrix(y_true, y_pred)\n",
    "\n",
    "    # 1. Individual Confusion Matrix Heatmaps\n",
    "    n_classes = len(class_names)\n",
    "    n_cols = min(3, n_classes)\n",
    "    n_rows = (n_classes + n_cols - 1) // n_cols\n",
    "\n",
    "    plt.figure(figsize=(figsize[0], figsize[1] * n_rows/2))\n",
    "    for idx, matrix in enumerate(mcm):\n",
    "        plt.subplot(n_rows, n_cols, idx + 1)\n",
    "        sns.heatmap(matrix, annot=True, fmt='g', cmap='Greens',\n",
    "                    xticklabels=['Pred Neg', 'Pred Pos'],\n",
    "                    yticklabels=['True Neg', 'True Pos'])\n",
    "        plt.title(f'{class_names[idx]}')\n",
    "    plt.tight_layout()\n",
    "    plt.show()\n",
    "\n",
    "    # 2. Calculate and plot aggregate metrics\n",
    "    metrics = {\n",
    "        'Precision': precision_score(y_true, y_pred, average=None),\n",
    "        'Recall': recall_score(y_true, y_pred, average=None),\n",
    "        'F1-Score': f1_score(y_true, y_pred, average=None)\n",
    "    }\n",
    "\n",
    "    metrics_df = pd.DataFrame(metrics, index=class_names)\n",
    "\n",
    "    # Metrics Heatmap\n",
    "    plt.figure(figsize=(figsize[0]/1.5, figsize[1]/1.5))\n",
    "    sns.heatmap(metrics_df, annot=True, fmt='.3f', cmap='Greens')\n",
    "    plt.title('Performance Metrics by Class')\n",
    "    plt.tight_layout()\n",
    "    plt.show()\n",
    "\n",
    "    # 3. Metrics Histogram\n",
    "    plt.figure(figsize=(figsize[0], figsize[1]/1.5))\n",
    "    metrics_df.plot(kind='bar', width=0.8)\n",
    "    plt.xlabel('Classes')\n",
    "    plt.ylabel('Score')\n",
    "    plt.title('Precision, Recall, and F1-Score by Class')\n",
    "    plt.legend(bbox_to_anchor=(1.05, 1), loc='upper left')\n",
    "    plt.tight_layout()\n",
    "    plt.show()\n",
    "\n",
    "    # 4. Calculate and return summary statistics\n",
    "    summary_stats = {\n",
    "        'macro_avg': {\n",
    "            'precision': np.mean(metrics['Precision']),\n",
    "            'recall': np.mean(metrics['Recall']),\n",
    "            'f1': np.mean(metrics['F1-Score'])\n",
    "        },\n",
    "        'per_class': metrics_df.to_dict()\n",
    "    }\n",
    "\n",
    "    return summary_stats"
   ]
  },
  {
   "cell_type": "code",
   "execution_count": 98,
   "id": "QRgOxHQdbuL7",
   "metadata": {
    "id": "QRgOxHQdbuL7",
    "scrolled": true
   },
   "outputs": [
    {
     "data": {
      "image/png": "[encoded data removed]",
      "text/plain": [
       "<Figure size 1200x1600 with 22 Axes>"
      ]
     },
     "metadata": {},
     "output_type": "display_data"
    },
    {
     "data": {
      "image/png": "[encoded data removed]",
      "text/plain": [
       "<Figure size 800x533.333 with 2 Axes>"
      ]
     },
     "metadata": {},
     "output_type": "display_data"
    },
    {
     "data": {
      "text/plain": [
       "<Figure size 1200x533.333 with 0 Axes>"
      ]
     },
     "metadata": {},
     "output_type": "display_data"
    },
    {
     "data": {
      "image/png": "[encoded data removed]",
      "text/plain": [
       "<Figure size 640x480 with 1 Axes>"
      ]
     },
     "metadata": {},
     "output_type": "display_data"
    },
    {
     "data": {
      "text/plain": [
       "{'macro_avg': {'precision': 0.6254918928539298,\n",
       "  'recall': 0.6401029430888946,\n",
       "  'f1': 0.6228617218970677},\n",
       " 'per_class': {'Precision': {'anger': 0.804635761589404,\n",
       "   'anticipation': 0.46153846153846156,\n",
       "   'disgust': 0.726984126984127,\n",
       "   'fear': 0.6855345911949685,\n",
       "   'joy': 0.7808641975308642,\n",
       "   'love': 0.5631067961165048,\n",
       "   'optimism': 0.6830065359477124,\n",
       "   'pessimism': 0.45161290322580644,\n",
       "   'sadness': 0.7487684729064039,\n",
       "   'surprise': 0.6666666666666666,\n",
       "   'trust': 0.3076923076923077},\n",
       "  'Recall': {'anger': 0.8526315789473684,\n",
       "   'anticipation': 0.43243243243243246,\n",
       "   'disgust': 0.7842465753424658,\n",
       "   'fear': 0.7956204379562044,\n",
       "   'joy': 0.8784722222222222,\n",
       "   'love': 0.6987951807228916,\n",
       "   'optimism': 0.9126637554585153,\n",
       "   'pessimism': 0.4666666666666667,\n",
       "   'sadness': 0.6696035242290749,\n",
       "   'surprise': 0.45,\n",
       "   'trust': 0.1},\n",
       "  'F1-Score': {'anger': 0.82793867120954,\n",
       "   'anticipation': 0.44651162790697674,\n",
       "   'disgust': 0.7545304777594728,\n",
       "   'fear': 0.7364864864864865,\n",
       "   'joy': 0.826797385620915,\n",
       "   'love': 0.6236559139784946,\n",
       "   'optimism': 0.7813084112149533,\n",
       "   'pessimism': 0.45901639344262296,\n",
       "   'sadness': 0.7069767441860465,\n",
       "   'surprise': 0.5373134328358209,\n",
       "   'trust': 0.1509433962264151}}}"
      ]
     },
     "execution_count": 98,
     "metadata": {},
     "output_type": "execute_result"
    }
   ],
   "source": [
    "multilabel_evaluation(y_true=valid_labels_binary, y_pred=valid_predictions_binary, class_names=class_names, figsize=(12, 8))"
   ]
  },
  {
   "cell_type": "markdown",
   "id": "349d94ac",
   "metadata": {
    "id": "349d94ac"
   },
   "source": [
    "# <font color='purple'>**7. Model Inference**"
   ]
  },
  {
   "cell_type": "code",
   "execution_count": 99,
   "id": "DJKcGGaVTCIG",
   "metadata": {
    "id": "DJKcGGaVTCIG"
   },
   "outputs": [],
   "source": [
    "# loading in the test data\n",
    "test_ds = joblib.load(data_folder/'X_test_cleaned.pkl')"
   ]
  },
  {
   "cell_type": "code",
   "execution_count": 100,
   "id": "p9VL5IuRbxw2",
   "metadata": {
    "id": "p9VL5IuRbxw2"
   },
   "outputs": [
    {
     "name": "stdout",
     "output_type": "stream",
     "text": [
      "                                                text  \\\n",
      "0  @Adnan__786__ @AsYouNotWish Dont worry Indian ...   \n",
      "1  Academy of Sciences, eschews the normally sobe...   \n",
      "2                  I blew that opportunity -__- #mad   \n",
      "3             This time in 2 weeks I will be 30... 😥   \n",
      "4  #Deppression is real. Partners w/ #depressed p...   \n",
      "\n",
      "                                               label  \n",
      "0  [NONE, NONE, NONE, NONE, NONE, NONE, NONE, NON...  \n",
      "1  [NONE, NONE, NONE, NONE, NONE, NONE, NONE, NON...  \n",
      "2  [NONE, NONE, NONE, NONE, NONE, NONE, NONE, NON...  \n",
      "3  [NONE, NONE, NONE, NONE, NONE, NONE, NONE, NON...  \n",
      "4  [NONE, NONE, NONE, NONE, NONE, NONE, NONE, NON...  \n",
      "------------------------------\n",
      "(3259, 2)\n",
      "There are no labels for the entire test set.\n"
     ]
    }
   ],
   "source": [
    "test_df = pd.DataFrame(test_ds).T # transposing\n",
    "test_df.rename(columns = {0:'text', 1:'label'}, inplace = True)\n",
    "print(test_df.head())\n",
    "print(\"-\"*30)\n",
    "print(test_df.shape)\n",
    "print('There are no labels for the entire test set.')"
   ]
  },
  {
   "cell_type": "code",
   "execution_count": 101,
   "id": "SAnI-C9vbzuG",
   "metadata": {
    "id": "SAnI-C9vbzuG"
   },
   "outputs": [
    {
     "data": {
      "text/plain": [
       "0    2018-01559\n",
       "1    2018-03739\n",
       "2    2018-00385\n",
       "3    2018-03001\n",
       "4    2018-01988\n",
       "Name: ID, dtype: object"
      ]
     },
     "execution_count": 101,
     "metadata": {},
     "output_type": "execute_result"
    }
   ],
   "source": [
    "test_ids = joblib.load(data_folder/'test_ids.pkl')\n",
    "test_ids.head()"
   ]
  },
  {
   "cell_type": "code",
   "execution_count": 102,
   "id": "kAbXuXO4b1h_",
   "metadata": {
    "id": "kAbXuXO4b1h_"
   },
   "outputs": [],
   "source": [
    "test_ds = test_df.drop(columns = {'label'}) # dropping the missing labels from the dataset"
   ]
  },
  {
   "cell_type": "code",
   "execution_count": 104,
   "id": "b0ab9780-f48b-4f44-9805-8146cdc14310",
   "metadata": {},
   "outputs": [],
   "source": [
    "import random"
   ]
  },
  {
   "cell_type": "code",
   "execution_count": 105,
   "id": "2zAGD_LBb25x",
   "metadata": {
    "id": "2zAGD_LBb25x"
   },
   "outputs": [],
   "source": [
    "# Function to assign random non-duplicate labels to each text\n",
    "def assign_random_labels(class_names, max_labels=3):\n",
    "    \"\"\"Assign a random subset of non-duplicate labels.\"\"\"\n",
    "    num_labels = random.randint(1, max_labels)  # Randomly decide how many labels to assign\n",
    "    return random.sample(class_names, num_labels)\n",
    "\n",
    "test_ds['label'] = [assign_random_labels(class_names) for _ in range(len(test_ds))]\n"
   ]
  },
  {
   "cell_type": "code",
   "execution_count": 106,
   "id": "Q0F-Nr74b4Yy",
   "metadata": {
    "id": "Q0F-Nr74b4Yy"
   },
   "outputs": [
    {
     "data": {
      "text/html": [
       "<div>\n",
       "<style scoped>\n",
       "    .dataframe tbody tr th:only-of-type {\n",
       "        vertical-align: middle;\n",
       "    }\n",
       "\n",
       "    .dataframe tbody tr th {\n",
       "        vertical-align: top;\n",
       "    }\n",
       "\n",
       "    .dataframe thead th {\n",
       "        text-align: right;\n",
       "    }\n",
       "</style>\n",
       "<table border=\"1\" class=\"dataframe\">\n",
       "  <thead>\n",
       "    <tr style=\"text-align: right;\">\n",
       "      <th></th>\n",
       "      <th>text</th>\n",
       "      <th>label</th>\n",
       "    </tr>\n",
       "  </thead>\n",
       "  <tbody>\n",
       "    <tr>\n",
       "      <th>0</th>\n",
       "      <td>@Adnan__786__ @AsYouNotWish Dont worry Indian ...</td>\n",
       "      <td>[anticipation, anger, joy]</td>\n",
       "    </tr>\n",
       "    <tr>\n",
       "      <th>1</th>\n",
       "      <td>Academy of Sciences, eschews the normally sobe...</td>\n",
       "      <td>[fear]</td>\n",
       "    </tr>\n",
       "    <tr>\n",
       "      <th>2</th>\n",
       "      <td>I blew that opportunity -__- #mad</td>\n",
       "      <td>[anticipation]</td>\n",
       "    </tr>\n",
       "    <tr>\n",
       "      <th>3</th>\n",
       "      <td>This time in 2 weeks I will be 30... 😥</td>\n",
       "      <td>[sadness, anticipation, optimism]</td>\n",
       "    </tr>\n",
       "    <tr>\n",
       "      <th>4</th>\n",
       "      <td>#Deppression is real. Partners w/ #depressed p...</td>\n",
       "      <td>[anger]</td>\n",
       "    </tr>\n",
       "    <tr>\n",
       "      <th>...</th>\n",
       "      <td>...</td>\n",
       "      <td>...</td>\n",
       "    </tr>\n",
       "    <tr>\n",
       "      <th>3254</th>\n",
       "      <td>shaft abrasions from panties merely shifted to...</td>\n",
       "      <td>[trust]</td>\n",
       "    </tr>\n",
       "    <tr>\n",
       "      <th>3255</th>\n",
       "      <td>@lomadia heard of Remothered? Indie horror gam...</td>\n",
       "      <td>[pessimism, trust, love]</td>\n",
       "    </tr>\n",
       "    <tr>\n",
       "      <th>3256</th>\n",
       "      <td>All this fake outrage. Y'all need to stop 🤣</td>\n",
       "      <td>[anger, fear, trust]</td>\n",
       "    </tr>\n",
       "    <tr>\n",
       "      <th>3257</th>\n",
       "      <td>Would be ever so grateful if you could record ...</td>\n",
       "      <td>[optimism, sadness]</td>\n",
       "    </tr>\n",
       "    <tr>\n",
       "      <th>3258</th>\n",
       "      <td>I'm the wholesome drunk that sends people meme...</td>\n",
       "      <td>[love, anger]</td>\n",
       "    </tr>\n",
       "  </tbody>\n",
       "</table>\n",
       "<p>3259 rows × 2 columns</p>\n",
       "</div>"
      ],
      "text/plain": [
       "                                                   text  \\\n",
       "0     @Adnan__786__ @AsYouNotWish Dont worry Indian ...   \n",
       "1     Academy of Sciences, eschews the normally sobe...   \n",
       "2                     I blew that opportunity -__- #mad   \n",
       "3                This time in 2 weeks I will be 30... 😥   \n",
       "4     #Deppression is real. Partners w/ #depressed p...   \n",
       "...                                                 ...   \n",
       "3254  shaft abrasions from panties merely shifted to...   \n",
       "3255  @lomadia heard of Remothered? Indie horror gam...   \n",
       "3256        All this fake outrage. Y'all need to stop 🤣   \n",
       "3257  Would be ever so grateful if you could record ...   \n",
       "3258  I'm the wholesome drunk that sends people meme...   \n",
       "\n",
       "                                  label  \n",
       "0            [anticipation, anger, joy]  \n",
       "1                                [fear]  \n",
       "2                        [anticipation]  \n",
       "3     [sadness, anticipation, optimism]  \n",
       "4                               [anger]  \n",
       "...                                 ...  \n",
       "3254                            [trust]  \n",
       "3255           [pessimism, trust, love]  \n",
       "3256               [anger, fear, trust]  \n",
       "3257                [optimism, sadness]  \n",
       "3258                      [love, anger]  \n",
       "\n",
       "[3259 rows x 2 columns]"
      ]
     },
     "execution_count": 106,
     "metadata": {},
     "output_type": "execute_result"
    }
   ],
   "source": [
    "test_ds"
   ]
  },
  {
   "cell_type": "code",
   "execution_count": 107,
   "id": "U904vfUeb5q1",
   "metadata": {
    "id": "U904vfUeb5q1"
   },
   "outputs": [],
   "source": [
    "test_ds = Dataset.from_pandas(test_ds)"
   ]
  },
  {
   "cell_type": "code",
   "execution_count": 108,
   "id": "A7K0GApMb683",
   "metadata": {
    "id": "A7K0GApMb683"
   },
   "outputs": [
    {
     "data": {
      "text/plain": [
       "['@Adnan__786__ @AsYouNotWish Dont worry Indian army is on its ways to dispatch all Terrorists to Hell',\n",
       " 'Academy of Sciences, eschews the normally sober tone of scientific papers and calls the massive loss of wildlife a “biological annihilation',\n",
       " 'I blew that opportunity -__- #mad',\n",
       " 'This time in 2 weeks I will be 30... 😥',\n",
       " '#Deppression is real. Partners w/ #depressed people truly dont understand the depth in which they affect us. Add in #anxiety &amp;makes it worse']"
      ]
     },
     "execution_count": 108,
     "metadata": {},
     "output_type": "execute_result"
    }
   ],
   "source": [
    "test_ds['text'][:5]"
   ]
  },
  {
   "cell_type": "code",
   "execution_count": 109,
   "id": "Zjfj4hr4b8VZ",
   "metadata": {
    "id": "Zjfj4hr4b8VZ"
   },
   "outputs": [
    {
     "data": {
      "text/plain": [
       "[['anticipation', 'anger', 'joy'],\n",
       " ['fear'],\n",
       " ['anticipation'],\n",
       " ['sadness', 'anticipation', 'optimism'],\n",
       " ['anger']]"
      ]
     },
     "execution_count": 109,
     "metadata": {},
     "output_type": "execute_result"
    }
   ],
   "source": [
    "test_ds['label'][:5]"
   ]
  },
  {
   "cell_type": "code",
   "execution_count": 110,
   "id": "fEM5WmmCb9na",
   "metadata": {
    "id": "fEM5WmmCb9na"
   },
   "outputs": [
    {
     "data": {
      "application/vnd.jupyter.widget-view+json": {
       "model_id": "6f1226ba38724cee971b85984d5661f6",
       "version_major": 2,
       "version_minor": 0
      },
      "text/plain": [
       "Map:   0%|          | 0/3259 [00:00<?, ? examples/s]"
      ]
     },
     "metadata": {},
     "output_type": "display_data"
    }
   ],
   "source": [
    "test_ds = test_ds.map(format_chat_inference)"
   ]
  },
  {
   "cell_type": "code",
   "execution_count": 111,
   "id": "ZqP_n1sSb_Hy",
   "metadata": {
    "id": "ZqP_n1sSb_Hy"
   },
   "outputs": [
    {
     "data": {
      "application/vnd.jupyter.widget-view+json": {
       "model_id": "1f4ac0e8f97e47f99a1a6578f311133b",
       "version_major": 2,
       "version_minor": 0
      },
      "text/plain": [
       "Filter:   0%|          | 0/3259 [00:00<?, ? examples/s]"
      ]
     },
     "metadata": {},
     "output_type": "display_data"
    }
   ],
   "source": [
    "test_ds = test_ds.filter(check_length)"
   ]
  },
  {
   "cell_type": "code",
   "execution_count": 112,
   "id": "ncyHz2a3cAWq",
   "metadata": {
    "id": "ncyHz2a3cAWq"
   },
   "outputs": [
    {
     "data": {
      "text/plain": [
       "[\"<|im_start|>system\\nYou are Qwen, created by Alibaba Cloud. You are a helpful assistant.<|im_end|>\\n<|im_start|>user\\nClassify the TEXT by selecting all applicable labels from the following list: ['anger', 'anticipation', 'disgust', 'fear', 'joy', 'love', 'optimism', 'pessimism', 'sadness', 'surprise', 'trust'].\\n\\nTEXT: @Adnan__786__ @AsYouNotWish Dont worry Indian army is on its ways to dispatch all Terrorists to Hell<|im_end|>\\n<|im_start|>assistant\\n\",\n",
       " \"<|im_start|>system\\nYou are Qwen, created by Alibaba Cloud. You are a helpful assistant.<|im_end|>\\n<|im_start|>user\\nClassify the TEXT by selecting all applicable labels from the following list: ['anger', 'anticipation', 'disgust', 'fear', 'joy', 'love', 'optimism', 'pessimism', 'sadness', 'surprise', 'trust'].\\n\\nTEXT: Academy of Sciences, eschews the normally sober tone of scientific papers and calls the massive loss of wildlife a “biological annihilation<|im_end|>\\n<|im_start|>assistant\\n\",\n",
       " \"<|im_start|>system\\nYou are Qwen, created by Alibaba Cloud. You are a helpful assistant.<|im_end|>\\n<|im_start|>user\\nClassify the TEXT by selecting all applicable labels from the following list: ['anger', 'anticipation', 'disgust', 'fear', 'joy', 'love', 'optimism', 'pessimism', 'sadness', 'surprise', 'trust'].\\n\\nTEXT: I blew that opportunity -__- #mad<|im_end|>\\n<|im_start|>assistant\\n\",\n",
       " \"<|im_start|>system\\nYou are Qwen, created by Alibaba Cloud. You are a helpful assistant.<|im_end|>\\n<|im_start|>user\\nClassify the TEXT by selecting all applicable labels from the following list: ['anger', 'anticipation', 'disgust', 'fear', 'joy', 'love', 'optimism', 'pessimism', 'sadness', 'surprise', 'trust'].\\n\\nTEXT: This time in 2 weeks I will be 30... 😥<|im_end|>\\n<|im_start|>assistant\\n\",\n",
       " \"<|im_start|>system\\nYou are Qwen, created by Alibaba Cloud. You are a helpful assistant.<|im_end|>\\n<|im_start|>user\\nClassify the TEXT by selecting all applicable labels from the following list: ['anger', 'anticipation', 'disgust', 'fear', 'joy', 'love', 'optimism', 'pessimism', 'sadness', 'surprise', 'trust'].\\n\\nTEXT: #Deppression is real. Partners w/ #depressed people truly dont understand the depth in which they affect us. Add in #anxiety &amp;makes it worse<|im_end|>\\n<|im_start|>assistant\\n\"]"
      ]
     },
     "execution_count": 112,
     "metadata": {},
     "output_type": "execute_result"
    }
   ],
   "source": [
    "test_ds['text'][:5]"
   ]
  },
  {
   "cell_type": "code",
   "execution_count": 113,
   "id": "4StmssafcB0b",
   "metadata": {
    "id": "4StmssafcB0b"
   },
   "outputs": [
    {
     "data": {
      "text/plain": [
       "{'text': [\"<|im_start|>system\\nYou are Qwen, created by Alibaba Cloud. You are a helpful assistant.<|im_end|>\\n<|im_start|>user\\nClassify the TEXT by selecting all applicable labels from the following list: ['anger', 'anticipation', 'disgust', 'fear', 'joy', 'love', 'optimism', 'pessimism', 'sadness', 'surprise', 'trust'].\\n\\nTEXT: @Adnan__786__ @AsYouNotWish Dont worry Indian army is on its ways to dispatch all Terrorists to Hell<|im_end|>\\n<|im_start|>assistant\\n\",\n",
       "  \"<|im_start|>system\\nYou are Qwen, created by Alibaba Cloud. You are a helpful assistant.<|im_end|>\\n<|im_start|>user\\nClassify the TEXT by selecting all applicable labels from the following list: ['anger', 'anticipation', 'disgust', 'fear', 'joy', 'love', 'optimism', 'pessimism', 'sadness', 'surprise', 'trust'].\\n\\nTEXT: Academy of Sciences, eschews the normally sober tone of scientific papers and calls the massive loss of wildlife a “biological annihilation<|im_end|>\\n<|im_start|>assistant\\n\",\n",
       "  \"<|im_start|>system\\nYou are Qwen, created by Alibaba Cloud. You are a helpful assistant.<|im_end|>\\n<|im_start|>user\\nClassify the TEXT by selecting all applicable labels from the following list: ['anger', 'anticipation', 'disgust', 'fear', 'joy', 'love', 'optimism', 'pessimism', 'sadness', 'surprise', 'trust'].\\n\\nTEXT: I blew that opportunity -__- #mad<|im_end|>\\n<|im_start|>assistant\\n\",\n",
       "  \"<|im_start|>system\\nYou are Qwen, created by Alibaba Cloud. You are a helpful assistant.<|im_end|>\\n<|im_start|>user\\nClassify the TEXT by selecting all applicable labels from the following list: ['anger', 'anticipation', 'disgust', 'fear', 'joy', 'love', 'optimism', 'pessimism', 'sadness', 'surprise', 'trust'].\\n\\nTEXT: This time in 2 weeks I will be 30... 😥<|im_end|>\\n<|im_start|>assistant\\n\",\n",
       "  \"<|im_start|>system\\nYou are Qwen, created by Alibaba Cloud. You are a helpful assistant.<|im_end|>\\n<|im_start|>user\\nClassify the TEXT by selecting all applicable labels from the following list: ['anger', 'anticipation', 'disgust', 'fear', 'joy', 'love', 'optimism', 'pessimism', 'sadness', 'surprise', 'trust'].\\n\\nTEXT: #Deppression is real. Partners w/ #depressed people truly dont understand the depth in which they affect us. Add in #anxiety &amp;makes it worse<|im_end|>\\n<|im_start|>assistant\\n\"],\n",
       " 'label': [['anticipation', 'anger', 'joy'],\n",
       "  ['fear'],\n",
       "  ['anticipation'],\n",
       "  ['sadness', 'anticipation', 'optimism'],\n",
       "  ['anger']]}"
      ]
     },
     "execution_count": 113,
     "metadata": {},
     "output_type": "execute_result"
    }
   ],
   "source": [
    "test_ds[:5]"
   ]
  },
  {
   "cell_type": "code",
   "execution_count": 114,
   "id": "q4rtJ8bqcD1E",
   "metadata": {
    "id": "q4rtJ8bqcD1E"
   },
   "outputs": [],
   "source": [
    "# Check for missing or invalid text\n",
    "for idx, row in enumerate(test_ds):\n",
    "    if row[\"text\"] is None or not isinstance(row[\"text\"], str):\n",
    "        print(f\"Invalid text at index {idx}: {row['text']}\")\n",
    "\n",
    "# Check for missing or invalid labels\n",
    "for idx, row in enumerate(test_ds):\n",
    "    if row[\"label\"] is None or not isinstance(row[\"label\"], list):\n",
    "        print(f\"Invalid label at index {idx}: {row['label']}\")"
   ]
  },
  {
   "cell_type": "code",
   "execution_count": 115,
   "id": "C0ULDwAtcFkz",
   "metadata": {
    "id": "C0ULDwAtcFkz"
   },
   "outputs": [
    {
     "data": {
      "application/vnd.jupyter.widget-view+json": {
       "model_id": "683cf47848574af0adfd48ab2aa310c5",
       "version_major": 2,
       "version_minor": 0
      },
      "text/plain": [
       "Filter:   0%|          | 0/3259 [00:00<?, ? examples/s]"
      ]
     },
     "metadata": {},
     "output_type": "display_data"
    }
   ],
   "source": [
    "test_ds = test_ds.filter(lambda x: x[\"text\"] is not None and isinstance(x[\"label\"], list))"
   ]
  },
  {
   "cell_type": "code",
   "execution_count": 116,
   "id": "xw9s6MIlcHRo",
   "metadata": {
    "id": "xw9s6MIlcHRo"
   },
   "outputs": [
    {
     "name": "stdout",
     "output_type": "stream",
     "text": [
      "GPU memory has been freed.\n"
     ]
    }
   ],
   "source": [
    "free_gpu_memory()"
   ]
  },
  {
   "cell_type": "code",
   "execution_count": 117,
   "id": "CxdP69WCcI5R",
   "metadata": {
    "id": "CxdP69WCcI5R"
   },
   "outputs": [
    {
     "name": "stdout",
     "output_type": "stream",
     "text": [
      "GPU memory has been freed.\n"
     ]
    },
    {
     "data": {
      "application/vnd.jupyter.widget-view+json": {
       "model_id": "936a2a7d1aef4a6fad291ef1e199b311",
       "version_major": 2,
       "version_minor": 0
      },
      "text/plain": [
       "Loading checkpoint shards:   0%|          | 0/6 [00:00<?, ?it/s]"
      ]
     },
     "metadata": {},
     "output_type": "display_data"
    }
   ],
   "source": [
    "free_gpu_memory()\n",
    "model = AutoPeftModelForCausalLM.from_pretrained(\n",
    "    checkpoint,\n",
    "    quantization_config=bnb_config,\n",
    "    torch_dtype=torch_data_type,\n",
    "    trust_remote_code=True,\n",
    "    device_map='auto'\n",
    ")\n",
    "model.device\n",
    "peft_config = PeftConfig.from_pretrained(checkpoint)\n",
    "base_model_name = peft_config.base_model_name_or_path\n",
    "tokenizer = AutoTokenizer.from_pretrained(base_model_name)\n",
    "tokenizer.padding_side = 'left'"
   ]
  },
  {
   "cell_type": "code",
   "execution_count": 118,
   "id": "QjnG2jFWdi8f",
   "metadata": {
    "id": "QjnG2jFWdi8f"
   },
   "outputs": [
    {
     "name": "stderr",
     "output_type": "stream",
     "text": [
      "Generating predictions: 100%|██████████| 82/82 [05:06<00:00,  3.74s/it]\n"
     ]
    }
   ],
   "source": [
    "inference_results = run_inference_instruction(seed = 42,\n",
    "                                              dataset = test_ds,\n",
    "                                              model = model,\n",
    "                                              tokenizer = tokenizer,\n",
    "                                              per_device_batch_size = 40,\n",
    "                                              input_field = 'text',\n",
    "                                              output_field = 'label')"
   ]
  },
  {
   "cell_type": "code",
   "execution_count": 119,
   "id": "rbe_kVn2dn0N",
   "metadata": {
    "id": "rbe_kVn2dn0N"
   },
   "outputs": [],
   "source": [
    "extracted_outputs = [\n",
    "    extract_content(result['generated_output'], output_delimiter)\n",
    "    for result in inference_results\n",
    "]\n",
    "\n",
    "# Clean and convert predictions and ground truth\n",
    "predictions = [\n",
    "    clean_and_split_labels(extracted_output, class_names)\n",
    "    for extracted_output in extracted_outputs\n",
    "\n",
    "]"
   ]
  },
  {
   "cell_type": "code",
   "execution_count": 120,
   "id": "sT2QdAbRdpeK",
   "metadata": {
    "id": "sT2QdAbRdpeK"
   },
   "outputs": [
    {
     "data": {
      "text/plain": [
       "[['anger', 'disgust', 'fear', 'optimism'],\n",
       " ['anger', 'disgust', 'sadness'],\n",
       " ['anger', 'disgust', 'sadness'],\n",
       " ['anticipation', 'sadness'],\n",
       " ['fear', 'pessimism', 'sadness']]"
      ]
     },
     "execution_count": 120,
     "metadata": {},
     "output_type": "execute_result"
    }
   ],
   "source": [
    "predictions[:5]"
   ]
  },
  {
   "cell_type": "code",
   "execution_count": 121,
   "id": "fsKgof8ndrZ4",
   "metadata": {
    "id": "fsKgof8ndrZ4"
   },
   "outputs": [],
   "source": [
    "def get_prediction_labels(predictions, class_names, df_test_ids):\n",
    "  \"\"\"\n",
    "  This function processes the pipeline output of generated model labels and generates the binary predictions for each observation.\n",
    "  The predictions are binarized based on the presence of each label in the pipeline output for the test set.\n",
    "\n",
    "  Parameters:\n",
    "  - predictions: The output from the model inference. (A list of lists containing the labels for each observation)\n",
    "  - class_names: The emotion class names from the given dataset.\n",
    "  - df_test_ids: A dataframe that containing the ID's as the primary key for the test set. (Contains an 'ID' column)\n",
    "\n",
    "  Returns:\n",
    "  - df_pred_final: A pandas DataFrame with the appropriate test ID linked with its binary predictions.\n",
    "  \"\"\"\n",
    "\n",
    "  # 1. Prepare the binary predictions (1 if the label was predicted else 0)\n",
    "  binary_predictions = [] # empty list for the predictions\n",
    "  for pred_set in predictions:\n",
    "    # Intitialize a list of 0's for each class.\n",
    "    binary_preds = [1 if class_name in pred_set else 0 for class_name in class_names]\n",
    "    binary_predictions.append(binary_preds)\n",
    "\n",
    "  # 2. Convert the binary predictions to a DataFrame\n",
    "  df_predictions = pd.DataFrame(binary_predictions, columns = class_names)\n",
    "\n",
    "  # 3. Concatenate the ID's to the dataframe\n",
    "  df_pred_final = pd.concat([df_test_ids.reset_index(drop=True), df_predictions], axis=1)\n",
    "\n",
    "  # 4. Set the index of df_pred_final to be the ID column\n",
    "  df_pred_final = df_pred_final.set_index('ID')\n",
    "\n",
    "  return df_pred_final"
   ]
  },
  {
   "cell_type": "code",
   "execution_count": 122,
   "id": "R9J_L0HddtTP",
   "metadata": {
    "id": "R9J_L0HddtTP"
   },
   "outputs": [],
   "source": [
    "df_pred_final = get_prediction_labels(predictions, class_names, test_ids)"
   ]
  },
  {
   "cell_type": "code",
   "execution_count": 123,
   "id": "Vx7r6Gt7dvOr",
   "metadata": {
    "id": "Vx7r6Gt7dvOr"
   },
   "outputs": [
    {
     "data": {
      "text/plain": [
       "anger           1133\n",
       "anticipation     309\n",
       "disgust         1195\n",
       "fear             532\n",
       "joy             1603\n",
       "love             654\n",
       "optimism        1549\n",
       "pessimism        306\n",
       "sadness          895\n",
       "surprise          68\n",
       "trust             42\n",
       "dtype: int64"
      ]
     },
     "execution_count": 123,
     "metadata": {},
     "output_type": "execute_result"
    }
   ],
   "source": [
    "df_pred_final.sum()"
   ]
  },
  {
   "cell_type": "code",
   "execution_count": 124,
   "id": "e337b6fd-ec51-41ff-bea8-7cb40306400f",
   "metadata": {},
   "outputs": [],
   "source": [
    "df_pred_final.to_csv(data_folder/'QWEN_14B_it_predictions.csv')"
   ]
  },
  {
   "cell_type": "code",
   "execution_count": 125,
   "id": "5caed493-1665-49f9-9e31-b373a9edb679",
   "metadata": {},
   "outputs": [
    {
     "data": {
      "text/html": [],
      "text/plain": [
       "<IPython.core.display.HTML object>"
      ]
     },
     "metadata": {},
     "output_type": "display_data"
    },
    {
     "data": {
      "text/html": [
       "<br>    <style><br>        .wandb-row {<br>            display: flex;<br>            flex-direction: row;<br>            flex-wrap: wrap;<br>            justify-content: flex-start;<br>            width: 100%;<br>        }<br>        .wandb-col {<br>            display: flex;<br>            flex-direction: column;<br>            flex-basis: 100%;<br>            flex: 1;<br>            padding: 10px;<br>        }<br>    </style><br><div class=\"wandb-row\"><div class=\"wandb-col\"><h3>Run history:</h3><br/><table class=\"wandb\"><tr><td>eval/loss</td><td>█▅▁▂▄▃</td></tr><tr><td>eval/runtime</td><td>▆▆█▅▁▆</td></tr><tr><td>eval/samples_per_second</td><td>▃▄▁▅█▃</td></tr><tr><td>eval/steps_per_second</td><td>██▁███</td></tr><tr><td>train/epoch</td><td>▁▁▂▂▄▄▅▅▆▆▇▇█</td></tr><tr><td>train/global_step</td><td>▁▁▂▂▄▄▅▅▆▆▇▇██</td></tr><tr><td>train/grad_norm</td><td>█▁▂▂▁▃</td></tr><tr><td>train/learning_rate</td><td>▄█▆▅▃▁</td></tr><tr><td>train/loss</td><td>█▄▄▃▂▁</td></tr><tr><td>valid_f1_macro</td><td>▁</td></tr></table><br/></div><div class=\"wandb-col\"><h3>Run summary:</h3><br/><table class=\"wandb\"><tr><td>eval/loss</td><td>0.2675</td></tr><tr><td>eval/runtime</td><td>36.3849</td></tr><tr><td>eval/samples_per_second</td><td>21.245</td></tr><tr><td>eval/steps_per_second</td><td>1.347</td></tr><tr><td>total_flos</td><td>2.6071172475714355e+17</td></tr><tr><td>train/epoch</td><td>2.9931</td></tr><tr><td>train/global_step</td><td>651</td></tr><tr><td>train/grad_norm</td><td>0.37534</td></tr><tr><td>train/learning_rate</td><td>1e-05</td></tr><tr><td>train/loss</td><td>0.2009</td></tr><tr><td>train_loss</td><td>0.25537</td></tr><tr><td>train_runtime</td><td>3357.4343</td></tr><tr><td>train_samples_per_second</td><td>6.211</td></tr><tr><td>train_steps_per_second</td><td>0.194</td></tr><tr><td>valid_f1_macro</td><td>0.62286</td></tr></table><br/></div></div>"
      ],
      "text/plain": [
       "<IPython.core.display.HTML object>"
      ]
     },
     "metadata": {},
     "output_type": "display_data"
    },
    {
     "data": {
      "text/html": [
       " View run <strong style=\"color:#cdcd00\">QWEN-14B-it-emotion-exp1</strong> at: <a href='https://wandb.ai/the-steven-e-the-university-of-texas-at-dallas/qwen_14B_it_multilabel/runs/s4sbgew4' target=\"_blank\">https://wandb.ai/the-steven-e-the-university-of-texas-at-dallas/qwen_14B_it_multilabel/runs/s4sbgew4</a><br> View project at: <a href='https://wandb.ai/the-steven-e-the-university-of-texas-at-dallas/qwen_14B_it_multilabel' target=\"_blank\">https://wandb.ai/the-steven-e-the-university-of-texas-at-dallas/qwen_14B_it_multilabel</a><br>Synced 5 W&B file(s), 0 media file(s), 0 artifact file(s) and 0 other file(s)"
      ],
      "text/plain": [
       "<IPython.core.display.HTML object>"
      ]
     },
     "metadata": {},
     "output_type": "display_data"
    },
    {
     "data": {
      "text/html": [
       "Find logs at: <code>./wandb/run-20241213_162047-s4sbgew4/logs</code>"
      ],
      "text/plain": [
       "<IPython.core.display.HTML object>"
      ]
     },
     "metadata": {},
     "output_type": "display_data"
    }
   ],
   "source": [
    "wandb.finish()"
   ]
  },
  {
   "cell_type": "code",
   "execution_count": null,
   "id": "b08bd8e7-59da-4b9e-a590-7211de5f9c49",
   "metadata": {},
   "outputs": [],
   "source": []
  }
 ],
 "metadata": {
  "colab": {
   "provenance": []
  },
  "kernelspec": {
   "display_name": "Python (colab_env)",
   "language": "python",
   "name": "colab_env"
  },
  "language_info": {
   "codemirror_mode": {
    "name": "ipython",
    "version": 3
   },
   "file_extension": ".py",
   "mimetype": "text/x-python",
   "name": "python",
   "nbconvert_exporter": "python",
   "pygments_lexer": "ipython3",
   "version": "3.10.16"
  }
 },
 "nbformat": 4,
 "nbformat_minor": 5
}
