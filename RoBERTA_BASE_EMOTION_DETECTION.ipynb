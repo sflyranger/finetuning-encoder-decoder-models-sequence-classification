{
  "nbformat": 4,
  "nbformat_minor": 0,
  "metadata": {
    "colab": {
      "provenance": [],
      "gpuType": "T4",
      "authorship_tag": "ABX9TyOYJq0DCuOwc5NmPfePzFWg"
    },
    "kernelspec": {
      "name": "python3",
      "display_name": "Python 3"
    },
    "language_info": {
      "name": "python"
    },
    "accelerator": "GPU",
    "widgets": {
      "application/vnd.jupyter.widget-state+json": {
        "1131c2c852074962a82a9298d9d18882": {
          "model_module": "@jupyter-widgets/controls",
          "model_name": "HBoxModel",
          "model_module_version": "1.5.0",
          "state": {
            "_dom_classes": [],
            "_model_module": "@jupyter-widgets/controls",
            "_model_module_version": "1.5.0",
            "_model_name": "HBoxModel",
            "_view_count": null,
            "_view_module": "@jupyter-widgets/controls",
            "_view_module_version": "1.5.0",
            "_view_name": "HBoxView",
            "box_style": "",
            "children": [
              "IPY_MODEL_b041362395954b7b9874aa4d39174883",
              "IPY_MODEL_14d261542f1f417a985370b76382e2cb",
              "IPY_MODEL_24ad35af4de248ea92c508d434f10aee"
            ],
            "layout": "IPY_MODEL_85b951dde44f4839a4c417ce30b76974"
          }
        },
        "b041362395954b7b9874aa4d39174883": {
          "model_module": "@jupyter-widgets/controls",
          "model_name": "HTMLModel",
          "model_module_version": "1.5.0",
          "state": {
            "_dom_classes": [],
            "_model_module": "@jupyter-widgets/controls",
            "_model_module_version": "1.5.0",
            "_model_name": "HTMLModel",
            "_view_count": null,
            "_view_module": "@jupyter-widgets/controls",
            "_view_module_version": "1.5.0",
            "_view_name": "HTMLView",
            "description": "",
            "description_tooltip": null,
            "layout": "IPY_MODEL_17020bcb38e7406cb78cac7f86bfdf6b",
            "placeholder": "​",
            "style": "IPY_MODEL_a84c5a59cd2b40a4b9050517e6631b1c",
            "value": "tokenizer_config.json: 100%"
          }
        },
        "14d261542f1f417a985370b76382e2cb": {
          "model_module": "@jupyter-widgets/controls",
          "model_name": "FloatProgressModel",
          "model_module_version": "1.5.0",
          "state": {
            "_dom_classes": [],
            "_model_module": "@jupyter-widgets/controls",
            "_model_module_version": "1.5.0",
            "_model_name": "FloatProgressModel",
            "_view_count": null,
            "_view_module": "@jupyter-widgets/controls",
            "_view_module_version": "1.5.0",
            "_view_name": "ProgressView",
            "bar_style": "success",
            "description": "",
            "description_tooltip": null,
            "layout": "IPY_MODEL_b9e3734c2df64e89a1fd7b09b8babf6f",
            "max": 25,
            "min": 0,
            "orientation": "horizontal",
            "style": "IPY_MODEL_220da8b7a4aa417d968b330c68c08425",
            "value": 25
          }
        },
        "24ad35af4de248ea92c508d434f10aee": {
          "model_module": "@jupyter-widgets/controls",
          "model_name": "HTMLModel",
          "model_module_version": "1.5.0",
          "state": {
            "_dom_classes": [],
            "_model_module": "@jupyter-widgets/controls",
            "_model_module_version": "1.5.0",
            "_model_name": "HTMLModel",
            "_view_count": null,
            "_view_module": "@jupyter-widgets/controls",
            "_view_module_version": "1.5.0",
            "_view_name": "HTMLView",
            "description": "",
            "description_tooltip": null,
            "layout": "IPY_MODEL_3092ddf5f7064382a24b76d399798ffb",
            "placeholder": "​",
            "style": "IPY_MODEL_1df0d6e0030a45aa958c9d2fbd509762",
            "value": " 25.0/25.0 [00:00&lt;00:00, 1.74kB/s]"
          }
        },
        "85b951dde44f4839a4c417ce30b76974": {
          "model_module": "@jupyter-widgets/base",
          "model_name": "LayoutModel",
          "model_module_version": "1.2.0",
          "state": {
            "_model_module": "@jupyter-widgets/base",
            "_model_module_version": "1.2.0",
            "_model_name": "LayoutModel",
            "_view_count": null,
            "_view_module": "@jupyter-widgets/base",
            "_view_module_version": "1.2.0",
            "_view_name": "LayoutView",
            "align_content": null,
            "align_items": null,
            "align_self": null,
            "border": null,
            "bottom": null,
            "display": null,
            "flex": null,
            "flex_flow": null,
            "grid_area": null,
            "grid_auto_columns": null,
            "grid_auto_flow": null,
            "grid_auto_rows": null,
            "grid_column": null,
            "grid_gap": null,
            "grid_row": null,
            "grid_template_areas": null,
            "grid_template_columns": null,
            "grid_template_rows": null,
            "height": null,
            "justify_content": null,
            "justify_items": null,
            "left": null,
            "margin": null,
            "max_height": null,
            "max_width": null,
            "min_height": null,
            "min_width": null,
            "object_fit": null,
            "object_position": null,
            "order": null,
            "overflow": null,
            "overflow_x": null,
            "overflow_y": null,
            "padding": null,
            "right": null,
            "top": null,
            "visibility": null,
            "width": null
          }
        },
        "17020bcb38e7406cb78cac7f86bfdf6b": {
          "model_module": "@jupyter-widgets/base",
          "model_name": "LayoutModel",
          "model_module_version": "1.2.0",
          "state": {
            "_model_module": "@jupyter-widgets/base",
            "_model_module_version": "1.2.0",
            "_model_name": "LayoutModel",
            "_view_count": null,
            "_view_module": "@jupyter-widgets/base",
            "_view_module_version": "1.2.0",
            "_view_name": "LayoutView",
            "align_content": null,
            "align_items": null,
            "align_self": null,
            "border": null,
            "bottom": null,
            "display": null,
            "flex": null,
            "flex_flow": null,
            "grid_area": null,
            "grid_auto_columns": null,
            "grid_auto_flow": null,
            "grid_auto_rows": null,
            "grid_column": null,
            "grid_gap": null,
            "grid_row": null,
            "grid_template_areas": null,
            "grid_template_columns": null,
            "grid_template_rows": null,
            "height": null,
            "justify_content": null,
            "justify_items": null,
            "left": null,
            "margin": null,
            "max_height": null,
            "max_width": null,
            "min_height": null,
            "min_width": null,
            "object_fit": null,
            "object_position": null,
            "order": null,
            "overflow": null,
            "overflow_x": null,
            "overflow_y": null,
            "padding": null,
            "right": null,
            "top": null,
            "visibility": null,
            "width": null
          }
        },
        "a84c5a59cd2b40a4b9050517e6631b1c": {
          "model_module": "@jupyter-widgets/controls",
          "model_name": "DescriptionStyleModel",
          "model_module_version": "1.5.0",
          "state": {
            "_model_module": "@jupyter-widgets/controls",
            "_model_module_version": "1.5.0",
            "_model_name": "DescriptionStyleModel",
            "_view_count": null,
            "_view_module": "@jupyter-widgets/base",
            "_view_module_version": "1.2.0",
            "_view_name": "StyleView",
            "description_width": ""
          }
        },
        "b9e3734c2df64e89a1fd7b09b8babf6f": {
          "model_module": "@jupyter-widgets/base",
          "model_name": "LayoutModel",
          "model_module_version": "1.2.0",
          "state": {
            "_model_module": "@jupyter-widgets/base",
            "_model_module_version": "1.2.0",
            "_model_name": "LayoutModel",
            "_view_count": null,
            "_view_module": "@jupyter-widgets/base",
            "_view_module_version": "1.2.0",
            "_view_name": "LayoutView",
            "align_content": null,
            "align_items": null,
            "align_self": null,
            "border": null,
            "bottom": null,
            "display": null,
            "flex": null,
            "flex_flow": null,
            "grid_area": null,
            "grid_auto_columns": null,
            "grid_auto_flow": null,
            "grid_auto_rows": null,
            "grid_column": null,
            "grid_gap": null,
            "grid_row": null,
            "grid_template_areas": null,
            "grid_template_columns": null,
            "grid_template_rows": null,
            "height": null,
            "justify_content": null,
            "justify_items": null,
            "left": null,
            "margin": null,
            "max_height": null,
            "max_width": null,
            "min_height": null,
            "min_width": null,
            "object_fit": null,
            "object_position": null,
            "order": null,
            "overflow": null,
            "overflow_x": null,
            "overflow_y": null,
            "padding": null,
            "right": null,
            "top": null,
            "visibility": null,
            "width": null
          }
        },
        "220da8b7a4aa417d968b330c68c08425": {
          "model_module": "@jupyter-widgets/controls",
          "model_name": "ProgressStyleModel",
          "model_module_version": "1.5.0",
          "state": {
            "_model_module": "@jupyter-widgets/controls",
            "_model_module_version": "1.5.0",
            "_model_name": "ProgressStyleModel",
            "_view_count": null,
            "_view_module": "@jupyter-widgets/base",
            "_view_module_version": "1.2.0",
            "_view_name": "StyleView",
            "bar_color": null,
            "description_width": ""
          }
        },
        "3092ddf5f7064382a24b76d399798ffb": {
          "model_module": "@jupyter-widgets/base",
          "model_name": "LayoutModel",
          "model_module_version": "1.2.0",
          "state": {
            "_model_module": "@jupyter-widgets/base",
            "_model_module_version": "1.2.0",
            "_model_name": "LayoutModel",
            "_view_count": null,
            "_view_module": "@jupyter-widgets/base",
            "_view_module_version": "1.2.0",
            "_view_name": "LayoutView",
            "align_content": null,
            "align_items": null,
            "align_self": null,
            "border": null,
            "bottom": null,
            "display": null,
            "flex": null,
            "flex_flow": null,
            "grid_area": null,
            "grid_auto_columns": null,
            "grid_auto_flow": null,
            "grid_auto_rows": null,
            "grid_column": null,
            "grid_gap": null,
            "grid_row": null,
            "grid_template_areas": null,
            "grid_template_columns": null,
            "grid_template_rows": null,
            "height": null,
            "justify_content": null,
            "justify_items": null,
            "left": null,
            "margin": null,
            "max_height": null,
            "max_width": null,
            "min_height": null,
            "min_width": null,
            "object_fit": null,
            "object_position": null,
            "order": null,
            "overflow": null,
            "overflow_x": null,
            "overflow_y": null,
            "padding": null,
            "right": null,
            "top": null,
            "visibility": null,
            "width": null
          }
        },
        "1df0d6e0030a45aa958c9d2fbd509762": {
          "model_module": "@jupyter-widgets/controls",
          "model_name": "DescriptionStyleModel",
          "model_module_version": "1.5.0",
          "state": {
            "_model_module": "@jupyter-widgets/controls",
            "_model_module_version": "1.5.0",
            "_model_name": "DescriptionStyleModel",
            "_view_count": null,
            "_view_module": "@jupyter-widgets/base",
            "_view_module_version": "1.2.0",
            "_view_name": "StyleView",
            "description_width": ""
          }
        },
        "eaed4e63ed6043af8cfa12d22bd7b1e1": {
          "model_module": "@jupyter-widgets/controls",
          "model_name": "HBoxModel",
          "model_module_version": "1.5.0",
          "state": {
            "_dom_classes": [],
            "_model_module": "@jupyter-widgets/controls",
            "_model_module_version": "1.5.0",
            "_model_name": "HBoxModel",
            "_view_count": null,
            "_view_module": "@jupyter-widgets/controls",
            "_view_module_version": "1.5.0",
            "_view_name": "HBoxView",
            "box_style": "",
            "children": [
              "IPY_MODEL_5a35f4c61f1e49f9a7efc00d55d90988",
              "IPY_MODEL_1a48c10af48d48a9af360e664adef6f0",
              "IPY_MODEL_8b62013fc3b24c49bd7ee53211bbcacd"
            ],
            "layout": "IPY_MODEL_35759201b2774361a275e13bc152f856"
          }
        },
        "5a35f4c61f1e49f9a7efc00d55d90988": {
          "model_module": "@jupyter-widgets/controls",
          "model_name": "HTMLModel",
          "model_module_version": "1.5.0",
          "state": {
            "_dom_classes": [],
            "_model_module": "@jupyter-widgets/controls",
            "_model_module_version": "1.5.0",
            "_model_name": "HTMLModel",
            "_view_count": null,
            "_view_module": "@jupyter-widgets/controls",
            "_view_module_version": "1.5.0",
            "_view_name": "HTMLView",
            "description": "",
            "description_tooltip": null,
            "layout": "IPY_MODEL_2ff6cb50d7f84267adbd028ca24145c4",
            "placeholder": "​",
            "style": "IPY_MODEL_34d34127956c48ebbc6bd0620d902248",
            "value": "config.json: 100%"
          }
        },
        "1a48c10af48d48a9af360e664adef6f0": {
          "model_module": "@jupyter-widgets/controls",
          "model_name": "FloatProgressModel",
          "model_module_version": "1.5.0",
          "state": {
            "_dom_classes": [],
            "_model_module": "@jupyter-widgets/controls",
            "_model_module_version": "1.5.0",
            "_model_name": "FloatProgressModel",
            "_view_count": null,
            "_view_module": "@jupyter-widgets/controls",
            "_view_module_version": "1.5.0",
            "_view_name": "ProgressView",
            "bar_style": "success",
            "description": "",
            "description_tooltip": null,
            "layout": "IPY_MODEL_8b3533f156b7453f8fc7f25321890ff3",
            "max": 481,
            "min": 0,
            "orientation": "horizontal",
            "style": "IPY_MODEL_59beac8ad2bc47dda0ae07a916bd9569",
            "value": 481
          }
        },
        "8b62013fc3b24c49bd7ee53211bbcacd": {
          "model_module": "@jupyter-widgets/controls",
          "model_name": "HTMLModel",
          "model_module_version": "1.5.0",
          "state": {
            "_dom_classes": [],
            "_model_module": "@jupyter-widgets/controls",
            "_model_module_version": "1.5.0",
            "_model_name": "HTMLModel",
            "_view_count": null,
            "_view_module": "@jupyter-widgets/controls",
            "_view_module_version": "1.5.0",
            "_view_name": "HTMLView",
            "description": "",
            "description_tooltip": null,
            "layout": "IPY_MODEL_74e31bf63e4e4eaf87d372a044714954",
            "placeholder": "​",
            "style": "IPY_MODEL_5f7d7631fe7d4a13b1ab94fbe91ef9c4",
            "value": " 481/481 [00:00&lt;00:00, 31.4kB/s]"
          }
        },
        "35759201b2774361a275e13bc152f856": {
          "model_module": "@jupyter-widgets/base",
          "model_name": "LayoutModel",
          "model_module_version": "1.2.0",
          "state": {
            "_model_module": "@jupyter-widgets/base",
            "_model_module_version": "1.2.0",
            "_model_name": "LayoutModel",
            "_view_count": null,
            "_view_module": "@jupyter-widgets/base",
            "_view_module_version": "1.2.0",
            "_view_name": "LayoutView",
            "align_content": null,
            "align_items": null,
            "align_self": null,
            "border": null,
            "bottom": null,
            "display": null,
            "flex": null,
            "flex_flow": null,
            "grid_area": null,
            "grid_auto_columns": null,
            "grid_auto_flow": null,
            "grid_auto_rows": null,
            "grid_column": null,
            "grid_gap": null,
            "grid_row": null,
            "grid_template_areas": null,
            "grid_template_columns": null,
            "grid_template_rows": null,
            "height": null,
            "justify_content": null,
            "justify_items": null,
            "left": null,
            "margin": null,
            "max_height": null,
            "max_width": null,
            "min_height": null,
            "min_width": null,
            "object_fit": null,
            "object_position": null,
            "order": null,
            "overflow": null,
            "overflow_x": null,
            "overflow_y": null,
            "padding": null,
            "right": null,
            "top": null,
            "visibility": null,
            "width": null
          }
        },
        "2ff6cb50d7f84267adbd028ca24145c4": {
          "model_module": "@jupyter-widgets/base",
          "model_name": "LayoutModel",
          "model_module_version": "1.2.0",
          "state": {
            "_model_module": "@jupyter-widgets/base",
            "_model_module_version": "1.2.0",
            "_model_name": "LayoutModel",
            "_view_count": null,
            "_view_module": "@jupyter-widgets/base",
            "_view_module_version": "1.2.0",
            "_view_name": "LayoutView",
            "align_content": null,
            "align_items": null,
            "align_self": null,
            "border": null,
            "bottom": null,
            "display": null,
            "flex": null,
            "flex_flow": null,
            "grid_area": null,
            "grid_auto_columns": null,
            "grid_auto_flow": null,
            "grid_auto_rows": null,
            "grid_column": null,
            "grid_gap": null,
            "grid_row": null,
            "grid_template_areas": null,
            "grid_template_columns": null,
            "grid_template_rows": null,
            "height": null,
            "justify_content": null,
            "justify_items": null,
            "left": null,
            "margin": null,
            "max_height": null,
            "max_width": null,
            "min_height": null,
            "min_width": null,
            "object_fit": null,
            "object_position": null,
            "order": null,
            "overflow": null,
            "overflow_x": null,
            "overflow_y": null,
            "padding": null,
            "right": null,
            "top": null,
            "visibility": null,
            "width": null
          }
        },
        "34d34127956c48ebbc6bd0620d902248": {
          "model_module": "@jupyter-widgets/controls",
          "model_name": "DescriptionStyleModel",
          "model_module_version": "1.5.0",
          "state": {
            "_model_module": "@jupyter-widgets/controls",
            "_model_module_version": "1.5.0",
            "_model_name": "DescriptionStyleModel",
            "_view_count": null,
            "_view_module": "@jupyter-widgets/base",
            "_view_module_version": "1.2.0",
            "_view_name": "StyleView",
            "description_width": ""
          }
        },
        "8b3533f156b7453f8fc7f25321890ff3": {
          "model_module": "@jupyter-widgets/base",
          "model_name": "LayoutModel",
          "model_module_version": "1.2.0",
          "state": {
            "_model_module": "@jupyter-widgets/base",
            "_model_module_version": "1.2.0",
            "_model_name": "LayoutModel",
            "_view_count": null,
            "_view_module": "@jupyter-widgets/base",
            "_view_module_version": "1.2.0",
            "_view_name": "LayoutView",
            "align_content": null,
            "align_items": null,
            "align_self": null,
            "border": null,
            "bottom": null,
            "display": null,
            "flex": null,
            "flex_flow": null,
            "grid_area": null,
            "grid_auto_columns": null,
            "grid_auto_flow": null,
            "grid_auto_rows": null,
            "grid_column": null,
            "grid_gap": null,
            "grid_row": null,
            "grid_template_areas": null,
            "grid_template_columns": null,
            "grid_template_rows": null,
            "height": null,
            "justify_content": null,
            "justify_items": null,
            "left": null,
            "margin": null,
            "max_height": null,
            "max_width": null,
            "min_height": null,
            "min_width": null,
            "object_fit": null,
            "object_position": null,
            "order": null,
            "overflow": null,
            "overflow_x": null,
            "overflow_y": null,
            "padding": null,
            "right": null,
            "top": null,
            "visibility": null,
            "width": null
          }
        },
        "59beac8ad2bc47dda0ae07a916bd9569": {
          "model_module": "@jupyter-widgets/controls",
          "model_name": "ProgressStyleModel",
          "model_module_version": "1.5.0",
          "state": {
            "_model_module": "@jupyter-widgets/controls",
            "_model_module_version": "1.5.0",
            "_model_name": "ProgressStyleModel",
            "_view_count": null,
            "_view_module": "@jupyter-widgets/base",
            "_view_module_version": "1.2.0",
            "_view_name": "StyleView",
            "bar_color": null,
            "description_width": ""
          }
        },
        "74e31bf63e4e4eaf87d372a044714954": {
          "model_module": "@jupyter-widgets/base",
          "model_name": "LayoutModel",
          "model_module_version": "1.2.0",
          "state": {
            "_model_module": "@jupyter-widgets/base",
            "_model_module_version": "1.2.0",
            "_model_name": "LayoutModel",
            "_view_count": null,
            "_view_module": "@jupyter-widgets/base",
            "_view_module_version": "1.2.0",
            "_view_name": "LayoutView",
            "align_content": null,
            "align_items": null,
            "align_self": null,
            "border": null,
            "bottom": null,
            "display": null,
            "flex": null,
            "flex_flow": null,
            "grid_area": null,
            "grid_auto_columns": null,
            "grid_auto_flow": null,
            "grid_auto_rows": null,
            "grid_column": null,
            "grid_gap": null,
            "grid_row": null,
            "grid_template_areas": null,
            "grid_template_columns": null,
            "grid_template_rows": null,
            "height": null,
            "justify_content": null,
            "justify_items": null,
            "left": null,
            "margin": null,
            "max_height": null,
            "max_width": null,
            "min_height": null,
            "min_width": null,
            "object_fit": null,
            "object_position": null,
            "order": null,
            "overflow": null,
            "overflow_x": null,
            "overflow_y": null,
            "padding": null,
            "right": null,
            "top": null,
            "visibility": null,
            "width": null
          }
        },
        "5f7d7631fe7d4a13b1ab94fbe91ef9c4": {
          "model_module": "@jupyter-widgets/controls",
          "model_name": "DescriptionStyleModel",
          "model_module_version": "1.5.0",
          "state": {
            "_model_module": "@jupyter-widgets/controls",
            "_model_module_version": "1.5.0",
            "_model_name": "DescriptionStyleModel",
            "_view_count": null,
            "_view_module": "@jupyter-widgets/base",
            "_view_module_version": "1.2.0",
            "_view_name": "StyleView",
            "description_width": ""
          }
        },
        "ae8beaabe80a4a0a81b24f3cc36fb9d9": {
          "model_module": "@jupyter-widgets/controls",
          "model_name": "HBoxModel",
          "model_module_version": "1.5.0",
          "state": {
            "_dom_classes": [],
            "_model_module": "@jupyter-widgets/controls",
            "_model_module_version": "1.5.0",
            "_model_name": "HBoxModel",
            "_view_count": null,
            "_view_module": "@jupyter-widgets/controls",
            "_view_module_version": "1.5.0",
            "_view_name": "HBoxView",
            "box_style": "",
            "children": [
              "IPY_MODEL_b5a76ee97a8742c19495b208ff539487",
              "IPY_MODEL_9e3fe009a2f943d5a7835eaacad9958a",
              "IPY_MODEL_a875164de07f4bf98c722485b624066f"
            ],
            "layout": "IPY_MODEL_edb2bada7f0c4a2283f2966e63e2262f"
          }
        },
        "b5a76ee97a8742c19495b208ff539487": {
          "model_module": "@jupyter-widgets/controls",
          "model_name": "HTMLModel",
          "model_module_version": "1.5.0",
          "state": {
            "_dom_classes": [],
            "_model_module": "@jupyter-widgets/controls",
            "_model_module_version": "1.5.0",
            "_model_name": "HTMLModel",
            "_view_count": null,
            "_view_module": "@jupyter-widgets/controls",
            "_view_module_version": "1.5.0",
            "_view_name": "HTMLView",
            "description": "",
            "description_tooltip": null,
            "layout": "IPY_MODEL_a54d38a2d58c4ac7a8a358cad9a5aa7f",
            "placeholder": "​",
            "style": "IPY_MODEL_ee6c5d8b783a4e5181785e550a70b1df",
            "value": "vocab.json: 100%"
          }
        },
        "9e3fe009a2f943d5a7835eaacad9958a": {
          "model_module": "@jupyter-widgets/controls",
          "model_name": "FloatProgressModel",
          "model_module_version": "1.5.0",
          "state": {
            "_dom_classes": [],
            "_model_module": "@jupyter-widgets/controls",
            "_model_module_version": "1.5.0",
            "_model_name": "FloatProgressModel",
            "_view_count": null,
            "_view_module": "@jupyter-widgets/controls",
            "_view_module_version": "1.5.0",
            "_view_name": "ProgressView",
            "bar_style": "success",
            "description": "",
            "description_tooltip": null,
            "layout": "IPY_MODEL_f02e319247994c5ba63f86c26ee4102c",
            "max": 898823,
            "min": 0,
            "orientation": "horizontal",
            "style": "IPY_MODEL_dd8c04a33cb348ce9316fd67f5547449",
            "value": 898823
          }
        },
        "a875164de07f4bf98c722485b624066f": {
          "model_module": "@jupyter-widgets/controls",
          "model_name": "HTMLModel",
          "model_module_version": "1.5.0",
          "state": {
            "_dom_classes": [],
            "_model_module": "@jupyter-widgets/controls",
            "_model_module_version": "1.5.0",
            "_model_name": "HTMLModel",
            "_view_count": null,
            "_view_module": "@jupyter-widgets/controls",
            "_view_module_version": "1.5.0",
            "_view_name": "HTMLView",
            "description": "",
            "description_tooltip": null,
            "layout": "IPY_MODEL_ebe4ab45a2984457a801e9c2f4e897a4",
            "placeholder": "​",
            "style": "IPY_MODEL_05ef61318f3a42518e4487d2222b0c21",
            "value": " 899k/899k [00:00&lt;00:00, 1.06MB/s]"
          }
        },
        "edb2bada7f0c4a2283f2966e63e2262f": {
          "model_module": "@jupyter-widgets/base",
          "model_name": "LayoutModel",
          "model_module_version": "1.2.0",
          "state": {
            "_model_module": "@jupyter-widgets/base",
            "_model_module_version": "1.2.0",
            "_model_name": "LayoutModel",
            "_view_count": null,
            "_view_module": "@jupyter-widgets/base",
            "_view_module_version": "1.2.0",
            "_view_name": "LayoutView",
            "align_content": null,
            "align_items": null,
            "align_self": null,
            "border": null,
            "bottom": null,
            "display": null,
            "flex": null,
            "flex_flow": null,
            "grid_area": null,
            "grid_auto_columns": null,
            "grid_auto_flow": null,
            "grid_auto_rows": null,
            "grid_column": null,
            "grid_gap": null,
            "grid_row": null,
            "grid_template_areas": null,
            "grid_template_columns": null,
            "grid_template_rows": null,
            "height": null,
            "justify_content": null,
            "justify_items": null,
            "left": null,
            "margin": null,
            "max_height": null,
            "max_width": null,
            "min_height": null,
            "min_width": null,
            "object_fit": null,
            "object_position": null,
            "order": null,
            "overflow": null,
            "overflow_x": null,
            "overflow_y": null,
            "padding": null,
            "right": null,
            "top": null,
            "visibility": null,
            "width": null
          }
        },
        "a54d38a2d58c4ac7a8a358cad9a5aa7f": {
          "model_module": "@jupyter-widgets/base",
          "model_name": "LayoutModel",
          "model_module_version": "1.2.0",
          "state": {
            "_model_module": "@jupyter-widgets/base",
            "_model_module_version": "1.2.0",
            "_model_name": "LayoutModel",
            "_view_count": null,
            "_view_module": "@jupyter-widgets/base",
            "_view_module_version": "1.2.0",
            "_view_name": "LayoutView",
            "align_content": null,
            "align_items": null,
            "align_self": null,
            "border": null,
            "bottom": null,
            "display": null,
            "flex": null,
            "flex_flow": null,
            "grid_area": null,
            "grid_auto_columns": null,
            "grid_auto_flow": null,
            "grid_auto_rows": null,
            "grid_column": null,
            "grid_gap": null,
            "grid_row": null,
            "grid_template_areas": null,
            "grid_template_columns": null,
            "grid_template_rows": null,
            "height": null,
            "justify_content": null,
            "justify_items": null,
            "left": null,
            "margin": null,
            "max_height": null,
            "max_width": null,
            "min_height": null,
            "min_width": null,
            "object_fit": null,
            "object_position": null,
            "order": null,
            "overflow": null,
            "overflow_x": null,
            "overflow_y": null,
            "padding": null,
            "right": null,
            "top": null,
            "visibility": null,
            "width": null
          }
        },
        "ee6c5d8b783a4e5181785e550a70b1df": {
          "model_module": "@jupyter-widgets/controls",
          "model_name": "DescriptionStyleModel",
          "model_module_version": "1.5.0",
          "state": {
            "_model_module": "@jupyter-widgets/controls",
            "_model_module_version": "1.5.0",
            "_model_name": "DescriptionStyleModel",
            "_view_count": null,
            "_view_module": "@jupyter-widgets/base",
            "_view_module_version": "1.2.0",
            "_view_name": "StyleView",
            "description_width": ""
          }
        },
        "f02e319247994c5ba63f86c26ee4102c": {
          "model_module": "@jupyter-widgets/base",
          "model_name": "LayoutModel",
          "model_module_version": "1.2.0",
          "state": {
            "_model_module": "@jupyter-widgets/base",
            "_model_module_version": "1.2.0",
            "_model_name": "LayoutModel",
            "_view_count": null,
            "_view_module": "@jupyter-widgets/base",
            "_view_module_version": "1.2.0",
            "_view_name": "LayoutView",
            "align_content": null,
            "align_items": null,
            "align_self": null,
            "border": null,
            "bottom": null,
            "display": null,
            "flex": null,
            "flex_flow": null,
            "grid_area": null,
            "grid_auto_columns": null,
            "grid_auto_flow": null,
            "grid_auto_rows": null,
            "grid_column": null,
            "grid_gap": null,
            "grid_row": null,
            "grid_template_areas": null,
            "grid_template_columns": null,
            "grid_template_rows": null,
            "height": null,
            "justify_content": null,
            "justify_items": null,
            "left": null,
            "margin": null,
            "max_height": null,
            "max_width": null,
            "min_height": null,
            "min_width": null,
            "object_fit": null,
            "object_position": null,
            "order": null,
            "overflow": null,
            "overflow_x": null,
            "overflow_y": null,
            "padding": null,
            "right": null,
            "top": null,
            "visibility": null,
            "width": null
          }
        },
        "dd8c04a33cb348ce9316fd67f5547449": {
          "model_module": "@jupyter-widgets/controls",
          "model_name": "ProgressStyleModel",
          "model_module_version": "1.5.0",
          "state": {
            "_model_module": "@jupyter-widgets/controls",
            "_model_module_version": "1.5.0",
            "_model_name": "ProgressStyleModel",
            "_view_count": null,
            "_view_module": "@jupyter-widgets/base",
            "_view_module_version": "1.2.0",
            "_view_name": "StyleView",
            "bar_color": null,
            "description_width": ""
          }
        },
        "ebe4ab45a2984457a801e9c2f4e897a4": {
          "model_module": "@jupyter-widgets/base",
          "model_name": "LayoutModel",
          "model_module_version": "1.2.0",
          "state": {
            "_model_module": "@jupyter-widgets/base",
            "_model_module_version": "1.2.0",
            "_model_name": "LayoutModel",
            "_view_count": null,
            "_view_module": "@jupyter-widgets/base",
            "_view_module_version": "1.2.0",
            "_view_name": "LayoutView",
            "align_content": null,
            "align_items": null,
            "align_self": null,
            "border": null,
            "bottom": null,
            "display": null,
            "flex": null,
            "flex_flow": null,
            "grid_area": null,
            "grid_auto_columns": null,
            "grid_auto_flow": null,
            "grid_auto_rows": null,
            "grid_column": null,
            "grid_gap": null,
            "grid_row": null,
            "grid_template_areas": null,
            "grid_template_columns": null,
            "grid_template_rows": null,
            "height": null,
            "justify_content": null,
            "justify_items": null,
            "left": null,
            "margin": null,
            "max_height": null,
            "max_width": null,
            "min_height": null,
            "min_width": null,
            "object_fit": null,
            "object_position": null,
            "order": null,
            "overflow": null,
            "overflow_x": null,
            "overflow_y": null,
            "padding": null,
            "right": null,
            "top": null,
            "visibility": null,
            "width": null
          }
        },
        "05ef61318f3a42518e4487d2222b0c21": {
          "model_module": "@jupyter-widgets/controls",
          "model_name": "DescriptionStyleModel",
          "model_module_version": "1.5.0",
          "state": {
            "_model_module": "@jupyter-widgets/controls",
            "_model_module_version": "1.5.0",
            "_model_name": "DescriptionStyleModel",
            "_view_count": null,
            "_view_module": "@jupyter-widgets/base",
            "_view_module_version": "1.2.0",
            "_view_name": "StyleView",
            "description_width": ""
          }
        },
        "7bd0466e09634ae8ada2ead62cab8ac5": {
          "model_module": "@jupyter-widgets/controls",
          "model_name": "HBoxModel",
          "model_module_version": "1.5.0",
          "state": {
            "_dom_classes": [],
            "_model_module": "@jupyter-widgets/controls",
            "_model_module_version": "1.5.0",
            "_model_name": "HBoxModel",
            "_view_count": null,
            "_view_module": "@jupyter-widgets/controls",
            "_view_module_version": "1.5.0",
            "_view_name": "HBoxView",
            "box_style": "",
            "children": [
              "IPY_MODEL_2c247e34a71c4b5eb48a8aba6e5ce78a",
              "IPY_MODEL_29a33b99d5654313b28584bc08a9ea74",
              "IPY_MODEL_319c120293244a9c97f56941e2b49ab6"
            ],
            "layout": "IPY_MODEL_2bb92a366d9749eca2be48825efe513c"
          }
        },
        "2c247e34a71c4b5eb48a8aba6e5ce78a": {
          "model_module": "@jupyter-widgets/controls",
          "model_name": "HTMLModel",
          "model_module_version": "1.5.0",
          "state": {
            "_dom_classes": [],
            "_model_module": "@jupyter-widgets/controls",
            "_model_module_version": "1.5.0",
            "_model_name": "HTMLModel",
            "_view_count": null,
            "_view_module": "@jupyter-widgets/controls",
            "_view_module_version": "1.5.0",
            "_view_name": "HTMLView",
            "description": "",
            "description_tooltip": null,
            "layout": "IPY_MODEL_da9acbfeea96463a93b8f1db2a122094",
            "placeholder": "​",
            "style": "IPY_MODEL_66e058bc435d406d81109a560d0cb14d",
            "value": "merges.txt: 100%"
          }
        },
        "29a33b99d5654313b28584bc08a9ea74": {
          "model_module": "@jupyter-widgets/controls",
          "model_name": "FloatProgressModel",
          "model_module_version": "1.5.0",
          "state": {
            "_dom_classes": [],
            "_model_module": "@jupyter-widgets/controls",
            "_model_module_version": "1.5.0",
            "_model_name": "FloatProgressModel",
            "_view_count": null,
            "_view_module": "@jupyter-widgets/controls",
            "_view_module_version": "1.5.0",
            "_view_name": "ProgressView",
            "bar_style": "success",
            "description": "",
            "description_tooltip": null,
            "layout": "IPY_MODEL_5b3d4b25e01f4b82897d055055a9cc89",
            "max": 456318,
            "min": 0,
            "orientation": "horizontal",
            "style": "IPY_MODEL_47543092c7754046832acee5f4d53752",
            "value": 456318
          }
        },
        "319c120293244a9c97f56941e2b49ab6": {
          "model_module": "@jupyter-widgets/controls",
          "model_name": "HTMLModel",
          "model_module_version": "1.5.0",
          "state": {
            "_dom_classes": [],
            "_model_module": "@jupyter-widgets/controls",
            "_model_module_version": "1.5.0",
            "_model_name": "HTMLModel",
            "_view_count": null,
            "_view_module": "@jupyter-widgets/controls",
            "_view_module_version": "1.5.0",
            "_view_name": "HTMLView",
            "description": "",
            "description_tooltip": null,
            "layout": "IPY_MODEL_8e9fd4a7524c4797b8ac515fdabf5b92",
            "placeholder": "​",
            "style": "IPY_MODEL_1e06446c2b0d4a939c3f3631bbadcbca",
            "value": " 456k/456k [00:00&lt;00:00, 704kB/s]"
          }
        },
        "2bb92a366d9749eca2be48825efe513c": {
          "model_module": "@jupyter-widgets/base",
          "model_name": "LayoutModel",
          "model_module_version": "1.2.0",
          "state": {
            "_model_module": "@jupyter-widgets/base",
            "_model_module_version": "1.2.0",
            "_model_name": "LayoutModel",
            "_view_count": null,
            "_view_module": "@jupyter-widgets/base",
            "_view_module_version": "1.2.0",
            "_view_name": "LayoutView",
            "align_content": null,
            "align_items": null,
            "align_self": null,
            "border": null,
            "bottom": null,
            "display": null,
            "flex": null,
            "flex_flow": null,
            "grid_area": null,
            "grid_auto_columns": null,
            "grid_auto_flow": null,
            "grid_auto_rows": null,
            "grid_column": null,
            "grid_gap": null,
            "grid_row": null,
            "grid_template_areas": null,
            "grid_template_columns": null,
            "grid_template_rows": null,
            "height": null,
            "justify_content": null,
            "justify_items": null,
            "left": null,
            "margin": null,
            "max_height": null,
            "max_width": null,
            "min_height": null,
            "min_width": null,
            "object_fit": null,
            "object_position": null,
            "order": null,
            "overflow": null,
            "overflow_x": null,
            "overflow_y": null,
            "padding": null,
            "right": null,
            "top": null,
            "visibility": null,
            "width": null
          }
        },
        "da9acbfeea96463a93b8f1db2a122094": {
          "model_module": "@jupyter-widgets/base",
          "model_name": "LayoutModel",
          "model_module_version": "1.2.0",
          "state": {
            "_model_module": "@jupyter-widgets/base",
            "_model_module_version": "1.2.0",
            "_model_name": "LayoutModel",
            "_view_count": null,
            "_view_module": "@jupyter-widgets/base",
            "_view_module_version": "1.2.0",
            "_view_name": "LayoutView",
            "align_content": null,
            "align_items": null,
            "align_self": null,
            "border": null,
            "bottom": null,
            "display": null,
            "flex": null,
            "flex_flow": null,
            "grid_area": null,
            "grid_auto_columns": null,
            "grid_auto_flow": null,
            "grid_auto_rows": null,
            "grid_column": null,
            "grid_gap": null,
            "grid_row": null,
            "grid_template_areas": null,
            "grid_template_columns": null,
            "grid_template_rows": null,
            "height": null,
            "justify_content": null,
            "justify_items": null,
            "left": null,
            "margin": null,
            "max_height": null,
            "max_width": null,
            "min_height": null,
            "min_width": null,
            "object_fit": null,
            "object_position": null,
            "order": null,
            "overflow": null,
            "overflow_x": null,
            "overflow_y": null,
            "padding": null,
            "right": null,
            "top": null,
            "visibility": null,
            "width": null
          }
        },
        "66e058bc435d406d81109a560d0cb14d": {
          "model_module": "@jupyter-widgets/controls",
          "model_name": "DescriptionStyleModel",
          "model_module_version": "1.5.0",
          "state": {
            "_model_module": "@jupyter-widgets/controls",
            "_model_module_version": "1.5.0",
            "_model_name": "DescriptionStyleModel",
            "_view_count": null,
            "_view_module": "@jupyter-widgets/base",
            "_view_module_version": "1.2.0",
            "_view_name": "StyleView",
            "description_width": ""
          }
        },
        "5b3d4b25e01f4b82897d055055a9cc89": {
          "model_module": "@jupyter-widgets/base",
          "model_name": "LayoutModel",
          "model_module_version": "1.2.0",
          "state": {
            "_model_module": "@jupyter-widgets/base",
            "_model_module_version": "1.2.0",
            "_model_name": "LayoutModel",
            "_view_count": null,
            "_view_module": "@jupyter-widgets/base",
            "_view_module_version": "1.2.0",
            "_view_name": "LayoutView",
            "align_content": null,
            "align_items": null,
            "align_self": null,
            "border": null,
            "bottom": null,
            "display": null,
            "flex": null,
            "flex_flow": null,
            "grid_area": null,
            "grid_auto_columns": null,
            "grid_auto_flow": null,
            "grid_auto_rows": null,
            "grid_column": null,
            "grid_gap": null,
            "grid_row": null,
            "grid_template_areas": null,
            "grid_template_columns": null,
            "grid_template_rows": null,
            "height": null,
            "justify_content": null,
            "justify_items": null,
            "left": null,
            "margin": null,
            "max_height": null,
            "max_width": null,
            "min_height": null,
            "min_width": null,
            "object_fit": null,
            "object_position": null,
            "order": null,
            "overflow": null,
            "overflow_x": null,
            "overflow_y": null,
            "padding": null,
            "right": null,
            "top": null,
            "visibility": null,
            "width": null
          }
        },
        "47543092c7754046832acee5f4d53752": {
          "model_module": "@jupyter-widgets/controls",
          "model_name": "ProgressStyleModel",
          "model_module_version": "1.5.0",
          "state": {
            "_model_module": "@jupyter-widgets/controls",
            "_model_module_version": "1.5.0",
            "_model_name": "ProgressStyleModel",
            "_view_count": null,
            "_view_module": "@jupyter-widgets/base",
            "_view_module_version": "1.2.0",
            "_view_name": "StyleView",
            "bar_color": null,
            "description_width": ""
          }
        },
        "8e9fd4a7524c4797b8ac515fdabf5b92": {
          "model_module": "@jupyter-widgets/base",
          "model_name": "LayoutModel",
          "model_module_version": "1.2.0",
          "state": {
            "_model_module": "@jupyter-widgets/base",
            "_model_module_version": "1.2.0",
            "_model_name": "LayoutModel",
            "_view_count": null,
            "_view_module": "@jupyter-widgets/base",
            "_view_module_version": "1.2.0",
            "_view_name": "LayoutView",
            "align_content": null,
            "align_items": null,
            "align_self": null,
            "border": null,
            "bottom": null,
            "display": null,
            "flex": null,
            "flex_flow": null,
            "grid_area": null,
            "grid_auto_columns": null,
            "grid_auto_flow": null,
            "grid_auto_rows": null,
            "grid_column": null,
            "grid_gap": null,
            "grid_row": null,
            "grid_template_areas": null,
            "grid_template_columns": null,
            "grid_template_rows": null,
            "height": null,
            "justify_content": null,
            "justify_items": null,
            "left": null,
            "margin": null,
            "max_height": null,
            "max_width": null,
            "min_height": null,
            "min_width": null,
            "object_fit": null,
            "object_position": null,
            "order": null,
            "overflow": null,
            "overflow_x": null,
            "overflow_y": null,
            "padding": null,
            "right": null,
            "top": null,
            "visibility": null,
            "width": null
          }
        },
        "1e06446c2b0d4a939c3f3631bbadcbca": {
          "model_module": "@jupyter-widgets/controls",
          "model_name": "DescriptionStyleModel",
          "model_module_version": "1.5.0",
          "state": {
            "_model_module": "@jupyter-widgets/controls",
            "_model_module_version": "1.5.0",
            "_model_name": "DescriptionStyleModel",
            "_view_count": null,
            "_view_module": "@jupyter-widgets/base",
            "_view_module_version": "1.2.0",
            "_view_name": "StyleView",
            "description_width": ""
          }
        },
        "a87a5d44fbc64487af28d850d3c6a23b": {
          "model_module": "@jupyter-widgets/controls",
          "model_name": "HBoxModel",
          "model_module_version": "1.5.0",
          "state": {
            "_dom_classes": [],
            "_model_module": "@jupyter-widgets/controls",
            "_model_module_version": "1.5.0",
            "_model_name": "HBoxModel",
            "_view_count": null,
            "_view_module": "@jupyter-widgets/controls",
            "_view_module_version": "1.5.0",
            "_view_name": "HBoxView",
            "box_style": "",
            "children": [
              "IPY_MODEL_2d8cf22cb16642e29ebe55d8b097e58d",
              "IPY_MODEL_34aa34719069477e85f6126bb7d14136",
              "IPY_MODEL_4fc4403661ca40f08caaa403f8456994"
            ],
            "layout": "IPY_MODEL_0dff5b4f088943aca08f63af5e5d4389"
          }
        },
        "2d8cf22cb16642e29ebe55d8b097e58d": {
          "model_module": "@jupyter-widgets/controls",
          "model_name": "HTMLModel",
          "model_module_version": "1.5.0",
          "state": {
            "_dom_classes": [],
            "_model_module": "@jupyter-widgets/controls",
            "_model_module_version": "1.5.0",
            "_model_name": "HTMLModel",
            "_view_count": null,
            "_view_module": "@jupyter-widgets/controls",
            "_view_module_version": "1.5.0",
            "_view_name": "HTMLView",
            "description": "",
            "description_tooltip": null,
            "layout": "IPY_MODEL_a5abef123cef46f89ad6114ab14e62ed",
            "placeholder": "​",
            "style": "IPY_MODEL_a0703d6ded2a4ff1a4141b90284c32b4",
            "value": "tokenizer.json: 100%"
          }
        },
        "34aa34719069477e85f6126bb7d14136": {
          "model_module": "@jupyter-widgets/controls",
          "model_name": "FloatProgressModel",
          "model_module_version": "1.5.0",
          "state": {
            "_dom_classes": [],
            "_model_module": "@jupyter-widgets/controls",
            "_model_module_version": "1.5.0",
            "_model_name": "FloatProgressModel",
            "_view_count": null,
            "_view_module": "@jupyter-widgets/controls",
            "_view_module_version": "1.5.0",
            "_view_name": "ProgressView",
            "bar_style": "success",
            "description": "",
            "description_tooltip": null,
            "layout": "IPY_MODEL_ee85eddfd4d84684a83bca164c97b706",
            "max": 1355863,
            "min": 0,
            "orientation": "horizontal",
            "style": "IPY_MODEL_370bee2526fa4054a1b058299d5df16a",
            "value": 1355863
          }
        },
        "4fc4403661ca40f08caaa403f8456994": {
          "model_module": "@jupyter-widgets/controls",
          "model_name": "HTMLModel",
          "model_module_version": "1.5.0",
          "state": {
            "_dom_classes": [],
            "_model_module": "@jupyter-widgets/controls",
            "_model_module_version": "1.5.0",
            "_model_name": "HTMLModel",
            "_view_count": null,
            "_view_module": "@jupyter-widgets/controls",
            "_view_module_version": "1.5.0",
            "_view_name": "HTMLView",
            "description": "",
            "description_tooltip": null,
            "layout": "IPY_MODEL_36edb290675143eca2fc5956e31c313f",
            "placeholder": "​",
            "style": "IPY_MODEL_73c215f8541240e4bd34f2bb788a1339",
            "value": " 1.36M/1.36M [00:01&lt;00:00, 696kB/s]"
          }
        },
        "0dff5b4f088943aca08f63af5e5d4389": {
          "model_module": "@jupyter-widgets/base",
          "model_name": "LayoutModel",
          "model_module_version": "1.2.0",
          "state": {
            "_model_module": "@jupyter-widgets/base",
            "_model_module_version": "1.2.0",
            "_model_name": "LayoutModel",
            "_view_count": null,
            "_view_module": "@jupyter-widgets/base",
            "_view_module_version": "1.2.0",
            "_view_name": "LayoutView",
            "align_content": null,
            "align_items": null,
            "align_self": null,
            "border": null,
            "bottom": null,
            "display": null,
            "flex": null,
            "flex_flow": null,
            "grid_area": null,
            "grid_auto_columns": null,
            "grid_auto_flow": null,
            "grid_auto_rows": null,
            "grid_column": null,
            "grid_gap": null,
            "grid_row": null,
            "grid_template_areas": null,
            "grid_template_columns": null,
            "grid_template_rows": null,
            "height": null,
            "justify_content": null,
            "justify_items": null,
            "left": null,
            "margin": null,
            "max_height": null,
            "max_width": null,
            "min_height": null,
            "min_width": null,
            "object_fit": null,
            "object_position": null,
            "order": null,
            "overflow": null,
            "overflow_x": null,
            "overflow_y": null,
            "padding": null,
            "right": null,
            "top": null,
            "visibility": null,
            "width": null
          }
        },
        "a5abef123cef46f89ad6114ab14e62ed": {
          "model_module": "@jupyter-widgets/base",
          "model_name": "LayoutModel",
          "model_module_version": "1.2.0",
          "state": {
            "_model_module": "@jupyter-widgets/base",
            "_model_module_version": "1.2.0",
            "_model_name": "LayoutModel",
            "_view_count": null,
            "_view_module": "@jupyter-widgets/base",
            "_view_module_version": "1.2.0",
            "_view_name": "LayoutView",
            "align_content": null,
            "align_items": null,
            "align_self": null,
            "border": null,
            "bottom": null,
            "display": null,
            "flex": null,
            "flex_flow": null,
            "grid_area": null,
            "grid_auto_columns": null,
            "grid_auto_flow": null,
            "grid_auto_rows": null,
            "grid_column": null,
            "grid_gap": null,
            "grid_row": null,
            "grid_template_areas": null,
            "grid_template_columns": null,
            "grid_template_rows": null,
            "height": null,
            "justify_content": null,
            "justify_items": null,
            "left": null,
            "margin": null,
            "max_height": null,
            "max_width": null,
            "min_height": null,
            "min_width": null,
            "object_fit": null,
            "object_position": null,
            "order": null,
            "overflow": null,
            "overflow_x": null,
            "overflow_y": null,
            "padding": null,
            "right": null,
            "top": null,
            "visibility": null,
            "width": null
          }
        },
        "a0703d6ded2a4ff1a4141b90284c32b4": {
          "model_module": "@jupyter-widgets/controls",
          "model_name": "DescriptionStyleModel",
          "model_module_version": "1.5.0",
          "state": {
            "_model_module": "@jupyter-widgets/controls",
            "_model_module_version": "1.5.0",
            "_model_name": "DescriptionStyleModel",
            "_view_count": null,
            "_view_module": "@jupyter-widgets/base",
            "_view_module_version": "1.2.0",
            "_view_name": "StyleView",
            "description_width": ""
          }
        },
        "ee85eddfd4d84684a83bca164c97b706": {
          "model_module": "@jupyter-widgets/base",
          "model_name": "LayoutModel",
          "model_module_version": "1.2.0",
          "state": {
            "_model_module": "@jupyter-widgets/base",
            "_model_module_version": "1.2.0",
            "_model_name": "LayoutModel",
            "_view_count": null,
            "_view_module": "@jupyter-widgets/base",
            "_view_module_version": "1.2.0",
            "_view_name": "LayoutView",
            "align_content": null,
            "align_items": null,
            "align_self": null,
            "border": null,
            "bottom": null,
            "display": null,
            "flex": null,
            "flex_flow": null,
            "grid_area": null,
            "grid_auto_columns": null,
            "grid_auto_flow": null,
            "grid_auto_rows": null,
            "grid_column": null,
            "grid_gap": null,
            "grid_row": null,
            "grid_template_areas": null,
            "grid_template_columns": null,
            "grid_template_rows": null,
            "height": null,
            "justify_content": null,
            "justify_items": null,
            "left": null,
            "margin": null,
            "max_height": null,
            "max_width": null,
            "min_height": null,
            "min_width": null,
            "object_fit": null,
            "object_position": null,
            "order": null,
            "overflow": null,
            "overflow_x": null,
            "overflow_y": null,
            "padding": null,
            "right": null,
            "top": null,
            "visibility": null,
            "width": null
          }
        },
        "370bee2526fa4054a1b058299d5df16a": {
          "model_module": "@jupyter-widgets/controls",
          "model_name": "ProgressStyleModel",
          "model_module_version": "1.5.0",
          "state": {
            "_model_module": "@jupyter-widgets/controls",
            "_model_module_version": "1.5.0",
            "_model_name": "ProgressStyleModel",
            "_view_count": null,
            "_view_module": "@jupyter-widgets/base",
            "_view_module_version": "1.2.0",
            "_view_name": "StyleView",
            "bar_color": null,
            "description_width": ""
          }
        },
        "36edb290675143eca2fc5956e31c313f": {
          "model_module": "@jupyter-widgets/base",
          "model_name": "LayoutModel",
          "model_module_version": "1.2.0",
          "state": {
            "_model_module": "@jupyter-widgets/base",
            "_model_module_version": "1.2.0",
            "_model_name": "LayoutModel",
            "_view_count": null,
            "_view_module": "@jupyter-widgets/base",
            "_view_module_version": "1.2.0",
            "_view_name": "LayoutView",
            "align_content": null,
            "align_items": null,
            "align_self": null,
            "border": null,
            "bottom": null,
            "display": null,
            "flex": null,
            "flex_flow": null,
            "grid_area": null,
            "grid_auto_columns": null,
            "grid_auto_flow": null,
            "grid_auto_rows": null,
            "grid_column": null,
            "grid_gap": null,
            "grid_row": null,
            "grid_template_areas": null,
            "grid_template_columns": null,
            "grid_template_rows": null,
            "height": null,
            "justify_content": null,
            "justify_items": null,
            "left": null,
            "margin": null,
            "max_height": null,
            "max_width": null,
            "min_height": null,
            "min_width": null,
            "object_fit": null,
            "object_position": null,
            "order": null,
            "overflow": null,
            "overflow_x": null,
            "overflow_y": null,
            "padding": null,
            "right": null,
            "top": null,
            "visibility": null,
            "width": null
          }
        },
        "73c215f8541240e4bd34f2bb788a1339": {
          "model_module": "@jupyter-widgets/controls",
          "model_name": "DescriptionStyleModel",
          "model_module_version": "1.5.0",
          "state": {
            "_model_module": "@jupyter-widgets/controls",
            "_model_module_version": "1.5.0",
            "_model_name": "DescriptionStyleModel",
            "_view_count": null,
            "_view_module": "@jupyter-widgets/base",
            "_view_module_version": "1.2.0",
            "_view_name": "StyleView",
            "description_width": ""
          }
        },
        "c669827e65004063b1b6b9f61f717fec": {
          "model_module": "@jupyter-widgets/controls",
          "model_name": "HBoxModel",
          "model_module_version": "1.5.0",
          "state": {
            "_dom_classes": [],
            "_model_module": "@jupyter-widgets/controls",
            "_model_module_version": "1.5.0",
            "_model_name": "HBoxModel",
            "_view_count": null,
            "_view_module": "@jupyter-widgets/controls",
            "_view_module_version": "1.5.0",
            "_view_name": "HBoxView",
            "box_style": "",
            "children": [
              "IPY_MODEL_f652dcea582b4fc0b188fbf0f90555c7",
              "IPY_MODEL_9eb88f8d721e4e7bb804e76fe87e5a5b",
              "IPY_MODEL_d35618540b5a41a694587e737aa1f9c4"
            ],
            "layout": "IPY_MODEL_b701b22e44c84ee2a521029de83519a8"
          }
        },
        "f652dcea582b4fc0b188fbf0f90555c7": {
          "model_module": "@jupyter-widgets/controls",
          "model_name": "HTMLModel",
          "model_module_version": "1.5.0",
          "state": {
            "_dom_classes": [],
            "_model_module": "@jupyter-widgets/controls",
            "_model_module_version": "1.5.0",
            "_model_name": "HTMLModel",
            "_view_count": null,
            "_view_module": "@jupyter-widgets/controls",
            "_view_module_version": "1.5.0",
            "_view_name": "HTMLView",
            "description": "",
            "description_tooltip": null,
            "layout": "IPY_MODEL_d6c775fbb5594fce8ca97457789d25a5",
            "placeholder": "​",
            "style": "IPY_MODEL_6e73d853c67a41fd8ef322e1d29c3834",
            "value": "Map: 100%"
          }
        },
        "9eb88f8d721e4e7bb804e76fe87e5a5b": {
          "model_module": "@jupyter-widgets/controls",
          "model_name": "FloatProgressModel",
          "model_module_version": "1.5.0",
          "state": {
            "_dom_classes": [],
            "_model_module": "@jupyter-widgets/controls",
            "_model_module_version": "1.5.0",
            "_model_name": "FloatProgressModel",
            "_view_count": null,
            "_view_module": "@jupyter-widgets/controls",
            "_view_module_version": "1.5.0",
            "_view_name": "ProgressView",
            "bar_style": "success",
            "description": "",
            "description_tooltip": null,
            "layout": "IPY_MODEL_4b56f1cd06e0456bb03ac162391a0613",
            "max": 2000,
            "min": 0,
            "orientation": "horizontal",
            "style": "IPY_MODEL_7127711eca024c939781e664b57055b9",
            "value": 2000
          }
        },
        "d35618540b5a41a694587e737aa1f9c4": {
          "model_module": "@jupyter-widgets/controls",
          "model_name": "HTMLModel",
          "model_module_version": "1.5.0",
          "state": {
            "_dom_classes": [],
            "_model_module": "@jupyter-widgets/controls",
            "_model_module_version": "1.5.0",
            "_model_name": "HTMLModel",
            "_view_count": null,
            "_view_module": "@jupyter-widgets/controls",
            "_view_module_version": "1.5.0",
            "_view_name": "HTMLView",
            "description": "",
            "description_tooltip": null,
            "layout": "IPY_MODEL_1c3b408be7b54c25bcdddf5736787a73",
            "placeholder": "​",
            "style": "IPY_MODEL_53743306206d42a0a7ebb3d45e235c11",
            "value": " 2000/2000 [00:00&lt;00:00, 7559.24 examples/s]"
          }
        },
        "b701b22e44c84ee2a521029de83519a8": {
          "model_module": "@jupyter-widgets/base",
          "model_name": "LayoutModel",
          "model_module_version": "1.2.0",
          "state": {
            "_model_module": "@jupyter-widgets/base",
            "_model_module_version": "1.2.0",
            "_model_name": "LayoutModel",
            "_view_count": null,
            "_view_module": "@jupyter-widgets/base",
            "_view_module_version": "1.2.0",
            "_view_name": "LayoutView",
            "align_content": null,
            "align_items": null,
            "align_self": null,
            "border": null,
            "bottom": null,
            "display": null,
            "flex": null,
            "flex_flow": null,
            "grid_area": null,
            "grid_auto_columns": null,
            "grid_auto_flow": null,
            "grid_auto_rows": null,
            "grid_column": null,
            "grid_gap": null,
            "grid_row": null,
            "grid_template_areas": null,
            "grid_template_columns": null,
            "grid_template_rows": null,
            "height": null,
            "justify_content": null,
            "justify_items": null,
            "left": null,
            "margin": null,
            "max_height": null,
            "max_width": null,
            "min_height": null,
            "min_width": null,
            "object_fit": null,
            "object_position": null,
            "order": null,
            "overflow": null,
            "overflow_x": null,
            "overflow_y": null,
            "padding": null,
            "right": null,
            "top": null,
            "visibility": null,
            "width": null
          }
        },
        "d6c775fbb5594fce8ca97457789d25a5": {
          "model_module": "@jupyter-widgets/base",
          "model_name": "LayoutModel",
          "model_module_version": "1.2.0",
          "state": {
            "_model_module": "@jupyter-widgets/base",
            "_model_module_version": "1.2.0",
            "_model_name": "LayoutModel",
            "_view_count": null,
            "_view_module": "@jupyter-widgets/base",
            "_view_module_version": "1.2.0",
            "_view_name": "LayoutView",
            "align_content": null,
            "align_items": null,
            "align_self": null,
            "border": null,
            "bottom": null,
            "display": null,
            "flex": null,
            "flex_flow": null,
            "grid_area": null,
            "grid_auto_columns": null,
            "grid_auto_flow": null,
            "grid_auto_rows": null,
            "grid_column": null,
            "grid_gap": null,
            "grid_row": null,
            "grid_template_areas": null,
            "grid_template_columns": null,
            "grid_template_rows": null,
            "height": null,
            "justify_content": null,
            "justify_items": null,
            "left": null,
            "margin": null,
            "max_height": null,
            "max_width": null,
            "min_height": null,
            "min_width": null,
            "object_fit": null,
            "object_position": null,
            "order": null,
            "overflow": null,
            "overflow_x": null,
            "overflow_y": null,
            "padding": null,
            "right": null,
            "top": null,
            "visibility": null,
            "width": null
          }
        },
        "6e73d853c67a41fd8ef322e1d29c3834": {
          "model_module": "@jupyter-widgets/controls",
          "model_name": "DescriptionStyleModel",
          "model_module_version": "1.5.0",
          "state": {
            "_model_module": "@jupyter-widgets/controls",
            "_model_module_version": "1.5.0",
            "_model_name": "DescriptionStyleModel",
            "_view_count": null,
            "_view_module": "@jupyter-widgets/base",
            "_view_module_version": "1.2.0",
            "_view_name": "StyleView",
            "description_width": ""
          }
        },
        "4b56f1cd06e0456bb03ac162391a0613": {
          "model_module": "@jupyter-widgets/base",
          "model_name": "LayoutModel",
          "model_module_version": "1.2.0",
          "state": {
            "_model_module": "@jupyter-widgets/base",
            "_model_module_version": "1.2.0",
            "_model_name": "LayoutModel",
            "_view_count": null,
            "_view_module": "@jupyter-widgets/base",
            "_view_module_version": "1.2.0",
            "_view_name": "LayoutView",
            "align_content": null,
            "align_items": null,
            "align_self": null,
            "border": null,
            "bottom": null,
            "display": null,
            "flex": null,
            "flex_flow": null,
            "grid_area": null,
            "grid_auto_columns": null,
            "grid_auto_flow": null,
            "grid_auto_rows": null,
            "grid_column": null,
            "grid_gap": null,
            "grid_row": null,
            "grid_template_areas": null,
            "grid_template_columns": null,
            "grid_template_rows": null,
            "height": null,
            "justify_content": null,
            "justify_items": null,
            "left": null,
            "margin": null,
            "max_height": null,
            "max_width": null,
            "min_height": null,
            "min_width": null,
            "object_fit": null,
            "object_position": null,
            "order": null,
            "overflow": null,
            "overflow_x": null,
            "overflow_y": null,
            "padding": null,
            "right": null,
            "top": null,
            "visibility": null,
            "width": null
          }
        },
        "7127711eca024c939781e664b57055b9": {
          "model_module": "@jupyter-widgets/controls",
          "model_name": "ProgressStyleModel",
          "model_module_version": "1.5.0",
          "state": {
            "_model_module": "@jupyter-widgets/controls",
            "_model_module_version": "1.5.0",
            "_model_name": "ProgressStyleModel",
            "_view_count": null,
            "_view_module": "@jupyter-widgets/base",
            "_view_module_version": "1.2.0",
            "_view_name": "StyleView",
            "bar_color": null,
            "description_width": ""
          }
        },
        "1c3b408be7b54c25bcdddf5736787a73": {
          "model_module": "@jupyter-widgets/base",
          "model_name": "LayoutModel",
          "model_module_version": "1.2.0",
          "state": {
            "_model_module": "@jupyter-widgets/base",
            "_model_module_version": "1.2.0",
            "_model_name": "LayoutModel",
            "_view_count": null,
            "_view_module": "@jupyter-widgets/base",
            "_view_module_version": "1.2.0",
            "_view_name": "LayoutView",
            "align_content": null,
            "align_items": null,
            "align_self": null,
            "border": null,
            "bottom": null,
            "display": null,
            "flex": null,
            "flex_flow": null,
            "grid_area": null,
            "grid_auto_columns": null,
            "grid_auto_flow": null,
            "grid_auto_rows": null,
            "grid_column": null,
            "grid_gap": null,
            "grid_row": null,
            "grid_template_areas": null,
            "grid_template_columns": null,
            "grid_template_rows": null,
            "height": null,
            "justify_content": null,
            "justify_items": null,
            "left": null,
            "margin": null,
            "max_height": null,
            "max_width": null,
            "min_height": null,
            "min_width": null,
            "object_fit": null,
            "object_position": null,
            "order": null,
            "overflow": null,
            "overflow_x": null,
            "overflow_y": null,
            "padding": null,
            "right": null,
            "top": null,
            "visibility": null,
            "width": null
          }
        },
        "53743306206d42a0a7ebb3d45e235c11": {
          "model_module": "@jupyter-widgets/controls",
          "model_name": "DescriptionStyleModel",
          "model_module_version": "1.5.0",
          "state": {
            "_model_module": "@jupyter-widgets/controls",
            "_model_module_version": "1.5.0",
            "_model_name": "DescriptionStyleModel",
            "_view_count": null,
            "_view_module": "@jupyter-widgets/base",
            "_view_module_version": "1.2.0",
            "_view_name": "StyleView",
            "description_width": ""
          }
        },
        "13d201ce252743de8075393355554e9b": {
          "model_module": "@jupyter-widgets/controls",
          "model_name": "HBoxModel",
          "model_module_version": "1.5.0",
          "state": {
            "_dom_classes": [],
            "_model_module": "@jupyter-widgets/controls",
            "_model_module_version": "1.5.0",
            "_model_name": "HBoxModel",
            "_view_count": null,
            "_view_module": "@jupyter-widgets/controls",
            "_view_module_version": "1.5.0",
            "_view_name": "HBoxView",
            "box_style": "",
            "children": [
              "IPY_MODEL_c586512dd5ca402bb0e9a891c0eeea93",
              "IPY_MODEL_f32cd456ece84a85b9735a0b587c590b",
              "IPY_MODEL_8dc4f246f19d44e2a07f7b6c30f1c34b"
            ],
            "layout": "IPY_MODEL_00409e7feec34a51906ad972314cb60b"
          }
        },
        "c586512dd5ca402bb0e9a891c0eeea93": {
          "model_module": "@jupyter-widgets/controls",
          "model_name": "HTMLModel",
          "model_module_version": "1.5.0",
          "state": {
            "_dom_classes": [],
            "_model_module": "@jupyter-widgets/controls",
            "_model_module_version": "1.5.0",
            "_model_name": "HTMLModel",
            "_view_count": null,
            "_view_module": "@jupyter-widgets/controls",
            "_view_module_version": "1.5.0",
            "_view_name": "HTMLView",
            "description": "",
            "description_tooltip": null,
            "layout": "IPY_MODEL_146b156fa1f7423988421f41f3d89671",
            "placeholder": "​",
            "style": "IPY_MODEL_42282f71ca3a4ff98ebe8ef62769dd2f",
            "value": "Map: 100%"
          }
        },
        "f32cd456ece84a85b9735a0b587c590b": {
          "model_module": "@jupyter-widgets/controls",
          "model_name": "FloatProgressModel",
          "model_module_version": "1.5.0",
          "state": {
            "_dom_classes": [],
            "_model_module": "@jupyter-widgets/controls",
            "_model_module_version": "1.5.0",
            "_model_name": "FloatProgressModel",
            "_view_count": null,
            "_view_module": "@jupyter-widgets/controls",
            "_view_module_version": "1.5.0",
            "_view_name": "ProgressView",
            "bar_style": "success",
            "description": "",
            "description_tooltip": null,
            "layout": "IPY_MODEL_cc82ef76c2054bd2b7e027a625dca891",
            "max": 1000,
            "min": 0,
            "orientation": "horizontal",
            "style": "IPY_MODEL_6a59b5d65d9c46e5aced6b2249c8e58f",
            "value": 1000
          }
        },
        "8dc4f246f19d44e2a07f7b6c30f1c34b": {
          "model_module": "@jupyter-widgets/controls",
          "model_name": "HTMLModel",
          "model_module_version": "1.5.0",
          "state": {
            "_dom_classes": [],
            "_model_module": "@jupyter-widgets/controls",
            "_model_module_version": "1.5.0",
            "_model_name": "HTMLModel",
            "_view_count": null,
            "_view_module": "@jupyter-widgets/controls",
            "_view_module_version": "1.5.0",
            "_view_name": "HTMLView",
            "description": "",
            "description_tooltip": null,
            "layout": "IPY_MODEL_fb7270562d0a4b1e95a7ca7ea02fa208",
            "placeholder": "​",
            "style": "IPY_MODEL_eddc2364db754b8995c973c13493b4f6",
            "value": " 1000/1000 [00:00&lt;00:00, 5770.50 examples/s]"
          }
        },
        "00409e7feec34a51906ad972314cb60b": {
          "model_module": "@jupyter-widgets/base",
          "model_name": "LayoutModel",
          "model_module_version": "1.2.0",
          "state": {
            "_model_module": "@jupyter-widgets/base",
            "_model_module_version": "1.2.0",
            "_model_name": "LayoutModel",
            "_view_count": null,
            "_view_module": "@jupyter-widgets/base",
            "_view_module_version": "1.2.0",
            "_view_name": "LayoutView",
            "align_content": null,
            "align_items": null,
            "align_self": null,
            "border": null,
            "bottom": null,
            "display": null,
            "flex": null,
            "flex_flow": null,
            "grid_area": null,
            "grid_auto_columns": null,
            "grid_auto_flow": null,
            "grid_auto_rows": null,
            "grid_column": null,
            "grid_gap": null,
            "grid_row": null,
            "grid_template_areas": null,
            "grid_template_columns": null,
            "grid_template_rows": null,
            "height": null,
            "justify_content": null,
            "justify_items": null,
            "left": null,
            "margin": null,
            "max_height": null,
            "max_width": null,
            "min_height": null,
            "min_width": null,
            "object_fit": null,
            "object_position": null,
            "order": null,
            "overflow": null,
            "overflow_x": null,
            "overflow_y": null,
            "padding": null,
            "right": null,
            "top": null,
            "visibility": null,
            "width": null
          }
        },
        "146b156fa1f7423988421f41f3d89671": {
          "model_module": "@jupyter-widgets/base",
          "model_name": "LayoutModel",
          "model_module_version": "1.2.0",
          "state": {
            "_model_module": "@jupyter-widgets/base",
            "_model_module_version": "1.2.0",
            "_model_name": "LayoutModel",
            "_view_count": null,
            "_view_module": "@jupyter-widgets/base",
            "_view_module_version": "1.2.0",
            "_view_name": "LayoutView",
            "align_content": null,
            "align_items": null,
            "align_self": null,
            "border": null,
            "bottom": null,
            "display": null,
            "flex": null,
            "flex_flow": null,
            "grid_area": null,
            "grid_auto_columns": null,
            "grid_auto_flow": null,
            "grid_auto_rows": null,
            "grid_column": null,
            "grid_gap": null,
            "grid_row": null,
            "grid_template_areas": null,
            "grid_template_columns": null,
            "grid_template_rows": null,
            "height": null,
            "justify_content": null,
            "justify_items": null,
            "left": null,
            "margin": null,
            "max_height": null,
            "max_width": null,
            "min_height": null,
            "min_width": null,
            "object_fit": null,
            "object_position": null,
            "order": null,
            "overflow": null,
            "overflow_x": null,
            "overflow_y": null,
            "padding": null,
            "right": null,
            "top": null,
            "visibility": null,
            "width": null
          }
        },
        "42282f71ca3a4ff98ebe8ef62769dd2f": {
          "model_module": "@jupyter-widgets/controls",
          "model_name": "DescriptionStyleModel",
          "model_module_version": "1.5.0",
          "state": {
            "_model_module": "@jupyter-widgets/controls",
            "_model_module_version": "1.5.0",
            "_model_name": "DescriptionStyleModel",
            "_view_count": null,
            "_view_module": "@jupyter-widgets/base",
            "_view_module_version": "1.2.0",
            "_view_name": "StyleView",
            "description_width": ""
          }
        },
        "cc82ef76c2054bd2b7e027a625dca891": {
          "model_module": "@jupyter-widgets/base",
          "model_name": "LayoutModel",
          "model_module_version": "1.2.0",
          "state": {
            "_model_module": "@jupyter-widgets/base",
            "_model_module_version": "1.2.0",
            "_model_name": "LayoutModel",
            "_view_count": null,
            "_view_module": "@jupyter-widgets/base",
            "_view_module_version": "1.2.0",
            "_view_name": "LayoutView",
            "align_content": null,
            "align_items": null,
            "align_self": null,
            "border": null,
            "bottom": null,
            "display": null,
            "flex": null,
            "flex_flow": null,
            "grid_area": null,
            "grid_auto_columns": null,
            "grid_auto_flow": null,
            "grid_auto_rows": null,
            "grid_column": null,
            "grid_gap": null,
            "grid_row": null,
            "grid_template_areas": null,
            "grid_template_columns": null,
            "grid_template_rows": null,
            "height": null,
            "justify_content": null,
            "justify_items": null,
            "left": null,
            "margin": null,
            "max_height": null,
            "max_width": null,
            "min_height": null,
            "min_width": null,
            "object_fit": null,
            "object_position": null,
            "order": null,
            "overflow": null,
            "overflow_x": null,
            "overflow_y": null,
            "padding": null,
            "right": null,
            "top": null,
            "visibility": null,
            "width": null
          }
        },
        "6a59b5d65d9c46e5aced6b2249c8e58f": {
          "model_module": "@jupyter-widgets/controls",
          "model_name": "ProgressStyleModel",
          "model_module_version": "1.5.0",
          "state": {
            "_model_module": "@jupyter-widgets/controls",
            "_model_module_version": "1.5.0",
            "_model_name": "ProgressStyleModel",
            "_view_count": null,
            "_view_module": "@jupyter-widgets/base",
            "_view_module_version": "1.2.0",
            "_view_name": "StyleView",
            "bar_color": null,
            "description_width": ""
          }
        },
        "fb7270562d0a4b1e95a7ca7ea02fa208": {
          "model_module": "@jupyter-widgets/base",
          "model_name": "LayoutModel",
          "model_module_version": "1.2.0",
          "state": {
            "_model_module": "@jupyter-widgets/base",
            "_model_module_version": "1.2.0",
            "_model_name": "LayoutModel",
            "_view_count": null,
            "_view_module": "@jupyter-widgets/base",
            "_view_module_version": "1.2.0",
            "_view_name": "LayoutView",
            "align_content": null,
            "align_items": null,
            "align_self": null,
            "border": null,
            "bottom": null,
            "display": null,
            "flex": null,
            "flex_flow": null,
            "grid_area": null,
            "grid_auto_columns": null,
            "grid_auto_flow": null,
            "grid_auto_rows": null,
            "grid_column": null,
            "grid_gap": null,
            "grid_row": null,
            "grid_template_areas": null,
            "grid_template_columns": null,
            "grid_template_rows": null,
            "height": null,
            "justify_content": null,
            "justify_items": null,
            "left": null,
            "margin": null,
            "max_height": null,
            "max_width": null,
            "min_height": null,
            "min_width": null,
            "object_fit": null,
            "object_position": null,
            "order": null,
            "overflow": null,
            "overflow_x": null,
            "overflow_y": null,
            "padding": null,
            "right": null,
            "top": null,
            "visibility": null,
            "width": null
          }
        },
        "eddc2364db754b8995c973c13493b4f6": {
          "model_module": "@jupyter-widgets/controls",
          "model_name": "DescriptionStyleModel",
          "model_module_version": "1.5.0",
          "state": {
            "_model_module": "@jupyter-widgets/controls",
            "_model_module_version": "1.5.0",
            "_model_name": "DescriptionStyleModel",
            "_view_count": null,
            "_view_module": "@jupyter-widgets/base",
            "_view_module_version": "1.2.0",
            "_view_name": "StyleView",
            "description_width": ""
          }
        },
        "6185d7f4eb424e11b968b627bb6880eb": {
          "model_module": "@jupyter-widgets/controls",
          "model_name": "HBoxModel",
          "model_module_version": "1.5.0",
          "state": {
            "_dom_classes": [],
            "_model_module": "@jupyter-widgets/controls",
            "_model_module_version": "1.5.0",
            "_model_name": "HBoxModel",
            "_view_count": null,
            "_view_module": "@jupyter-widgets/controls",
            "_view_module_version": "1.5.0",
            "_view_name": "HBoxView",
            "box_style": "",
            "children": [
              "IPY_MODEL_aae1e2290b484d7eaa1c160e803b9208",
              "IPY_MODEL_15574f590c3d42cca2229e43aaf26017",
              "IPY_MODEL_bc35b82a3b76443a8ca3faa8920a9177"
            ],
            "layout": "IPY_MODEL_74dec9af227f43bd835ff5faae208b1c"
          }
        },
        "aae1e2290b484d7eaa1c160e803b9208": {
          "model_module": "@jupyter-widgets/controls",
          "model_name": "HTMLModel",
          "model_module_version": "1.5.0",
          "state": {
            "_dom_classes": [],
            "_model_module": "@jupyter-widgets/controls",
            "_model_module_version": "1.5.0",
            "_model_name": "HTMLModel",
            "_view_count": null,
            "_view_module": "@jupyter-widgets/controls",
            "_view_module_version": "1.5.0",
            "_view_name": "HTMLView",
            "description": "",
            "description_tooltip": null,
            "layout": "IPY_MODEL_568188c241da48b4bb8a82cbdbbb8bbd",
            "placeholder": "​",
            "style": "IPY_MODEL_9e91cc5aa52e4a6f9ade3d84fb32dd42",
            "value": "Map: 100%"
          }
        },
        "15574f590c3d42cca2229e43aaf26017": {
          "model_module": "@jupyter-widgets/controls",
          "model_name": "FloatProgressModel",
          "model_module_version": "1.5.0",
          "state": {
            "_dom_classes": [],
            "_model_module": "@jupyter-widgets/controls",
            "_model_module_version": "1.5.0",
            "_model_name": "FloatProgressModel",
            "_view_count": null,
            "_view_module": "@jupyter-widgets/controls",
            "_view_module_version": "1.5.0",
            "_view_name": "ProgressView",
            "bar_style": "success",
            "description": "",
            "description_tooltip": null,
            "layout": "IPY_MODEL_06b83a9d6f3b4659915ca4f171184f9a",
            "max": 2000,
            "min": 0,
            "orientation": "horizontal",
            "style": "IPY_MODEL_565aaf57cafe43c0925338f79049c1a7",
            "value": 2000
          }
        },
        "bc35b82a3b76443a8ca3faa8920a9177": {
          "model_module": "@jupyter-widgets/controls",
          "model_name": "HTMLModel",
          "model_module_version": "1.5.0",
          "state": {
            "_dom_classes": [],
            "_model_module": "@jupyter-widgets/controls",
            "_model_module_version": "1.5.0",
            "_model_name": "HTMLModel",
            "_view_count": null,
            "_view_module": "@jupyter-widgets/controls",
            "_view_module_version": "1.5.0",
            "_view_name": "HTMLView",
            "description": "",
            "description_tooltip": null,
            "layout": "IPY_MODEL_b44974e79b7c4d188fda05ca545820c4",
            "placeholder": "​",
            "style": "IPY_MODEL_40a54b42ec654eb89360f0e3bdbaae41",
            "value": " 2000/2000 [00:01&lt;00:00, 1678.05 examples/s]"
          }
        },
        "74dec9af227f43bd835ff5faae208b1c": {
          "model_module": "@jupyter-widgets/base",
          "model_name": "LayoutModel",
          "model_module_version": "1.2.0",
          "state": {
            "_model_module": "@jupyter-widgets/base",
            "_model_module_version": "1.2.0",
            "_model_name": "LayoutModel",
            "_view_count": null,
            "_view_module": "@jupyter-widgets/base",
            "_view_module_version": "1.2.0",
            "_view_name": "LayoutView",
            "align_content": null,
            "align_items": null,
            "align_self": null,
            "border": null,
            "bottom": null,
            "display": null,
            "flex": null,
            "flex_flow": null,
            "grid_area": null,
            "grid_auto_columns": null,
            "grid_auto_flow": null,
            "grid_auto_rows": null,
            "grid_column": null,
            "grid_gap": null,
            "grid_row": null,
            "grid_template_areas": null,
            "grid_template_columns": null,
            "grid_template_rows": null,
            "height": null,
            "justify_content": null,
            "justify_items": null,
            "left": null,
            "margin": null,
            "max_height": null,
            "max_width": null,
            "min_height": null,
            "min_width": null,
            "object_fit": null,
            "object_position": null,
            "order": null,
            "overflow": null,
            "overflow_x": null,
            "overflow_y": null,
            "padding": null,
            "right": null,
            "top": null,
            "visibility": null,
            "width": null
          }
        },
        "568188c241da48b4bb8a82cbdbbb8bbd": {
          "model_module": "@jupyter-widgets/base",
          "model_name": "LayoutModel",
          "model_module_version": "1.2.0",
          "state": {
            "_model_module": "@jupyter-widgets/base",
            "_model_module_version": "1.2.0",
            "_model_name": "LayoutModel",
            "_view_count": null,
            "_view_module": "@jupyter-widgets/base",
            "_view_module_version": "1.2.0",
            "_view_name": "LayoutView",
            "align_content": null,
            "align_items": null,
            "align_self": null,
            "border": null,
            "bottom": null,
            "display": null,
            "flex": null,
            "flex_flow": null,
            "grid_area": null,
            "grid_auto_columns": null,
            "grid_auto_flow": null,
            "grid_auto_rows": null,
            "grid_column": null,
            "grid_gap": null,
            "grid_row": null,
            "grid_template_areas": null,
            "grid_template_columns": null,
            "grid_template_rows": null,
            "height": null,
            "justify_content": null,
            "justify_items": null,
            "left": null,
            "margin": null,
            "max_height": null,
            "max_width": null,
            "min_height": null,
            "min_width": null,
            "object_fit": null,
            "object_position": null,
            "order": null,
            "overflow": null,
            "overflow_x": null,
            "overflow_y": null,
            "padding": null,
            "right": null,
            "top": null,
            "visibility": null,
            "width": null
          }
        },
        "9e91cc5aa52e4a6f9ade3d84fb32dd42": {
          "model_module": "@jupyter-widgets/controls",
          "model_name": "DescriptionStyleModel",
          "model_module_version": "1.5.0",
          "state": {
            "_model_module": "@jupyter-widgets/controls",
            "_model_module_version": "1.5.0",
            "_model_name": "DescriptionStyleModel",
            "_view_count": null,
            "_view_module": "@jupyter-widgets/base",
            "_view_module_version": "1.2.0",
            "_view_name": "StyleView",
            "description_width": ""
          }
        },
        "06b83a9d6f3b4659915ca4f171184f9a": {
          "model_module": "@jupyter-widgets/base",
          "model_name": "LayoutModel",
          "model_module_version": "1.2.0",
          "state": {
            "_model_module": "@jupyter-widgets/base",
            "_model_module_version": "1.2.0",
            "_model_name": "LayoutModel",
            "_view_count": null,
            "_view_module": "@jupyter-widgets/base",
            "_view_module_version": "1.2.0",
            "_view_name": "LayoutView",
            "align_content": null,
            "align_items": null,
            "align_self": null,
            "border": null,
            "bottom": null,
            "display": null,
            "flex": null,
            "flex_flow": null,
            "grid_area": null,
            "grid_auto_columns": null,
            "grid_auto_flow": null,
            "grid_auto_rows": null,
            "grid_column": null,
            "grid_gap": null,
            "grid_row": null,
            "grid_template_areas": null,
            "grid_template_columns": null,
            "grid_template_rows": null,
            "height": null,
            "justify_content": null,
            "justify_items": null,
            "left": null,
            "margin": null,
            "max_height": null,
            "max_width": null,
            "min_height": null,
            "min_width": null,
            "object_fit": null,
            "object_position": null,
            "order": null,
            "overflow": null,
            "overflow_x": null,
            "overflow_y": null,
            "padding": null,
            "right": null,
            "top": null,
            "visibility": null,
            "width": null
          }
        },
        "565aaf57cafe43c0925338f79049c1a7": {
          "model_module": "@jupyter-widgets/controls",
          "model_name": "ProgressStyleModel",
          "model_module_version": "1.5.0",
          "state": {
            "_model_module": "@jupyter-widgets/controls",
            "_model_module_version": "1.5.0",
            "_model_name": "ProgressStyleModel",
            "_view_count": null,
            "_view_module": "@jupyter-widgets/base",
            "_view_module_version": "1.2.0",
            "_view_name": "StyleView",
            "bar_color": null,
            "description_width": ""
          }
        },
        "b44974e79b7c4d188fda05ca545820c4": {
          "model_module": "@jupyter-widgets/base",
          "model_name": "LayoutModel",
          "model_module_version": "1.2.0",
          "state": {
            "_model_module": "@jupyter-widgets/base",
            "_model_module_version": "1.2.0",
            "_model_name": "LayoutModel",
            "_view_count": null,
            "_view_module": "@jupyter-widgets/base",
            "_view_module_version": "1.2.0",
            "_view_name": "LayoutView",
            "align_content": null,
            "align_items": null,
            "align_self": null,
            "border": null,
            "bottom": null,
            "display": null,
            "flex": null,
            "flex_flow": null,
            "grid_area": null,
            "grid_auto_columns": null,
            "grid_auto_flow": null,
            "grid_auto_rows": null,
            "grid_column": null,
            "grid_gap": null,
            "grid_row": null,
            "grid_template_areas": null,
            "grid_template_columns": null,
            "grid_template_rows": null,
            "height": null,
            "justify_content": null,
            "justify_items": null,
            "left": null,
            "margin": null,
            "max_height": null,
            "max_width": null,
            "min_height": null,
            "min_width": null,
            "object_fit": null,
            "object_position": null,
            "order": null,
            "overflow": null,
            "overflow_x": null,
            "overflow_y": null,
            "padding": null,
            "right": null,
            "top": null,
            "visibility": null,
            "width": null
          }
        },
        "40a54b42ec654eb89360f0e3bdbaae41": {
          "model_module": "@jupyter-widgets/controls",
          "model_name": "DescriptionStyleModel",
          "model_module_version": "1.5.0",
          "state": {
            "_model_module": "@jupyter-widgets/controls",
            "_model_module_version": "1.5.0",
            "_model_name": "DescriptionStyleModel",
            "_view_count": null,
            "_view_module": "@jupyter-widgets/base",
            "_view_module_version": "1.2.0",
            "_view_name": "StyleView",
            "description_width": ""
          }
        },
        "a9035b016ea8486eb30564346e319c42": {
          "model_module": "@jupyter-widgets/controls",
          "model_name": "HBoxModel",
          "model_module_version": "1.5.0",
          "state": {
            "_dom_classes": [],
            "_model_module": "@jupyter-widgets/controls",
            "_model_module_version": "1.5.0",
            "_model_name": "HBoxModel",
            "_view_count": null,
            "_view_module": "@jupyter-widgets/controls",
            "_view_module_version": "1.5.0",
            "_view_name": "HBoxView",
            "box_style": "",
            "children": [
              "IPY_MODEL_e074e1db09e24891a481d8bba34515da",
              "IPY_MODEL_7fef1e6b68d743df969a1a200d14a1de",
              "IPY_MODEL_8def19f850aa475e8fb0daac8d3080ee"
            ],
            "layout": "IPY_MODEL_d620f99d1cd649d08553271caf0998af"
          }
        },
        "e074e1db09e24891a481d8bba34515da": {
          "model_module": "@jupyter-widgets/controls",
          "model_name": "HTMLModel",
          "model_module_version": "1.5.0",
          "state": {
            "_dom_classes": [],
            "_model_module": "@jupyter-widgets/controls",
            "_model_module_version": "1.5.0",
            "_model_name": "HTMLModel",
            "_view_count": null,
            "_view_module": "@jupyter-widgets/controls",
            "_view_module_version": "1.5.0",
            "_view_name": "HTMLView",
            "description": "",
            "description_tooltip": null,
            "layout": "IPY_MODEL_162843b2df5b44609192586f2d464260",
            "placeholder": "​",
            "style": "IPY_MODEL_92f9ac90f09d47b6aa645587e1d27934",
            "value": "Map: 100%"
          }
        },
        "7fef1e6b68d743df969a1a200d14a1de": {
          "model_module": "@jupyter-widgets/controls",
          "model_name": "FloatProgressModel",
          "model_module_version": "1.5.0",
          "state": {
            "_dom_classes": [],
            "_model_module": "@jupyter-widgets/controls",
            "_model_module_version": "1.5.0",
            "_model_name": "FloatProgressModel",
            "_view_count": null,
            "_view_module": "@jupyter-widgets/controls",
            "_view_module_version": "1.5.0",
            "_view_name": "ProgressView",
            "bar_style": "success",
            "description": "",
            "description_tooltip": null,
            "layout": "IPY_MODEL_3afbb4e99aaf44b0a10a63c5f1ada2e4",
            "max": 1000,
            "min": 0,
            "orientation": "horizontal",
            "style": "IPY_MODEL_78a7255a75a94c9fa41e2821761549ed",
            "value": 1000
          }
        },
        "8def19f850aa475e8fb0daac8d3080ee": {
          "model_module": "@jupyter-widgets/controls",
          "model_name": "HTMLModel",
          "model_module_version": "1.5.0",
          "state": {
            "_dom_classes": [],
            "_model_module": "@jupyter-widgets/controls",
            "_model_module_version": "1.5.0",
            "_model_name": "HTMLModel",
            "_view_count": null,
            "_view_module": "@jupyter-widgets/controls",
            "_view_module_version": "1.5.0",
            "_view_name": "HTMLView",
            "description": "",
            "description_tooltip": null,
            "layout": "IPY_MODEL_134047f1750145a981cb084134875974",
            "placeholder": "​",
            "style": "IPY_MODEL_42a772f0cf69483d9682d99673baed8c",
            "value": " 1000/1000 [00:00&lt;00:00, 1620.09 examples/s]"
          }
        },
        "d620f99d1cd649d08553271caf0998af": {
          "model_module": "@jupyter-widgets/base",
          "model_name": "LayoutModel",
          "model_module_version": "1.2.0",
          "state": {
            "_model_module": "@jupyter-widgets/base",
            "_model_module_version": "1.2.0",
            "_model_name": "LayoutModel",
            "_view_count": null,
            "_view_module": "@jupyter-widgets/base",
            "_view_module_version": "1.2.0",
            "_view_name": "LayoutView",
            "align_content": null,
            "align_items": null,
            "align_self": null,
            "border": null,
            "bottom": null,
            "display": null,
            "flex": null,
            "flex_flow": null,
            "grid_area": null,
            "grid_auto_columns": null,
            "grid_auto_flow": null,
            "grid_auto_rows": null,
            "grid_column": null,
            "grid_gap": null,
            "grid_row": null,
            "grid_template_areas": null,
            "grid_template_columns": null,
            "grid_template_rows": null,
            "height": null,
            "justify_content": null,
            "justify_items": null,
            "left": null,
            "margin": null,
            "max_height": null,
            "max_width": null,
            "min_height": null,
            "min_width": null,
            "object_fit": null,
            "object_position": null,
            "order": null,
            "overflow": null,
            "overflow_x": null,
            "overflow_y": null,
            "padding": null,
            "right": null,
            "top": null,
            "visibility": null,
            "width": null
          }
        },
        "162843b2df5b44609192586f2d464260": {
          "model_module": "@jupyter-widgets/base",
          "model_name": "LayoutModel",
          "model_module_version": "1.2.0",
          "state": {
            "_model_module": "@jupyter-widgets/base",
            "_model_module_version": "1.2.0",
            "_model_name": "LayoutModel",
            "_view_count": null,
            "_view_module": "@jupyter-widgets/base",
            "_view_module_version": "1.2.0",
            "_view_name": "LayoutView",
            "align_content": null,
            "align_items": null,
            "align_self": null,
            "border": null,
            "bottom": null,
            "display": null,
            "flex": null,
            "flex_flow": null,
            "grid_area": null,
            "grid_auto_columns": null,
            "grid_auto_flow": null,
            "grid_auto_rows": null,
            "grid_column": null,
            "grid_gap": null,
            "grid_row": null,
            "grid_template_areas": null,
            "grid_template_columns": null,
            "grid_template_rows": null,
            "height": null,
            "justify_content": null,
            "justify_items": null,
            "left": null,
            "margin": null,
            "max_height": null,
            "max_width": null,
            "min_height": null,
            "min_width": null,
            "object_fit": null,
            "object_position": null,
            "order": null,
            "overflow": null,
            "overflow_x": null,
            "overflow_y": null,
            "padding": null,
            "right": null,
            "top": null,
            "visibility": null,
            "width": null
          }
        },
        "92f9ac90f09d47b6aa645587e1d27934": {
          "model_module": "@jupyter-widgets/controls",
          "model_name": "DescriptionStyleModel",
          "model_module_version": "1.5.0",
          "state": {
            "_model_module": "@jupyter-widgets/controls",
            "_model_module_version": "1.5.0",
            "_model_name": "DescriptionStyleModel",
            "_view_count": null,
            "_view_module": "@jupyter-widgets/base",
            "_view_module_version": "1.2.0",
            "_view_name": "StyleView",
            "description_width": ""
          }
        },
        "3afbb4e99aaf44b0a10a63c5f1ada2e4": {
          "model_module": "@jupyter-widgets/base",
          "model_name": "LayoutModel",
          "model_module_version": "1.2.0",
          "state": {
            "_model_module": "@jupyter-widgets/base",
            "_model_module_version": "1.2.0",
            "_model_name": "LayoutModel",
            "_view_count": null,
            "_view_module": "@jupyter-widgets/base",
            "_view_module_version": "1.2.0",
            "_view_name": "LayoutView",
            "align_content": null,
            "align_items": null,
            "align_self": null,
            "border": null,
            "bottom": null,
            "display": null,
            "flex": null,
            "flex_flow": null,
            "grid_area": null,
            "grid_auto_columns": null,
            "grid_auto_flow": null,
            "grid_auto_rows": null,
            "grid_column": null,
            "grid_gap": null,
            "grid_row": null,
            "grid_template_areas": null,
            "grid_template_columns": null,
            "grid_template_rows": null,
            "height": null,
            "justify_content": null,
            "justify_items": null,
            "left": null,
            "margin": null,
            "max_height": null,
            "max_width": null,
            "min_height": null,
            "min_width": null,
            "object_fit": null,
            "object_position": null,
            "order": null,
            "overflow": null,
            "overflow_x": null,
            "overflow_y": null,
            "padding": null,
            "right": null,
            "top": null,
            "visibility": null,
            "width": null
          }
        },
        "78a7255a75a94c9fa41e2821761549ed": {
          "model_module": "@jupyter-widgets/controls",
          "model_name": "ProgressStyleModel",
          "model_module_version": "1.5.0",
          "state": {
            "_model_module": "@jupyter-widgets/controls",
            "_model_module_version": "1.5.0",
            "_model_name": "ProgressStyleModel",
            "_view_count": null,
            "_view_module": "@jupyter-widgets/base",
            "_view_module_version": "1.2.0",
            "_view_name": "StyleView",
            "bar_color": null,
            "description_width": ""
          }
        },
        "134047f1750145a981cb084134875974": {
          "model_module": "@jupyter-widgets/base",
          "model_name": "LayoutModel",
          "model_module_version": "1.2.0",
          "state": {
            "_model_module": "@jupyter-widgets/base",
            "_model_module_version": "1.2.0",
            "_model_name": "LayoutModel",
            "_view_count": null,
            "_view_module": "@jupyter-widgets/base",
            "_view_module_version": "1.2.0",
            "_view_name": "LayoutView",
            "align_content": null,
            "align_items": null,
            "align_self": null,
            "border": null,
            "bottom": null,
            "display": null,
            "flex": null,
            "flex_flow": null,
            "grid_area": null,
            "grid_auto_columns": null,
            "grid_auto_flow": null,
            "grid_auto_rows": null,
            "grid_column": null,
            "grid_gap": null,
            "grid_row": null,
            "grid_template_areas": null,
            "grid_template_columns": null,
            "grid_template_rows": null,
            "height": null,
            "justify_content": null,
            "justify_items": null,
            "left": null,
            "margin": null,
            "max_height": null,
            "max_width": null,
            "min_height": null,
            "min_width": null,
            "object_fit": null,
            "object_position": null,
            "order": null,
            "overflow": null,
            "overflow_x": null,
            "overflow_y": null,
            "padding": null,
            "right": null,
            "top": null,
            "visibility": null,
            "width": null
          }
        },
        "42a772f0cf69483d9682d99673baed8c": {
          "model_module": "@jupyter-widgets/controls",
          "model_name": "DescriptionStyleModel",
          "model_module_version": "1.5.0",
          "state": {
            "_model_module": "@jupyter-widgets/controls",
            "_model_module_version": "1.5.0",
            "_model_name": "DescriptionStyleModel",
            "_view_count": null,
            "_view_module": "@jupyter-widgets/base",
            "_view_module_version": "1.2.0",
            "_view_name": "StyleView",
            "description_width": ""
          }
        },
        "4eaef65d82214db9a1b494d65b2035c1": {
          "model_module": "@jupyter-widgets/controls",
          "model_name": "HBoxModel",
          "model_module_version": "1.5.0",
          "state": {
            "_dom_classes": [],
            "_model_module": "@jupyter-widgets/controls",
            "_model_module_version": "1.5.0",
            "_model_name": "HBoxModel",
            "_view_count": null,
            "_view_module": "@jupyter-widgets/controls",
            "_view_module_version": "1.5.0",
            "_view_name": "HBoxView",
            "box_style": "",
            "children": [
              "IPY_MODEL_c8f4b41252b74948bc025d1f32b062b9",
              "IPY_MODEL_ec4d19e711aa455c9fbacc2255b75655",
              "IPY_MODEL_2e3645edf5d7481ab2bfe58bea595e4f"
            ],
            "layout": "IPY_MODEL_a830a50bdf8c464b99b7f771861bfc95"
          }
        },
        "c8f4b41252b74948bc025d1f32b062b9": {
          "model_module": "@jupyter-widgets/controls",
          "model_name": "HTMLModel",
          "model_module_version": "1.5.0",
          "state": {
            "_dom_classes": [],
            "_model_module": "@jupyter-widgets/controls",
            "_model_module_version": "1.5.0",
            "_model_name": "HTMLModel",
            "_view_count": null,
            "_view_module": "@jupyter-widgets/controls",
            "_view_module_version": "1.5.0",
            "_view_name": "HTMLView",
            "description": "",
            "description_tooltip": null,
            "layout": "IPY_MODEL_75c5ce6f7e6d405498601d89851d9bff",
            "placeholder": "​",
            "style": "IPY_MODEL_052b2e607a134440ba53a50696412595",
            "value": "model.safetensors: 100%"
          }
        },
        "ec4d19e711aa455c9fbacc2255b75655": {
          "model_module": "@jupyter-widgets/controls",
          "model_name": "FloatProgressModel",
          "model_module_version": "1.5.0",
          "state": {
            "_dom_classes": [],
            "_model_module": "@jupyter-widgets/controls",
            "_model_module_version": "1.5.0",
            "_model_name": "FloatProgressModel",
            "_view_count": null,
            "_view_module": "@jupyter-widgets/controls",
            "_view_module_version": "1.5.0",
            "_view_name": "ProgressView",
            "bar_style": "success",
            "description": "",
            "description_tooltip": null,
            "layout": "IPY_MODEL_ce1d273720194ff8865f1096adc38c23",
            "max": 498818054,
            "min": 0,
            "orientation": "horizontal",
            "style": "IPY_MODEL_47f0366af1a44d78a0ef5c0c66898d84",
            "value": 498818054
          }
        },
        "2e3645edf5d7481ab2bfe58bea595e4f": {
          "model_module": "@jupyter-widgets/controls",
          "model_name": "HTMLModel",
          "model_module_version": "1.5.0",
          "state": {
            "_dom_classes": [],
            "_model_module": "@jupyter-widgets/controls",
            "_model_module_version": "1.5.0",
            "_model_name": "HTMLModel",
            "_view_count": null,
            "_view_module": "@jupyter-widgets/controls",
            "_view_module_version": "1.5.0",
            "_view_name": "HTMLView",
            "description": "",
            "description_tooltip": null,
            "layout": "IPY_MODEL_a9b3623efac1433bb5b7ae408ff2607a",
            "placeholder": "​",
            "style": "IPY_MODEL_3049a31ce2dd448597d37f78818a6630",
            "value": " 499M/499M [00:02&lt;00:00, 259MB/s]"
          }
        },
        "a830a50bdf8c464b99b7f771861bfc95": {
          "model_module": "@jupyter-widgets/base",
          "model_name": "LayoutModel",
          "model_module_version": "1.2.0",
          "state": {
            "_model_module": "@jupyter-widgets/base",
            "_model_module_version": "1.2.0",
            "_model_name": "LayoutModel",
            "_view_count": null,
            "_view_module": "@jupyter-widgets/base",
            "_view_module_version": "1.2.0",
            "_view_name": "LayoutView",
            "align_content": null,
            "align_items": null,
            "align_self": null,
            "border": null,
            "bottom": null,
            "display": null,
            "flex": null,
            "flex_flow": null,
            "grid_area": null,
            "grid_auto_columns": null,
            "grid_auto_flow": null,
            "grid_auto_rows": null,
            "grid_column": null,
            "grid_gap": null,
            "grid_row": null,
            "grid_template_areas": null,
            "grid_template_columns": null,
            "grid_template_rows": null,
            "height": null,
            "justify_content": null,
            "justify_items": null,
            "left": null,
            "margin": null,
            "max_height": null,
            "max_width": null,
            "min_height": null,
            "min_width": null,
            "object_fit": null,
            "object_position": null,
            "order": null,
            "overflow": null,
            "overflow_x": null,
            "overflow_y": null,
            "padding": null,
            "right": null,
            "top": null,
            "visibility": null,
            "width": null
          }
        },
        "75c5ce6f7e6d405498601d89851d9bff": {
          "model_module": "@jupyter-widgets/base",
          "model_name": "LayoutModel",
          "model_module_version": "1.2.0",
          "state": {
            "_model_module": "@jupyter-widgets/base",
            "_model_module_version": "1.2.0",
            "_model_name": "LayoutModel",
            "_view_count": null,
            "_view_module": "@jupyter-widgets/base",
            "_view_module_version": "1.2.0",
            "_view_name": "LayoutView",
            "align_content": null,
            "align_items": null,
            "align_self": null,
            "border": null,
            "bottom": null,
            "display": null,
            "flex": null,
            "flex_flow": null,
            "grid_area": null,
            "grid_auto_columns": null,
            "grid_auto_flow": null,
            "grid_auto_rows": null,
            "grid_column": null,
            "grid_gap": null,
            "grid_row": null,
            "grid_template_areas": null,
            "grid_template_columns": null,
            "grid_template_rows": null,
            "height": null,
            "justify_content": null,
            "justify_items": null,
            "left": null,
            "margin": null,
            "max_height": null,
            "max_width": null,
            "min_height": null,
            "min_width": null,
            "object_fit": null,
            "object_position": null,
            "order": null,
            "overflow": null,
            "overflow_x": null,
            "overflow_y": null,
            "padding": null,
            "right": null,
            "top": null,
            "visibility": null,
            "width": null
          }
        },
        "052b2e607a134440ba53a50696412595": {
          "model_module": "@jupyter-widgets/controls",
          "model_name": "DescriptionStyleModel",
          "model_module_version": "1.5.0",
          "state": {
            "_model_module": "@jupyter-widgets/controls",
            "_model_module_version": "1.5.0",
            "_model_name": "DescriptionStyleModel",
            "_view_count": null,
            "_view_module": "@jupyter-widgets/base",
            "_view_module_version": "1.2.0",
            "_view_name": "StyleView",
            "description_width": ""
          }
        },
        "ce1d273720194ff8865f1096adc38c23": {
          "model_module": "@jupyter-widgets/base",
          "model_name": "LayoutModel",
          "model_module_version": "1.2.0",
          "state": {
            "_model_module": "@jupyter-widgets/base",
            "_model_module_version": "1.2.0",
            "_model_name": "LayoutModel",
            "_view_count": null,
            "_view_module": "@jupyter-widgets/base",
            "_view_module_version": "1.2.0",
            "_view_name": "LayoutView",
            "align_content": null,
            "align_items": null,
            "align_self": null,
            "border": null,
            "bottom": null,
            "display": null,
            "flex": null,
            "flex_flow": null,
            "grid_area": null,
            "grid_auto_columns": null,
            "grid_auto_flow": null,
            "grid_auto_rows": null,
            "grid_column": null,
            "grid_gap": null,
            "grid_row": null,
            "grid_template_areas": null,
            "grid_template_columns": null,
            "grid_template_rows": null,
            "height": null,
            "justify_content": null,
            "justify_items": null,
            "left": null,
            "margin": null,
            "max_height": null,
            "max_width": null,
            "min_height": null,
            "min_width": null,
            "object_fit": null,
            "object_position": null,
            "order": null,
            "overflow": null,
            "overflow_x": null,
            "overflow_y": null,
            "padding": null,
            "right": null,
            "top": null,
            "visibility": null,
            "width": null
          }
        },
        "47f0366af1a44d78a0ef5c0c66898d84": {
          "model_module": "@jupyter-widgets/controls",
          "model_name": "ProgressStyleModel",
          "model_module_version": "1.5.0",
          "state": {
            "_model_module": "@jupyter-widgets/controls",
            "_model_module_version": "1.5.0",
            "_model_name": "ProgressStyleModel",
            "_view_count": null,
            "_view_module": "@jupyter-widgets/base",
            "_view_module_version": "1.2.0",
            "_view_name": "StyleView",
            "bar_color": null,
            "description_width": ""
          }
        },
        "a9b3623efac1433bb5b7ae408ff2607a": {
          "model_module": "@jupyter-widgets/base",
          "model_name": "LayoutModel",
          "model_module_version": "1.2.0",
          "state": {
            "_model_module": "@jupyter-widgets/base",
            "_model_module_version": "1.2.0",
            "_model_name": "LayoutModel",
            "_view_count": null,
            "_view_module": "@jupyter-widgets/base",
            "_view_module_version": "1.2.0",
            "_view_name": "LayoutView",
            "align_content": null,
            "align_items": null,
            "align_self": null,
            "border": null,
            "bottom": null,
            "display": null,
            "flex": null,
            "flex_flow": null,
            "grid_area": null,
            "grid_auto_columns": null,
            "grid_auto_flow": null,
            "grid_auto_rows": null,
            "grid_column": null,
            "grid_gap": null,
            "grid_row": null,
            "grid_template_areas": null,
            "grid_template_columns": null,
            "grid_template_rows": null,
            "height": null,
            "justify_content": null,
            "justify_items": null,
            "left": null,
            "margin": null,
            "max_height": null,
            "max_width": null,
            "min_height": null,
            "min_width": null,
            "object_fit": null,
            "object_position": null,
            "order": null,
            "overflow": null,
            "overflow_x": null,
            "overflow_y": null,
            "padding": null,
            "right": null,
            "top": null,
            "visibility": null,
            "width": null
          }
        },
        "3049a31ce2dd448597d37f78818a6630": {
          "model_module": "@jupyter-widgets/controls",
          "model_name": "DescriptionStyleModel",
          "model_module_version": "1.5.0",
          "state": {
            "_model_module": "@jupyter-widgets/controls",
            "_model_module_version": "1.5.0",
            "_model_name": "DescriptionStyleModel",
            "_view_count": null,
            "_view_module": "@jupyter-widgets/base",
            "_view_module_version": "1.2.0",
            "_view_name": "StyleView",
            "description_width": ""
          }
        }
      }
    }
  },
  "cells": [
    {
      "cell_type": "markdown",
      "source": [
        "# <font color = 'pickle'>**Finetuning with RoBERTa base model**\n",
        "- I will be following a standard model training plan using the huggingface library and WANDB to track my experiment.\n",
        "  - The idea is to use the base RoBERTa model to compare how well a pre-trained model does in comparison to the last model I trained (RNN)\n",
        "  - There are some class imbalances so I want to make sure I account for that within my model.\n",
        "\n",
        "**Training Plan**\n",
        "- Set the Environment\n",
        "- Load the dataset\n",
        "- maniupulate the splits of the dataset\n",
        "- Load the pretrained BERT tokenizer.\n",
        "- Train the model\n",
        "  - Download the model\n",
        "  - Download and modify the model's config file.\n",
        "  - Compute the metric function (ensuring we account for multilabel)(BCE)\n",
        "  - Training Args\n",
        "  - Instantiate the trainer\n",
        "  - Setup WANDB\n",
        "  - Training and Validation\n",
        "- Model inference/ attach predictions to the Kaggle leaderboard and assess performance.\n"
      ],
      "metadata": {
        "id": "WoJuno1obNwO"
      }
    },
    {
      "cell_type": "markdown",
      "source": [
        "# <font color = 'pickle'>**Setting up the environment**"
      ],
      "metadata": {
        "id": "xJzU7t2DdKL1"
      }
    },
    {
      "cell_type": "code",
      "execution_count": null,
      "metadata": {
        "colab": {
          "base_uri": "https://localhost:8080/"
        },
        "id": "7hHDu7zPbD4G",
        "outputId": "ef51147b-5140-4732-fa9c-a816c056ec48"
      },
      "outputs": [
        {
          "output_type": "stream",
          "name": "stdout",
          "text": [
            "Mounted at /content/drive\n",
            "\u001b[2K   \u001b[90m━━━━━━━━━━━━━━━━━━━━━━━━━━━━━━━━━━━━━━━━\u001b[0m \u001b[32m2.0/2.0 MB\u001b[0m \u001b[31m21.2 MB/s\u001b[0m eta \u001b[36m0:00:00\u001b[0m\n",
            "\u001b[2K     \u001b[90m━━━━━━━━━━━━━━━━━━━━━━━━━━━━━━━━━━━━━━━━\u001b[0m \u001b[32m44.1/44.1 kB\u001b[0m \u001b[31m3.9 MB/s\u001b[0m eta \u001b[36m0:00:00\u001b[0m\n",
            "\u001b[2K   \u001b[90m━━━━━━━━━━━━━━━━━━━━━━━━━━━━━━━━━━━━━━━━\u001b[0m \u001b[32m10.0/10.0 MB\u001b[0m \u001b[31m112.1 MB/s\u001b[0m eta \u001b[36m0:00:00\u001b[0m\n",
            "\u001b[2K   \u001b[90m━━━━━━━━━━━━━━━━━━━━━━━━━━━━━━━━━━━━━━━━\u001b[0m \u001b[32m84.0/84.0 kB\u001b[0m \u001b[31m8.9 MB/s\u001b[0m eta \u001b[36m0:00:00\u001b[0m\n",
            "\u001b[2K   \u001b[90m━━━━━━━━━━━━━━━━━━━━━━━━━━━━━━━━━━━━━━━━\u001b[0m \u001b[32m472.7/472.7 kB\u001b[0m \u001b[31m40.1 MB/s\u001b[0m eta \u001b[36m0:00:00\u001b[0m\n",
            "\u001b[2K   \u001b[90m━━━━━━━━━━━━━━━━━━━━━━━━━━━━━━━━━━━━━━━━\u001b[0m \u001b[32m330.9/330.9 kB\u001b[0m \u001b[31m31.2 MB/s\u001b[0m eta \u001b[36m0:00:00\u001b[0m\n",
            "\u001b[2K   \u001b[90m━━━━━━━━━━━━━━━━━━━━━━━━━━━━━━━━━━━━━━━━\u001b[0m \u001b[32m116.3/116.3 kB\u001b[0m \u001b[31m11.8 MB/s\u001b[0m eta \u001b[36m0:00:00\u001b[0m\n",
            "\u001b[2K   \u001b[90m━━━━━━━━━━━━━━━━━━━━━━━━━━━━━━━━━━━━━━━━\u001b[0m \u001b[32m134.8/134.8 kB\u001b[0m \u001b[31m13.3 MB/s\u001b[0m eta \u001b[36m0:00:00\u001b[0m\n",
            "\u001b[2K   \u001b[90m━━━━━━━━━━━━━━━━━━━━━━━━━━━━━━━━━━━━━━━━\u001b[0m \u001b[32m3.0/3.0 MB\u001b[0m \u001b[31m31.5 MB/s\u001b[0m eta \u001b[36m0:00:00\u001b[0m\n",
            "\u001b[2K   \u001b[90m━━━━━━━━━━━━━━━━━━━━━━━━━━━━━━━━━━━━━━━━\u001b[0m \u001b[32m194.1/194.1 kB\u001b[0m \u001b[31m19.3 MB/s\u001b[0m eta \u001b[36m0:00:00\u001b[0m\n",
            "\u001b[?25h"
          ]
        }
      ],
      "source": [
        "import sys\n",
        "if 'google.colab' in str(get_ipython()):  # If the code is running in Colab\n",
        "    # mount google drive\n",
        "    from google.colab import drive\n",
        "    drive.mount('/content/drive')\n",
        "        # set the base path to a Google Drive folder\n",
        "    base_path = '/content/drive/MyDrive/Colab Notebooks'\n",
        "        # Installing the latest torchinfo library\n",
        "    !pip install torchtext -qq\n",
        "    !pip install transformers evaluate wandb datasets accelerate  -U -qq\n",
        "\n",
        "    sys.path.append('/content/drive/MyDrive/Colab Notebooks/custom-functions')# enabling custom function usage"
      ]
    },
    {
      "cell_type": "markdown",
      "source": [
        "<font color = 'pickle'>***Loading Libraries***"
      ],
      "metadata": {
        "id": "w_L6ahh9diSi"
      }
    },
    {
      "cell_type": "code",
      "source": [
        "# Standard Datascience libraries\n",
        "import matplotlib.pyplot as plt\n",
        "import seaborn as sns\n",
        "import pandas as pd\n",
        "from sklearn.metrics import multilabel_confusion_matrix, precision_score, recall_score, f1_score\n",
        "from pathlib import Path\n",
        "import numpy as np\n",
        "\n",
        "from sklearn.preprocessing import MultiLabelBinarizer\n",
        "from sklearn.model_selection import train_test_split\n",
        "import joblib\n",
        "\n",
        "# Huggingface, wandb, torch etc\n",
        "import evaluate\n",
        "from datasets import load_dataset, DatasetDict, Dataset, ClassLabel\n",
        "from transformers import AutoTokenizer, Trainer, TrainingArguments, AutoModelForSequenceClassification, AutoConfig, pipeline\n",
        "import wandb\n",
        "from google.colab import userdata\n",
        "from huggingface_hub import login\n",
        "import torch.nn as nn\n",
        "import torch\n",
        "import ast\n"
      ],
      "metadata": {
        "id": "y9sJnLEfdIyi"
      },
      "execution_count": null,
      "outputs": []
    },
    {
      "cell_type": "code",
      "source": [
        "wandb_api_key = userdata.get('WANDB_API_KEY')\n",
        "hf_token = userdata.get('HF_TOKEN')\n"
      ],
      "metadata": {
        "id": "YVMUvQWtfiD6"
      },
      "execution_count": null,
      "outputs": []
    },
    {
      "cell_type": "code",
      "source": [
        "if hf_token:\n",
        "  login(token = hf_token)\n",
        "  print('Login Successful')\n",
        "else:\n",
        "  print('HF login not unsuccessful - Missing token')\n"
      ],
      "metadata": {
        "id": "P4gAvpjQfwN7",
        "colab": {
          "base_uri": "https://localhost:8080/"
        },
        "outputId": "45eb98c5-ee06-42a2-af13-b343279c4c28"
      },
      "execution_count": null,
      "outputs": [
        {
          "output_type": "stream",
          "name": "stdout",
          "text": [
            "The token has not been saved to the git credentials helper. Pass `add_to_git_credential=True` in this function directly or `--add-to-git-credential` if using via `huggingface-cli` if you want to set the git credential as well.\n",
            "Token is valid (permission: fineGrained).\n",
            "Your token has been saved to /root/.cache/huggingface/token\n",
            "Login successful\n",
            "Login Successful\n"
          ]
        }
      ]
    },
    {
      "cell_type": "code",
      "source": [
        "# Wandb here\n",
        "\n",
        "if wandb_api_key:\n",
        "  wandb.login(key = wandb_api_key)\n",
        "  print('Login Successful')\n",
        "else:\n",
        "  print('Login Unsuccessful')"
      ],
      "metadata": {
        "id": "nKYeN7Z6gJ9V",
        "colab": {
          "base_uri": "https://localhost:8080/"
        },
        "outputId": "3904753a-59c1-4c0c-f017-3f397f65f2cd"
      },
      "execution_count": null,
      "outputs": [
        {
          "output_type": "stream",
          "name": "stderr",
          "text": [
            "\u001b[34m\u001b[1mwandb\u001b[0m: Using wandb-core as the SDK backend. Please refer to https://wandb.me/wandb-core for more information.\n",
            "\u001b[34m\u001b[1mwandb\u001b[0m: W&B API key is configured. Use \u001b[1m`wandb login --relogin`\u001b[0m to force relogin\n",
            "\u001b[34m\u001b[1mwandb\u001b[0m: \u001b[33mWARNING\u001b[0m If you're specifying your api key in code, ensure this code is not shared publicly.\n",
            "\u001b[34m\u001b[1mwandb\u001b[0m: \u001b[33mWARNING\u001b[0m Consider setting the WANDB_API_KEY environment variable, or running `wandb login` from the command line.\n",
            "\u001b[34m\u001b[1mwandb\u001b[0m: Appending key for api.wandb.ai to your netrc file: /root/.netrc\n"
          ]
        },
        {
          "output_type": "stream",
          "name": "stdout",
          "text": [
            "Login Successful\n"
          ]
        }
      ]
    },
    {
      "cell_type": "code",
      "source": [
        "# Designating paths for saving and loading\n",
        "base_folder = Path(base_path)\n",
        "data_folder = base_folder/'datasets/emotion_detection_ds'\n",
        "model_folder = base_folder/'models/nlp_fall_2024/ROBERTA_BASE'\n"
      ],
      "metadata": {
        "id": "FQ7UjHDYgOYa"
      },
      "execution_count": null,
      "outputs": []
    },
    {
      "cell_type": "markdown",
      "source": [
        "# <font color = 'pickle'>**Loading the datasets**\n",
        "\n",
        "- A split of this data was already made in a previous notebook, I will be loading the files here and manipulating them to a df\n",
        "\n",
        "\n"
      ],
      "metadata": {
        "id": "m8Ksg0ayhsqF"
      }
    },
    {
      "cell_type": "code",
      "source": [
        "# Loading the original data for understanding\n",
        "train_valid_df = pd.read_csv(data_folder/'train.csv') # Data before my split in RNN model ipynb\n",
        "train_valid_df.head(10)"
      ],
      "metadata": {
        "colab": {
          "base_uri": "https://localhost:8080/",
          "height": 571
        },
        "id": "K9TbAWyWikhw",
        "outputId": "e460fb29-9db0-4b2a-8a53-5cd186217e41"
      },
      "execution_count": null,
      "outputs": [
        {
          "output_type": "execute_result",
          "data": {
            "text/plain": [
              "           ID                                              Tweet  anger  \\\n",
              "0  2017-21441  “Worry is a down payment on a problem you may ...      0   \n",
              "1  2017-31535  Whatever you decide to do make sure it makes y...      0   \n",
              "2  2017-21068  @Max_Kellerman  it also helps that the majorit...      1   \n",
              "3  2017-31436  Accept the challenges so that you can literall...      0   \n",
              "4  2017-22195  My roommate: it's okay that we can't spell bec...      1   \n",
              "5  2017-22190  No but that's so cute. Atsu was probably shy a...      0   \n",
              "6  2017-20221  Do you think humans have the sense for recogni...      0   \n",
              "7  2017-22180  Rooneys fucking untouchable isn't he? Been fuc...      1   \n",
              "8  2017-41344  it's pretty depressing when u hit pan on ur fa...      0   \n",
              "9  2017-20759  @BossUpJaee but your pussy was weak from what ...      1   \n",
              "\n",
              "   anticipation  disgust  fear  joy  love  optimism  pessimism  sadness  \\\n",
              "0             1        0     0    0     0         1          0        0   \n",
              "1             0        0     0    1     1         1          0        0   \n",
              "2             0        1     0    1     0         1          0        0   \n",
              "3             0        0     0    1     0         1          0        0   \n",
              "4             0        1     0    0     0         0          0        0   \n",
              "5             0        0     0    1     0         0          0        0   \n",
              "6             1        0     0    0     0         0          1        0   \n",
              "7             0        1     0    0     0         0          0        0   \n",
              "8             0        1     0    0     0         0          0        1   \n",
              "9             0        1     0    0     0         0          0        0   \n",
              "\n",
              "   surprise  trust  \n",
              "0         0      1  \n",
              "1         0      0  \n",
              "2         0      0  \n",
              "3         0      0  \n",
              "4         0      0  \n",
              "5         0      0  \n",
              "6         0      0  \n",
              "7         0      0  \n",
              "8         0      0  \n",
              "9         0      0  "
            ],
            "text/html": [
              "\n",
              "  <div id=\"df-94ba8a0f-9518-4dd1-8c33-352671e29318\" class=\"colab-df-container\">\n",
              "    <div>\n",
              "<style scoped>\n",
              "    .dataframe tbody tr th:only-of-type {\n",
              "        vertical-align: middle;\n",
              "    }\n",
              "\n",
              "    .dataframe tbody tr th {\n",
              "        vertical-align: top;\n",
              "    }\n",
              "\n",
              "    .dataframe thead th {\n",
              "        text-align: right;\n",
              "    }\n",
              "</style>\n",
              "<table border=\"1\" class=\"dataframe\">\n",
              "  <thead>\n",
              "    <tr style=\"text-align: right;\">\n",
              "      <th></th>\n",
              "      <th>ID</th>\n",
              "      <th>Tweet</th>\n",
              "      <th>anger</th>\n",
              "      <th>anticipation</th>\n",
              "      <th>disgust</th>\n",
              "      <th>fear</th>\n",
              "      <th>joy</th>\n",
              "      <th>love</th>\n",
              "      <th>optimism</th>\n",
              "      <th>pessimism</th>\n",
              "      <th>sadness</th>\n",
              "      <th>surprise</th>\n",
              "      <th>trust</th>\n",
              "    </tr>\n",
              "  </thead>\n",
              "  <tbody>\n",
              "    <tr>\n",
              "      <th>0</th>\n",
              "      <td>2017-21441</td>\n",
              "      <td>“Worry is a down payment on a problem you may ...</td>\n",
              "      <td>0</td>\n",
              "      <td>1</td>\n",
              "      <td>0</td>\n",
              "      <td>0</td>\n",
              "      <td>0</td>\n",
              "      <td>0</td>\n",
              "      <td>1</td>\n",
              "      <td>0</td>\n",
              "      <td>0</td>\n",
              "      <td>0</td>\n",
              "      <td>1</td>\n",
              "    </tr>\n",
              "    <tr>\n",
              "      <th>1</th>\n",
              "      <td>2017-31535</td>\n",
              "      <td>Whatever you decide to do make sure it makes y...</td>\n",
              "      <td>0</td>\n",
              "      <td>0</td>\n",
              "      <td>0</td>\n",
              "      <td>0</td>\n",
              "      <td>1</td>\n",
              "      <td>1</td>\n",
              "      <td>1</td>\n",
              "      <td>0</td>\n",
              "      <td>0</td>\n",
              "      <td>0</td>\n",
              "      <td>0</td>\n",
              "    </tr>\n",
              "    <tr>\n",
              "      <th>2</th>\n",
              "      <td>2017-21068</td>\n",
              "      <td>@Max_Kellerman  it also helps that the majorit...</td>\n",
              "      <td>1</td>\n",
              "      <td>0</td>\n",
              "      <td>1</td>\n",
              "      <td>0</td>\n",
              "      <td>1</td>\n",
              "      <td>0</td>\n",
              "      <td>1</td>\n",
              "      <td>0</td>\n",
              "      <td>0</td>\n",
              "      <td>0</td>\n",
              "      <td>0</td>\n",
              "    </tr>\n",
              "    <tr>\n",
              "      <th>3</th>\n",
              "      <td>2017-31436</td>\n",
              "      <td>Accept the challenges so that you can literall...</td>\n",
              "      <td>0</td>\n",
              "      <td>0</td>\n",
              "      <td>0</td>\n",
              "      <td>0</td>\n",
              "      <td>1</td>\n",
              "      <td>0</td>\n",
              "      <td>1</td>\n",
              "      <td>0</td>\n",
              "      <td>0</td>\n",
              "      <td>0</td>\n",
              "      <td>0</td>\n",
              "    </tr>\n",
              "    <tr>\n",
              "      <th>4</th>\n",
              "      <td>2017-22195</td>\n",
              "      <td>My roommate: it's okay that we can't spell bec...</td>\n",
              "      <td>1</td>\n",
              "      <td>0</td>\n",
              "      <td>1</td>\n",
              "      <td>0</td>\n",
              "      <td>0</td>\n",
              "      <td>0</td>\n",
              "      <td>0</td>\n",
              "      <td>0</td>\n",
              "      <td>0</td>\n",
              "      <td>0</td>\n",
              "      <td>0</td>\n",
              "    </tr>\n",
              "    <tr>\n",
              "      <th>5</th>\n",
              "      <td>2017-22190</td>\n",
              "      <td>No but that's so cute. Atsu was probably shy a...</td>\n",
              "      <td>0</td>\n",
              "      <td>0</td>\n",
              "      <td>0</td>\n",
              "      <td>0</td>\n",
              "      <td>1</td>\n",
              "      <td>0</td>\n",
              "      <td>0</td>\n",
              "      <td>0</td>\n",
              "      <td>0</td>\n",
              "      <td>0</td>\n",
              "      <td>0</td>\n",
              "    </tr>\n",
              "    <tr>\n",
              "      <th>6</th>\n",
              "      <td>2017-20221</td>\n",
              "      <td>Do you think humans have the sense for recogni...</td>\n",
              "      <td>0</td>\n",
              "      <td>1</td>\n",
              "      <td>0</td>\n",
              "      <td>0</td>\n",
              "      <td>0</td>\n",
              "      <td>0</td>\n",
              "      <td>0</td>\n",
              "      <td>1</td>\n",
              "      <td>0</td>\n",
              "      <td>0</td>\n",
              "      <td>0</td>\n",
              "    </tr>\n",
              "    <tr>\n",
              "      <th>7</th>\n",
              "      <td>2017-22180</td>\n",
              "      <td>Rooneys fucking untouchable isn't he? Been fuc...</td>\n",
              "      <td>1</td>\n",
              "      <td>0</td>\n",
              "      <td>1</td>\n",
              "      <td>0</td>\n",
              "      <td>0</td>\n",
              "      <td>0</td>\n",
              "      <td>0</td>\n",
              "      <td>0</td>\n",
              "      <td>0</td>\n",
              "      <td>0</td>\n",
              "      <td>0</td>\n",
              "    </tr>\n",
              "    <tr>\n",
              "      <th>8</th>\n",
              "      <td>2017-41344</td>\n",
              "      <td>it's pretty depressing when u hit pan on ur fa...</td>\n",
              "      <td>0</td>\n",
              "      <td>0</td>\n",
              "      <td>1</td>\n",
              "      <td>0</td>\n",
              "      <td>0</td>\n",
              "      <td>0</td>\n",
              "      <td>0</td>\n",
              "      <td>0</td>\n",
              "      <td>1</td>\n",
              "      <td>0</td>\n",
              "      <td>0</td>\n",
              "    </tr>\n",
              "    <tr>\n",
              "      <th>9</th>\n",
              "      <td>2017-20759</td>\n",
              "      <td>@BossUpJaee but your pussy was weak from what ...</td>\n",
              "      <td>1</td>\n",
              "      <td>0</td>\n",
              "      <td>1</td>\n",
              "      <td>0</td>\n",
              "      <td>0</td>\n",
              "      <td>0</td>\n",
              "      <td>0</td>\n",
              "      <td>0</td>\n",
              "      <td>0</td>\n",
              "      <td>0</td>\n",
              "      <td>0</td>\n",
              "    </tr>\n",
              "  </tbody>\n",
              "</table>\n",
              "</div>\n",
              "    <div class=\"colab-df-buttons\">\n",
              "\n",
              "  <div class=\"colab-df-container\">\n",
              "    <button class=\"colab-df-convert\" onclick=\"convertToInteractive('df-94ba8a0f-9518-4dd1-8c33-352671e29318')\"\n",
              "            title=\"Convert this dataframe to an interactive table.\"\n",
              "            style=\"display:none;\">\n",
              "\n",
              "  <svg xmlns=\"http://www.w3.org/2000/svg\" height=\"24px\" viewBox=\"0 -960 960 960\">\n",
              "    <path d=\"M120-120v-720h720v720H120Zm60-500h600v-160H180v160Zm220 220h160v-160H400v160Zm0 220h160v-160H400v160ZM180-400h160v-160H180v160Zm440 0h160v-160H620v160ZM180-180h160v-160H180v160Zm440 0h160v-160H620v160Z\"/>\n",
              "  </svg>\n",
              "    </button>\n",
              "\n",
              "  <style>\n",
              "    .colab-df-container {\n",
              "      display:flex;\n",
              "      gap: 12px;\n",
              "    }\n",
              "\n",
              "    .colab-df-convert {\n",
              "      background-color: #E8F0FE;\n",
              "      border: none;\n",
              "      border-radius: 50%;\n",
              "      cursor: pointer;\n",
              "      display: none;\n",
              "      fill: #1967D2;\n",
              "      height: 32px;\n",
              "      padding: 0 0 0 0;\n",
              "      width: 32px;\n",
              "    }\n",
              "\n",
              "    .colab-df-convert:hover {\n",
              "      background-color: #E2EBFA;\n",
              "      box-shadow: 0px 1px 2px rgba(60, 64, 67, 0.3), 0px 1px 3px 1px rgba(60, 64, 67, 0.15);\n",
              "      fill: #174EA6;\n",
              "    }\n",
              "\n",
              "    .colab-df-buttons div {\n",
              "      margin-bottom: 4px;\n",
              "    }\n",
              "\n",
              "    [theme=dark] .colab-df-convert {\n",
              "      background-color: #3B4455;\n",
              "      fill: #D2E3FC;\n",
              "    }\n",
              "\n",
              "    [theme=dark] .colab-df-convert:hover {\n",
              "      background-color: #434B5C;\n",
              "      box-shadow: 0px 1px 3px 1px rgba(0, 0, 0, 0.15);\n",
              "      filter: drop-shadow(0px 1px 2px rgba(0, 0, 0, 0.3));\n",
              "      fill: #FFFFFF;\n",
              "    }\n",
              "  </style>\n",
              "\n",
              "    <script>\n",
              "      const buttonEl =\n",
              "        document.querySelector('#df-94ba8a0f-9518-4dd1-8c33-352671e29318 button.colab-df-convert');\n",
              "      buttonEl.style.display =\n",
              "        google.colab.kernel.accessAllowed ? 'block' : 'none';\n",
              "\n",
              "      async function convertToInteractive(key) {\n",
              "        const element = document.querySelector('#df-94ba8a0f-9518-4dd1-8c33-352671e29318');\n",
              "        const dataTable =\n",
              "          await google.colab.kernel.invokeFunction('convertToInteractive',\n",
              "                                                    [key], {});\n",
              "        if (!dataTable) return;\n",
              "\n",
              "        const docLinkHtml = 'Like what you see? Visit the ' +\n",
              "          '<a target=\"_blank\" href=https://colab.research.google.com/notebooks/data_table.ipynb>data table notebook</a>'\n",
              "          + ' to learn more about interactive tables.';\n",
              "        element.innerHTML = '';\n",
              "        dataTable['output_type'] = 'display_data';\n",
              "        await google.colab.output.renderOutput(dataTable, element);\n",
              "        const docLink = document.createElement('div');\n",
              "        docLink.innerHTML = docLinkHtml;\n",
              "        element.appendChild(docLink);\n",
              "      }\n",
              "    </script>\n",
              "  </div>\n",
              "\n",
              "\n",
              "<div id=\"df-29f04179-5715-42d8-b669-ab801498cb3d\">\n",
              "  <button class=\"colab-df-quickchart\" onclick=\"quickchart('df-29f04179-5715-42d8-b669-ab801498cb3d')\"\n",
              "            title=\"Suggest charts\"\n",
              "            style=\"display:none;\">\n",
              "\n",
              "<svg xmlns=\"http://www.w3.org/2000/svg\" height=\"24px\"viewBox=\"0 0 24 24\"\n",
              "     width=\"24px\">\n",
              "    <g>\n",
              "        <path d=\"M19 3H5c-1.1 0-2 .9-2 2v14c0 1.1.9 2 2 2h14c1.1 0 2-.9 2-2V5c0-1.1-.9-2-2-2zM9 17H7v-7h2v7zm4 0h-2V7h2v10zm4 0h-2v-4h2v4z\"/>\n",
              "    </g>\n",
              "</svg>\n",
              "  </button>\n",
              "\n",
              "<style>\n",
              "  .colab-df-quickchart {\n",
              "      --bg-color: #E8F0FE;\n",
              "      --fill-color: #1967D2;\n",
              "      --hover-bg-color: #E2EBFA;\n",
              "      --hover-fill-color: #174EA6;\n",
              "      --disabled-fill-color: #AAA;\n",
              "      --disabled-bg-color: #DDD;\n",
              "  }\n",
              "\n",
              "  [theme=dark] .colab-df-quickchart {\n",
              "      --bg-color: #3B4455;\n",
              "      --fill-color: #D2E3FC;\n",
              "      --hover-bg-color: #434B5C;\n",
              "      --hover-fill-color: #FFFFFF;\n",
              "      --disabled-bg-color: #3B4455;\n",
              "      --disabled-fill-color: #666;\n",
              "  }\n",
              "\n",
              "  .colab-df-quickchart {\n",
              "    background-color: var(--bg-color);\n",
              "    border: none;\n",
              "    border-radius: 50%;\n",
              "    cursor: pointer;\n",
              "    display: none;\n",
              "    fill: var(--fill-color);\n",
              "    height: 32px;\n",
              "    padding: 0;\n",
              "    width: 32px;\n",
              "  }\n",
              "\n",
              "  .colab-df-quickchart:hover {\n",
              "    background-color: var(--hover-bg-color);\n",
              "    box-shadow: 0 1px 2px rgba(60, 64, 67, 0.3), 0 1px 3px 1px rgba(60, 64, 67, 0.15);\n",
              "    fill: var(--button-hover-fill-color);\n",
              "  }\n",
              "\n",
              "  .colab-df-quickchart-complete:disabled,\n",
              "  .colab-df-quickchart-complete:disabled:hover {\n",
              "    background-color: var(--disabled-bg-color);\n",
              "    fill: var(--disabled-fill-color);\n",
              "    box-shadow: none;\n",
              "  }\n",
              "\n",
              "  .colab-df-spinner {\n",
              "    border: 2px solid var(--fill-color);\n",
              "    border-color: transparent;\n",
              "    border-bottom-color: var(--fill-color);\n",
              "    animation:\n",
              "      spin 1s steps(1) infinite;\n",
              "  }\n",
              "\n",
              "  @keyframes spin {\n",
              "    0% {\n",
              "      border-color: transparent;\n",
              "      border-bottom-color: var(--fill-color);\n",
              "      border-left-color: var(--fill-color);\n",
              "    }\n",
              "    20% {\n",
              "      border-color: transparent;\n",
              "      border-left-color: var(--fill-color);\n",
              "      border-top-color: var(--fill-color);\n",
              "    }\n",
              "    30% {\n",
              "      border-color: transparent;\n",
              "      border-left-color: var(--fill-color);\n",
              "      border-top-color: var(--fill-color);\n",
              "      border-right-color: var(--fill-color);\n",
              "    }\n",
              "    40% {\n",
              "      border-color: transparent;\n",
              "      border-right-color: var(--fill-color);\n",
              "      border-top-color: var(--fill-color);\n",
              "    }\n",
              "    60% {\n",
              "      border-color: transparent;\n",
              "      border-right-color: var(--fill-color);\n",
              "    }\n",
              "    80% {\n",
              "      border-color: transparent;\n",
              "      border-right-color: var(--fill-color);\n",
              "      border-bottom-color: var(--fill-color);\n",
              "    }\n",
              "    90% {\n",
              "      border-color: transparent;\n",
              "      border-bottom-color: var(--fill-color);\n",
              "    }\n",
              "  }\n",
              "</style>\n",
              "\n",
              "  <script>\n",
              "    async function quickchart(key) {\n",
              "      const quickchartButtonEl =\n",
              "        document.querySelector('#' + key + ' button');\n",
              "      quickchartButtonEl.disabled = true;  // To prevent multiple clicks.\n",
              "      quickchartButtonEl.classList.add('colab-df-spinner');\n",
              "      try {\n",
              "        const charts = await google.colab.kernel.invokeFunction(\n",
              "            'suggestCharts', [key], {});\n",
              "      } catch (error) {\n",
              "        console.error('Error during call to suggestCharts:', error);\n",
              "      }\n",
              "      quickchartButtonEl.classList.remove('colab-df-spinner');\n",
              "      quickchartButtonEl.classList.add('colab-df-quickchart-complete');\n",
              "    }\n",
              "    (() => {\n",
              "      let quickchartButtonEl =\n",
              "        document.querySelector('#df-29f04179-5715-42d8-b669-ab801498cb3d button');\n",
              "      quickchartButtonEl.style.display =\n",
              "        google.colab.kernel.accessAllowed ? 'block' : 'none';\n",
              "    })();\n",
              "  </script>\n",
              "</div>\n",
              "\n",
              "    </div>\n",
              "  </div>\n"
            ],
            "application/vnd.google.colaboratory.intrinsic+json": {
              "type": "dataframe",
              "variable_name": "train_valid_df",
              "summary": "{\n  \"name\": \"train_valid_df\",\n  \"rows\": 7724,\n  \"fields\": [\n    {\n      \"column\": \"ID\",\n      \"properties\": {\n        \"dtype\": \"string\",\n        \"num_unique_values\": 7724,\n        \"samples\": [\n          \"2017-30250\",\n          \"2017-30519\",\n          \"2018-01720\"\n        ],\n        \"semantic_type\": \"\",\n        \"description\": \"\"\n      }\n    },\n    {\n      \"column\": \"Tweet\",\n      \"properties\": {\n        \"dtype\": \"string\",\n        \"num_unique_values\": 7724,\n        \"samples\": [\n          \"I'm due for a big change! I've prayed on it, I think I deserve it #positivity \",\n          \"incetown, age 23, joyful, elevated in hope with the\",\n          \"Never heard of #CaraCaraOranges until today. Very #tasty! I highly recommend them! #delicious #GoodForYou #fruits  #oranges\"\n        ],\n        \"semantic_type\": \"\",\n        \"description\": \"\"\n      }\n    },\n    {\n      \"column\": \"anger\",\n      \"properties\": {\n        \"dtype\": \"number\",\n        \"std\": 0,\n        \"min\": 0,\n        \"max\": 1,\n        \"num_unique_values\": 2,\n        \"samples\": [\n          1,\n          0\n        ],\n        \"semantic_type\": \"\",\n        \"description\": \"\"\n      }\n    },\n    {\n      \"column\": \"anticipation\",\n      \"properties\": {\n        \"dtype\": \"number\",\n        \"std\": 0,\n        \"min\": 0,\n        \"max\": 1,\n        \"num_unique_values\": 2,\n        \"samples\": [\n          0,\n          1\n        ],\n        \"semantic_type\": \"\",\n        \"description\": \"\"\n      }\n    },\n    {\n      \"column\": \"disgust\",\n      \"properties\": {\n        \"dtype\": \"number\",\n        \"std\": 0,\n        \"min\": 0,\n        \"max\": 1,\n        \"num_unique_values\": 2,\n        \"samples\": [\n          1,\n          0\n        ],\n        \"semantic_type\": \"\",\n        \"description\": \"\"\n      }\n    },\n    {\n      \"column\": \"fear\",\n      \"properties\": {\n        \"dtype\": \"number\",\n        \"std\": 0,\n        \"min\": 0,\n        \"max\": 1,\n        \"num_unique_values\": 2,\n        \"samples\": [\n          1,\n          0\n        ],\n        \"semantic_type\": \"\",\n        \"description\": \"\"\n      }\n    },\n    {\n      \"column\": \"joy\",\n      \"properties\": {\n        \"dtype\": \"number\",\n        \"std\": 0,\n        \"min\": 0,\n        \"max\": 1,\n        \"num_unique_values\": 2,\n        \"samples\": [\n          1,\n          0\n        ],\n        \"semantic_type\": \"\",\n        \"description\": \"\"\n      }\n    },\n    {\n      \"column\": \"love\",\n      \"properties\": {\n        \"dtype\": \"number\",\n        \"std\": 0,\n        \"min\": 0,\n        \"max\": 1,\n        \"num_unique_values\": 2,\n        \"samples\": [\n          1,\n          0\n        ],\n        \"semantic_type\": \"\",\n        \"description\": \"\"\n      }\n    },\n    {\n      \"column\": \"optimism\",\n      \"properties\": {\n        \"dtype\": \"number\",\n        \"std\": 0,\n        \"min\": 0,\n        \"max\": 1,\n        \"num_unique_values\": 2,\n        \"samples\": [\n          0,\n          1\n        ],\n        \"semantic_type\": \"\",\n        \"description\": \"\"\n      }\n    },\n    {\n      \"column\": \"pessimism\",\n      \"properties\": {\n        \"dtype\": \"number\",\n        \"std\": 0,\n        \"min\": 0,\n        \"max\": 1,\n        \"num_unique_values\": 2,\n        \"samples\": [\n          1,\n          0\n        ],\n        \"semantic_type\": \"\",\n        \"description\": \"\"\n      }\n    },\n    {\n      \"column\": \"sadness\",\n      \"properties\": {\n        \"dtype\": \"number\",\n        \"std\": 0,\n        \"min\": 0,\n        \"max\": 1,\n        \"num_unique_values\": 2,\n        \"samples\": [\n          1,\n          0\n        ],\n        \"semantic_type\": \"\",\n        \"description\": \"\"\n      }\n    },\n    {\n      \"column\": \"surprise\",\n      \"properties\": {\n        \"dtype\": \"number\",\n        \"std\": 0,\n        \"min\": 0,\n        \"max\": 1,\n        \"num_unique_values\": 2,\n        \"samples\": [\n          1,\n          0\n        ],\n        \"semantic_type\": \"\",\n        \"description\": \"\"\n      }\n    },\n    {\n      \"column\": \"trust\",\n      \"properties\": {\n        \"dtype\": \"number\",\n        \"std\": 0,\n        \"min\": 0,\n        \"max\": 1,\n        \"num_unique_values\": 2,\n        \"samples\": [\n          0,\n          1\n        ],\n        \"semantic_type\": \"\",\n        \"description\": \"\"\n      }\n    }\n  ]\n}"
            }
          },
          "metadata": {},
          "execution_count": 7
        }
      ]
    },
    {
      "cell_type": "code",
      "source": [
        "train_val_labels = train_valid_df[['anger',\n",
        "                                      'anticipation',\n",
        "                                             'disgust',\n",
        "                                             'fear',\n",
        "                                             'joy',\n",
        "                                             'love',\n",
        "                                             'optimism',\n",
        "                                             'pessimism',\n",
        "                                             'sadness',\n",
        "                                             'surprise',\n",
        "                                             'trust']]\n"
      ],
      "metadata": {
        "id": "YqCMhUsbVJNi"
      },
      "execution_count": null,
      "outputs": []
    },
    {
      "cell_type": "code",
      "source": [
        "# plotting of class distribution\n",
        "label_counts = train_val_labels.sum()\n",
        "\n",
        "# Total label counts\n",
        "total_counts = label_counts.sum()\n",
        "\n",
        "# percentage calculations\n",
        "percentages = (label_counts/total_counts)*100\n",
        "\n",
        "# Making a bar plot\n",
        "plt.figure(figsize = (12,8))\n",
        "plt.bar(label_counts.index, label_counts.values, color = 'green')\n",
        "\n",
        "# Adding labels for the percentages\n",
        "for i, (count, pct) in enumerate(zip(label_counts.values, percentages)):\n",
        "  plt.text(i, count + 10 , f'{pct:.2f}%',  ha = 'center' )\n",
        "\n",
        "\n",
        "plt.title('Emotion Class Distribution')\n",
        "plt.ylabel('Count')\n",
        "plt.show()\n"
      ],
      "metadata": {
        "colab": {
          "base_uri": "https://localhost:8080/",
          "height": 699
        },
        "id": "LlinR4QHWGfp",
        "outputId": "99683f87-ca4d-4e0e-d296-6e94a8599a2f"
      },
      "execution_count": null,
      "outputs": [
        {
          "output_type": "display_data",
          "data": {
            "text/plain": [
              "<Figure size 1200x800 with 1 Axes>"
            ],
            "image/png": "[encoded data removed]"
          },
          "metadata": {}
        }
      ]
    },
    {
      "cell_type": "markdown",
      "source": [
        "## <font color='pickle'>**Accounting for the class imbalance**</font>\n",
        "\n",
        "- I don't want to leak any information about the validation set to the training process, so I will be using some weights I calculated after splitting the data into training and validation sets.\n",
        "- Here is what the code looked like:\n",
        "\n",
        "```python\n",
        "class_counts = np.sum(y_train, axis=0)\n",
        "\n",
        "total_samples = y_train.shape[0]\n",
        "\n",
        "class_weights = total_samples / (len(class_counts) * class_counts)\n",
        "\n",
        "class_weights = torch.tensor(class_weights, dtype=torch.float32)\n",
        "\n",
        "print(class_counts)\n",
        "print(total_samples)\n",
        "print(class_weights)\n"
      ],
      "metadata": {
        "id": "6J9ScMqCaZ1f"
      }
    },
    {
      "cell_type": "markdown",
      "source": [
        "**Actual Files I will be using for Training/Inference**"
      ],
      "metadata": {
        "id": "3MU_nyvjqn6D"
      }
    },
    {
      "cell_type": "code",
      "source": [
        "# Train\n",
        "train_ds = joblib.load(data_folder/'X_train_cleaned.pkl')\n",
        "# Val\n",
        "val_ds = joblib.load(data_folder/'X_val_cleaned.pkl')\n",
        "# Test\n",
        "test_ds = joblib.load(data_folder/'X_test_cleaned.pkl')\n",
        "\n",
        "# Class weights\n",
        "class_weights = joblib.load(data_folder/'class_weights.pkl')"
      ],
      "metadata": {
        "id": "na-runS8h92c"
      },
      "execution_count": null,
      "outputs": []
    },
    {
      "cell_type": "code",
      "source": [
        "# Viewing train\n",
        "\n",
        "train_df = pd.DataFrame(train_ds).T\n",
        "train_df.rename(columns ={0:'text', 1:'label'}, inplace = True)\n",
        "print(train_df.head())\n",
        "print('-'*30)\n",
        "print(train_df.shape)\n",
        "\n"
      ],
      "metadata": {
        "colab": {
          "base_uri": "https://localhost:8080/"
        },
        "id": "8SPft4LvpHRH",
        "outputId": "8c1c0583-34cb-442e-f800-db1614d9dc46"
      },
      "execution_count": null,
      "outputs": [
        {
          "output_type": "stream",
          "name": "stdout",
          "text": [
            "                                                text  \\\n",
            "0  @KMunie7 @KaranEsch Helluva lot more animated ...   \n",
            "1  Despite my sharing O'Neill's article, what sad...   \n",
            "2  @mtailor “20% Better Than a Tailor”? Least a t...   \n",
            "3  How on earth can the projection of all that is...   \n",
            "4  Patti seems so sad. She stamped and ran behind...   \n",
            "\n",
            "                               label  \n",
            "0  [0, 1, 0, 0, 1, 1, 1, 0, 0, 0, 0]  \n",
            "1  [1, 0, 1, 1, 0, 0, 0, 0, 1, 0, 0]  \n",
            "2  [1, 0, 1, 0, 0, 0, 0, 0, 1, 0, 0]  \n",
            "3  [1, 0, 1, 0, 0, 0, 0, 0, 0, 0, 0]  \n",
            "4  [0, 0, 0, 0, 1, 1, 1, 0, 1, 0, 0]  \n",
            "------------------------------\n",
            "(5406, 2)\n"
          ]
        }
      ]
    },
    {
      "cell_type": "code",
      "source": [
        "# View validation\n",
        "\n",
        "val_df = pd.DataFrame(val_ds).T\n",
        "val_df.rename(columns ={0:'text', 1:'label'}, inplace = True)\n",
        "print(val_df.head())\n",
        "print('-'*30)\n",
        "print(val_df.shape)\n",
        "\n"
      ],
      "metadata": {
        "colab": {
          "base_uri": "https://localhost:8080/"
        },
        "id": "_Eig9M5YrAKb",
        "outputId": "7ce84c32-227c-4a4a-ccc1-6ab9051e0274"
      },
      "execution_count": null,
      "outputs": [
        {
          "output_type": "stream",
          "name": "stdout",
          "text": [
            "                                                text  \\\n",
            "0  I'm due for a big change! I've prayed on it, I...   \n",
            "1  incetown, age 23, joyful, elevated in hope wit...   \n",
            "2  Never heard of #CaraCaraOranges until today. V...   \n",
            "3  I'm so bored and fat and full and ridiculously...   \n",
            "4  @easyJet Hi folks. Flight is going to be over ...   \n",
            "\n",
            "                               label  \n",
            "0  [0, 0, 0, 0, 1, 0, 1, 0, 0, 0, 1]  \n",
            "1  [0, 0, 0, 0, 1, 0, 1, 0, 0, 0, 0]  \n",
            "2  [0, 0, 0, 0, 1, 1, 1, 0, 0, 0, 0]  \n",
            "3  [1, 0, 1, 1, 0, 0, 0, 1, 1, 0, 0]  \n",
            "4  [1, 0, 1, 0, 0, 0, 0, 0, 0, 0, 0]  \n",
            "------------------------------\n",
            "(2318, 2)\n"
          ]
        }
      ]
    },
    {
      "cell_type": "markdown",
      "source": [
        "<font color = 'pickle'>**Notice no labels for the emotion indicators here**"
      ],
      "metadata": {
        "id": "Hkvzd4GPojQJ"
      }
    },
    {
      "cell_type": "code",
      "source": [
        "# View Test\n",
        "test_df = pd.DataFrame(test_ds).T\n",
        "test_df.rename(columns ={0:'text', 1:'label'}, inplace = True)\n",
        "print(test_df.head())\n",
        "print('-'*30)\n",
        "print(test_df.shape)\n"
      ],
      "metadata": {
        "colab": {
          "base_uri": "https://localhost:8080/"
        },
        "id": "uTC78x0Kp5Qp",
        "outputId": "5aeed4e1-8b1b-45ef-c9cf-249c304f6ff0"
      },
      "execution_count": null,
      "outputs": [
        {
          "output_type": "stream",
          "name": "stdout",
          "text": [
            "                                                text  \\\n",
            "0  @Adnan__786__ @AsYouNotWish Dont worry Indian ...   \n",
            "1  Academy of Sciences, eschews the normally sobe...   \n",
            "2                  I blew that opportunity -__- #mad   \n",
            "3             This time in 2 weeks I will be 30... 😥   \n",
            "4  #Deppression is real. Partners w/ #depressed p...   \n",
            "\n",
            "                                               label  \n",
            "0  [NONE, NONE, NONE, NONE, NONE, NONE, NONE, NON...  \n",
            "1  [NONE, NONE, NONE, NONE, NONE, NONE, NONE, NON...  \n",
            "2  [NONE, NONE, NONE, NONE, NONE, NONE, NONE, NON...  \n",
            "3  [NONE, NONE, NONE, NONE, NONE, NONE, NONE, NON...  \n",
            "4  [NONE, NONE, NONE, NONE, NONE, NONE, NONE, NON...  \n",
            "------------------------------\n",
            "(3259, 2)\n"
          ]
        }
      ]
    },
    {
      "cell_type": "code",
      "source": [
        "class_names = ['anger','anticipation','disgust','fear','joy','love','optimism','pessimism','sadness','surprise','trust']"
      ],
      "metadata": {
        "id": "prAmVJvmodak"
      },
      "execution_count": null,
      "outputs": []
    },
    {
      "cell_type": "markdown",
      "source": [
        "## <font color='pickle'>**Loading into Dataset.Dict**</font>\n",
        "\n",
        "- This step is crucial because it ensures that the data is properly structured and ready for the RoBERTa model and HF Trainer to process during training. By loading the data into a `Dataset.Dict`, I am preparing it for efficient batching, tokenization, and the necessary preprocessing steps required for model training.\n",
        "\n"
      ],
      "metadata": {
        "id": "bXh8KKNyhJx7"
      }
    },
    {
      "cell_type": "markdown",
      "source": [
        "<font color = 'pickle'>***Initial Sizing with a smaller sample of the data***"
      ],
      "metadata": {
        "id": "ORGks03bdIrQ"
      }
    },
    {
      "cell_type": "code",
      "source": [
        "# Dataset creation\n",
        "train_dataset = Dataset.from_pandas(train_df)\n",
        "val_dataset = Dataset.from_pandas(val_df)\n",
        "\n",
        "# Smaller subsets\n",
        "train_small = train_dataset.shuffle(seed = 42).select(range(2000)) # Selecting 2000 randomly shuffled rows in train\n",
        "val_small = val_dataset.shuffle(seed = 42).select(range(1000)) # selecting 1000 randomly shuffled rows in validation\n",
        "\n",
        "# Creating the training dictionary\n",
        "train_val_small = DatasetDict({'train':train_small, 'valid': val_small})\n",
        "\n",
        "\n"
      ],
      "metadata": {
        "id": "lDnhOZ-Fc2Cx"
      },
      "execution_count": null,
      "outputs": []
    },
    {
      "cell_type": "code",
      "source": [
        "train_val_small"
      ],
      "metadata": {
        "colab": {
          "base_uri": "https://localhost:8080/"
        },
        "id": "MLCEpC-UeIpu",
        "outputId": "9c3ceb35-95d3-454f-aae3-f29da3d006fe"
      },
      "execution_count": null,
      "outputs": [
        {
          "output_type": "execute_result",
          "data": {
            "text/plain": [
              "DatasetDict({\n",
              "    train: Dataset({\n",
              "        features: ['text', 'label'],\n",
              "        num_rows: 2000\n",
              "    })\n",
              "    valid: Dataset({\n",
              "        features: ['text', 'label'],\n",
              "        num_rows: 1000\n",
              "    })\n",
              "})"
            ]
          },
          "metadata": {},
          "execution_count": 16
        }
      ]
    },
    {
      "cell_type": "code",
      "source": [
        "train_val_small['train']['label'][0] # pulling the first label from the training portion of the dictionary"
      ],
      "metadata": {
        "colab": {
          "base_uri": "https://localhost:8080/"
        },
        "id": "uzbDuMB7gkiU",
        "outputId": "66f0a415-79aa-4f18-c450-8b519a11fd76"
      },
      "execution_count": null,
      "outputs": [
        {
          "output_type": "execute_result",
          "data": {
            "text/plain": [
              "[0, 0, 0, 0, 1, 0, 0, 0, 1, 0, 0]"
            ]
          },
          "metadata": {},
          "execution_count": 17
        }
      ]
    },
    {
      "cell_type": "markdown",
      "source": [
        "# <font color = 'pickle'>**Loading the RoBERTa tokenizer**\n",
        "\n",
        "### The difference between RoBERTa and BERT:\n",
        "- BERT (Bidirectional Encoder Representations from Transformers) is a transformer based encoder model that plays on two main tasks:\n",
        "  - Masked Language Modeling: 15% of tokens in the input sequence are randomly masked, based on this the model learns to predict the masked tokens and improve embeddings\n",
        "  - Next sentence prediction: BERT is trained to predict whether two sentences appear consecutively ( Is sentence A followed by Sentence B etc.)\n",
        "  - BERT can do more classification tasks but these are the primary two\n",
        "- RoBERTa (Robustly Optimized BERT approach):\n",
        "  - Improves upon BERTS pretraining by removing the next sentence prediction task that was found to be less beneficial for downstream performance.\n",
        "  - RoBERTa focuses entirely on making predictions of masked tokens within the input sequences. It makes this process more robust by remasking tokens everytime sequences are fed into the model instead of fixing them across the entire dataset.\n",
        "- Another key difference between the two is that BERT uses a wordpiece tokenizer that breaks words down into subwords whereas RoBERTa uses Byte-Pair Encoding.\n",
        "\n",
        "Article on Byte-Pair Encoding: https://towardsdatascience.com/byte-pair-encoding-subword-based-tokenization-algorithm-77828a70bee0"
      ],
      "metadata": {
        "id": "Z_m78ZmSg9JH"
      }
    },
    {
      "cell_type": "code",
      "source": [
        "# load the tokenizer\n",
        "checkpoint = 'roberta-base'\n",
        "\n",
        "tokenizer = AutoTokenizer.from_pretrained(checkpoint)"
      ],
      "metadata": {
        "colab": {
          "base_uri": "https://localhost:8080/",
          "height": 177,
          "referenced_widgets": [
            "1131c2c852074962a82a9298d9d18882",
            "b041362395954b7b9874aa4d39174883",
            "14d261542f1f417a985370b76382e2cb",
            "24ad35af4de248ea92c508d434f10aee",
            "85b951dde44f4839a4c417ce30b76974",
            "17020bcb38e7406cb78cac7f86bfdf6b",
            "a84c5a59cd2b40a4b9050517e6631b1c",
            "b9e3734c2df64e89a1fd7b09b8babf6f",
            "220da8b7a4aa417d968b330c68c08425",
            "3092ddf5f7064382a24b76d399798ffb",
            "1df0d6e0030a45aa958c9d2fbd509762",
            "eaed4e63ed6043af8cfa12d22bd7b1e1",
            "5a35f4c61f1e49f9a7efc00d55d90988",
            "1a48c10af48d48a9af360e664adef6f0",
            "8b62013fc3b24c49bd7ee53211bbcacd",
            "35759201b2774361a275e13bc152f856",
            "2ff6cb50d7f84267adbd028ca24145c4",
            "34d34127956c48ebbc6bd0620d902248",
            "8b3533f156b7453f8fc7f25321890ff3",
            "59beac8ad2bc47dda0ae07a916bd9569",
            "74e31bf63e4e4eaf87d372a044714954",
            "5f7d7631fe7d4a13b1ab94fbe91ef9c4",
            "ae8beaabe80a4a0a81b24f3cc36fb9d9",
            "b5a76ee97a8742c19495b208ff539487",
            "9e3fe009a2f943d5a7835eaacad9958a",
            "a875164de07f4bf98c722485b624066f",
            "edb2bada7f0c4a2283f2966e63e2262f",
            "a54d38a2d58c4ac7a8a358cad9a5aa7f",
            "ee6c5d8b783a4e5181785e550a70b1df",
            "f02e319247994c5ba63f86c26ee4102c",
            "dd8c04a33cb348ce9316fd67f5547449",
            "ebe4ab45a2984457a801e9c2f4e897a4",
            "05ef61318f3a42518e4487d2222b0c21",
            "7bd0466e09634ae8ada2ead62cab8ac5",
            "2c247e34a71c4b5eb48a8aba6e5ce78a",
            "29a33b99d5654313b28584bc08a9ea74",
            "319c120293244a9c97f56941e2b49ab6",
            "2bb92a366d9749eca2be48825efe513c",
            "da9acbfeea96463a93b8f1db2a122094",
            "66e058bc435d406d81109a560d0cb14d",
            "5b3d4b25e01f4b82897d055055a9cc89",
            "47543092c7754046832acee5f4d53752",
            "8e9fd4a7524c4797b8ac515fdabf5b92",
            "1e06446c2b0d4a939c3f3631bbadcbca",
            "a87a5d44fbc64487af28d850d3c6a23b",
            "2d8cf22cb16642e29ebe55d8b097e58d",
            "34aa34719069477e85f6126bb7d14136",
            "4fc4403661ca40f08caaa403f8456994",
            "0dff5b4f088943aca08f63af5e5d4389",
            "a5abef123cef46f89ad6114ab14e62ed",
            "a0703d6ded2a4ff1a4141b90284c32b4",
            "ee85eddfd4d84684a83bca164c97b706",
            "370bee2526fa4054a1b058299d5df16a",
            "36edb290675143eca2fc5956e31c313f",
            "73c215f8541240e4bd34f2bb788a1339"
          ]
        },
        "id": "IGkjgF61g2kq",
        "outputId": "1a7d931e-4f2c-4571-f98e-6a96ee712850"
      },
      "execution_count": null,
      "outputs": [
        {
          "output_type": "display_data",
          "data": {
            "text/plain": [
              "tokenizer_config.json:   0%|          | 0.00/25.0 [00:00<?, ?B/s]"
            ],
            "application/vnd.jupyter.widget-view+json": {
              "version_major": 2,
              "version_minor": 0,
              "model_id": "1131c2c852074962a82a9298d9d18882"
            }
          },
          "metadata": {}
        },
        {
          "output_type": "display_data",
          "data": {
            "text/plain": [
              "config.json:   0%|          | 0.00/481 [00:00<?, ?B/s]"
            ],
            "application/vnd.jupyter.widget-view+json": {
              "version_major": 2,
              "version_minor": 0,
              "model_id": "eaed4e63ed6043af8cfa12d22bd7b1e1"
            }
          },
          "metadata": {}
        },
        {
          "output_type": "display_data",
          "data": {
            "text/plain": [
              "vocab.json:   0%|          | 0.00/899k [00:00<?, ?B/s]"
            ],
            "application/vnd.jupyter.widget-view+json": {
              "version_major": 2,
              "version_minor": 0,
              "model_id": "ae8beaabe80a4a0a81b24f3cc36fb9d9"
            }
          },
          "metadata": {}
        },
        {
          "output_type": "display_data",
          "data": {
            "text/plain": [
              "merges.txt:   0%|          | 0.00/456k [00:00<?, ?B/s]"
            ],
            "application/vnd.jupyter.widget-view+json": {
              "version_major": 2,
              "version_minor": 0,
              "model_id": "7bd0466e09634ae8ada2ead62cab8ac5"
            }
          },
          "metadata": {}
        },
        {
          "output_type": "display_data",
          "data": {
            "text/plain": [
              "tokenizer.json:   0%|          | 0.00/1.36M [00:00<?, ?B/s]"
            ],
            "application/vnd.jupyter.widget-view+json": {
              "version_major": 2,
              "version_minor": 0,
              "model_id": "a87a5d44fbc64487af28d850d3c6a23b"
            }
          },
          "metadata": {}
        }
      ]
    },
    {
      "cell_type": "markdown",
      "source": [
        "### <font color = 'pickle'>**Creating the Tokenize Function**\n"
      ],
      "metadata": {
        "id": "A2QGsFIgqL7S"
      }
    },
    {
      "cell_type": "code",
      "source": [
        "def tokenize(batch):\n",
        "  return tokenizer(batch['text'], truncation = True)\n"
      ],
      "metadata": {
        "id": "jgie6mh3o7JW"
      },
      "execution_count": null,
      "outputs": []
    },
    {
      "cell_type": "markdown",
      "source": [
        "The .map() function allows the HF trainer to tokenize every batch in the Dataset"
      ],
      "metadata": {
        "id": "s467rP-2vV7g"
      }
    },
    {
      "cell_type": "code",
      "source": [
        " tokenized_ds = train_val_small.map(tokenize, batched = True)\n",
        " tokenized_ds = tokenized_ds.remove_columns(\n",
        "     ['text']\n",
        " )\n",
        "\n",
        " tokenized_ds.set_format(type = 'torch') # sets the format of the dataset from a python object into PyTorch tensors"
      ],
      "metadata": {
        "colab": {
          "base_uri": "https://localhost:8080/",
          "height": 81,
          "referenced_widgets": [
            "c669827e65004063b1b6b9f61f717fec",
            "f652dcea582b4fc0b188fbf0f90555c7",
            "9eb88f8d721e4e7bb804e76fe87e5a5b",
            "d35618540b5a41a694587e737aa1f9c4",
            "b701b22e44c84ee2a521029de83519a8",
            "d6c775fbb5594fce8ca97457789d25a5",
            "6e73d853c67a41fd8ef322e1d29c3834",
            "4b56f1cd06e0456bb03ac162391a0613",
            "7127711eca024c939781e664b57055b9",
            "1c3b408be7b54c25bcdddf5736787a73",
            "53743306206d42a0a7ebb3d45e235c11",
            "13d201ce252743de8075393355554e9b",
            "c586512dd5ca402bb0e9a891c0eeea93",
            "f32cd456ece84a85b9735a0b587c590b",
            "8dc4f246f19d44e2a07f7b6c30f1c34b",
            "00409e7feec34a51906ad972314cb60b",
            "146b156fa1f7423988421f41f3d89671",
            "42282f71ca3a4ff98ebe8ef62769dd2f",
            "cc82ef76c2054bd2b7e027a625dca891",
            "6a59b5d65d9c46e5aced6b2249c8e58f",
            "fb7270562d0a4b1e95a7ca7ea02fa208",
            "eddc2364db754b8995c973c13493b4f6"
          ]
        },
        "id": "V-2wW63ircvv",
        "outputId": "d8355d49-0b3f-41b2-cc7b-6bc5d3094e7a"
      },
      "execution_count": null,
      "outputs": [
        {
          "output_type": "display_data",
          "data": {
            "text/plain": [
              "Map:   0%|          | 0/2000 [00:00<?, ? examples/s]"
            ],
            "application/vnd.jupyter.widget-view+json": {
              "version_major": 2,
              "version_minor": 0,
              "model_id": "c669827e65004063b1b6b9f61f717fec"
            }
          },
          "metadata": {}
        },
        {
          "output_type": "display_data",
          "data": {
            "text/plain": [
              "Map:   0%|          | 0/1000 [00:00<?, ? examples/s]"
            ],
            "application/vnd.jupyter.widget-view+json": {
              "version_major": 2,
              "version_minor": 0,
              "model_id": "13d201ce252743de8075393355554e9b"
            }
          },
          "metadata": {}
        }
      ]
    },
    {
      "cell_type": "code",
      "source": [
        "# Looking at the ds\n",
        "tokenized_ds"
      ],
      "metadata": {
        "colab": {
          "base_uri": "https://localhost:8080/"
        },
        "id": "b47CRXh_wktd",
        "outputId": "4dd48473-4fa0-4f18-91d1-f126548b30d2"
      },
      "execution_count": null,
      "outputs": [
        {
          "output_type": "execute_result",
          "data": {
            "text/plain": [
              "DatasetDict({\n",
              "    train: Dataset({\n",
              "        features: ['label', 'input_ids', 'attention_mask'],\n",
              "        num_rows: 2000\n",
              "    })\n",
              "    valid: Dataset({\n",
              "        features: ['label', 'input_ids', 'attention_mask'],\n",
              "        num_rows: 1000\n",
              "    })\n",
              "})"
            ]
          },
          "metadata": {},
          "execution_count": 21
        }
      ]
    },
    {
      "cell_type": "code",
      "source": [
        "tokenized_ds['train']['label'][0]"
      ],
      "metadata": {
        "colab": {
          "base_uri": "https://localhost:8080/"
        },
        "id": "TyzmvRtXwnhr",
        "outputId": "4276944c-39a7-458f-ac95-e6642dfe894e"
      },
      "execution_count": null,
      "outputs": [
        {
          "output_type": "execute_result",
          "data": {
            "text/plain": [
              "tensor([0, 0, 0, 0, 1, 0, 0, 0, 1, 0, 0])"
            ]
          },
          "metadata": {},
          "execution_count": 22
        }
      ]
    },
    {
      "cell_type": "markdown",
      "source": [
        "#### <font color='pickle'>**Remapping labels to float**\n",
        "\n",
        "- In the code below, I call a `map` function that creates a new column `float_label` by converting each label from an integer to a PyTorch float tensor. Afterward, it removes the original `Labels` column (which was of type int) and renames the new `float_label` column back to `Labels`, ensuring that the labels are now in the correct format for training.\n",
        "\n"
      ],
      "metadata": {
        "id": "nyCW0LHKxxD8"
      }
    },
    {
      "cell_type": "code",
      "source": [
        "tokenized_ds = (tokenized_ds.map(lambda x: {'float_label': x['label'].to(torch.float)}, remove_columns=['label'])\n",
        "                .rename_column('float_label', 'label'))"
      ],
      "metadata": {
        "colab": {
          "base_uri": "https://localhost:8080/",
          "height": 81,
          "referenced_widgets": [
            "6185d7f4eb424e11b968b627bb6880eb",
            "aae1e2290b484d7eaa1c160e803b9208",
            "15574f590c3d42cca2229e43aaf26017",
            "bc35b82a3b76443a8ca3faa8920a9177",
            "74dec9af227f43bd835ff5faae208b1c",
            "568188c241da48b4bb8a82cbdbbb8bbd",
            "9e91cc5aa52e4a6f9ade3d84fb32dd42",
            "06b83a9d6f3b4659915ca4f171184f9a",
            "565aaf57cafe43c0925338f79049c1a7",
            "b44974e79b7c4d188fda05ca545820c4",
            "40a54b42ec654eb89360f0e3bdbaae41",
            "a9035b016ea8486eb30564346e319c42",
            "e074e1db09e24891a481d8bba34515da",
            "7fef1e6b68d743df969a1a200d14a1de",
            "8def19f850aa475e8fb0daac8d3080ee",
            "d620f99d1cd649d08553271caf0998af",
            "162843b2df5b44609192586f2d464260",
            "92f9ac90f09d47b6aa645587e1d27934",
            "3afbb4e99aaf44b0a10a63c5f1ada2e4",
            "78a7255a75a94c9fa41e2821761549ed",
            "134047f1750145a981cb084134875974",
            "42a772f0cf69483d9682d99673baed8c"
          ]
        },
        "id": "ksSNtZpMwugS",
        "outputId": "003b8d27-63aa-4004-cd96-9346b2b6923d"
      },
      "execution_count": null,
      "outputs": [
        {
          "output_type": "display_data",
          "data": {
            "text/plain": [
              "Map:   0%|          | 0/2000 [00:00<?, ? examples/s]"
            ],
            "application/vnd.jupyter.widget-view+json": {
              "version_major": 2,
              "version_minor": 0,
              "model_id": "6185d7f4eb424e11b968b627bb6880eb"
            }
          },
          "metadata": {}
        },
        {
          "output_type": "display_data",
          "data": {
            "text/plain": [
              "Map:   0%|          | 0/1000 [00:00<?, ? examples/s]"
            ],
            "application/vnd.jupyter.widget-view+json": {
              "version_major": 2,
              "version_minor": 0,
              "model_id": "a9035b016ea8486eb30564346e319c42"
            }
          },
          "metadata": {}
        }
      ]
    },
    {
      "cell_type": "code",
      "source": [
        "# Showing how the labels are changed\n",
        "tokenized_ds['train']['label'][0:5]"
      ],
      "metadata": {
        "colab": {
          "base_uri": "https://localhost:8080/"
        },
        "id": "MCAl4NwdzGoW",
        "outputId": "39277380-36b5-4d29-f45f-986477c462e1"
      },
      "execution_count": null,
      "outputs": [
        {
          "output_type": "execute_result",
          "data": {
            "text/plain": [
              "tensor([[0., 0., 0., 0., 1., 0., 0., 0., 1., 0., 0.],\n",
              "        [1., 0., 1., 0., 0., 0., 0., 0., 1., 0., 0.],\n",
              "        [0., 0., 0., 1., 0., 0., 0., 0., 0., 0., 0.],\n",
              "        [1., 0., 1., 0., 0., 0., 0., 1., 1., 0., 0.],\n",
              "        [1., 0., 1., 0., 0., 0., 0., 0., 0., 0., 0.]])"
            ]
          },
          "metadata": {},
          "execution_count": 24
        }
      ]
    },
    {
      "cell_type": "code",
      "source": [
        "tokenized_ds['valid']['label'][0:5]"
      ],
      "metadata": {
        "colab": {
          "base_uri": "https://localhost:8080/"
        },
        "id": "MoSzm5LTJ-JB",
        "outputId": "64527259-92e3-4f9a-e32d-1e05984f9976"
      },
      "execution_count": null,
      "outputs": [
        {
          "output_type": "execute_result",
          "data": {
            "text/plain": [
              "tensor([[0., 0., 0., 0., 0., 0., 1., 0., 0., 0., 0.],\n",
              "        [0., 1., 0., 0., 0., 0., 0., 0., 0., 1., 0.],\n",
              "        [1., 0., 1., 0., 0., 0., 0., 0., 1., 0., 0.],\n",
              "        [0., 0., 0., 0., 1., 1., 0., 0., 0., 0., 1.],\n",
              "        [0., 0., 0., 0., 1., 1., 1., 0., 0., 0., 0.]])"
            ]
          },
          "metadata": {},
          "execution_count": 25
        }
      ]
    },
    {
      "cell_type": "code",
      "source": [
        "# Calling to see the length of the tokenized sequences\n",
        "print(len(tokenized_ds['train']['input_ids'][1]))\n",
        "print(len(tokenized_ds['train']['input_ids'][2]))"
      ],
      "metadata": {
        "colab": {
          "base_uri": "https://localhost:8080/"
        },
        "id": "HQ9KVW090Xvj",
        "outputId": "90079e47-9bde-4c6c-9c74-eb89fd3f1e26"
      },
      "execution_count": null,
      "outputs": [
        {
          "output_type": "stream",
          "name": "stdout",
          "text": [
            "33\n",
            "20\n"
          ]
        }
      ]
    },
    {
      "cell_type": "markdown",
      "source": [
        "# <font color = 'pickle'>**Training the Model**"
      ],
      "metadata": {
        "id": "a-HZCj_b1ata"
      }
    },
    {
      "cell_type": "markdown",
      "source": [
        "## <font color = 'pickle'>**Downloading the pretrained model**"
      ],
      "metadata": {
        "id": "9f0SLMZA1hov"
      }
    },
    {
      "cell_type": "code",
      "source": [
        "model = AutoModelForSequenceClassification.from_pretrained(checkpoint,\n",
        "                                                           num_labels = 11,\n",
        "                                                           problem_type = 'multi_label_classification') # using the same cp as tokenizer"
      ],
      "metadata": {
        "colab": {
          "base_uri": "https://localhost:8080/",
          "height": 105,
          "referenced_widgets": [
            "4eaef65d82214db9a1b494d65b2035c1",
            "c8f4b41252b74948bc025d1f32b062b9",
            "ec4d19e711aa455c9fbacc2255b75655",
            "2e3645edf5d7481ab2bfe58bea595e4f",
            "a830a50bdf8c464b99b7f771861bfc95",
            "75c5ce6f7e6d405498601d89851d9bff",
            "052b2e607a134440ba53a50696412595",
            "ce1d273720194ff8865f1096adc38c23",
            "47f0366af1a44d78a0ef5c0c66898d84",
            "a9b3623efac1433bb5b7ae408ff2607a",
            "3049a31ce2dd448597d37f78818a6630"
          ]
        },
        "id": "VJCuBuNt0xdF",
        "outputId": "a0b512ed-79b1-4901-bb9e-947824acf7c1"
      },
      "execution_count": null,
      "outputs": [
        {
          "output_type": "display_data",
          "data": {
            "text/plain": [
              "model.safetensors:   0%|          | 0.00/499M [00:00<?, ?B/s]"
            ],
            "application/vnd.jupyter.widget-view+json": {
              "version_major": 2,
              "version_minor": 0,
              "model_id": "4eaef65d82214db9a1b494d65b2035c1"
            }
          },
          "metadata": {}
        },
        {
          "output_type": "stream",
          "name": "stderr",
          "text": [
            "Some weights of RobertaForSequenceClassification were not initialized from the model checkpoint at roberta-base and are newly initialized: ['classifier.dense.bias', 'classifier.dense.weight', 'classifier.out_proj.bias', 'classifier.out_proj.weight']\n",
            "You should probably TRAIN this model on a down-stream task to be able to use it for predictions and inference.\n"
          ]
        }
      ]
    },
    {
      "cell_type": "markdown",
      "source": [
        "## <font color = 'pickle'>**Downloading and Modifying the Config File**\n"
      ],
      "metadata": {
        "id": "GVnwOG_w2KEH"
      }
    },
    {
      "cell_type": "code",
      "source": [
        "class_names"
      ],
      "metadata": {
        "colab": {
          "base_uri": "https://localhost:8080/"
        },
        "id": "WBnBnnk22oh1",
        "outputId": "4028717e-cf0b-44d3-b8ce-d6b6e1e32345"
      },
      "execution_count": null,
      "outputs": [
        {
          "output_type": "execute_result",
          "data": {
            "text/plain": [
              "['anger',\n",
              " 'anticipation',\n",
              " 'disgust',\n",
              " 'fear',\n",
              " 'joy',\n",
              " 'love',\n",
              " 'optimism',\n",
              " 'pessimism',\n",
              " 'sadness',\n",
              " 'surprise',\n",
              " 'trust']"
            ]
          },
          "metadata": {},
          "execution_count": 28
        }
      ]
    },
    {
      "cell_type": "code",
      "source": [
        "config = AutoConfig.from_pretrained(checkpoint)\n",
        "\n",
        "# Setting up the id2label and label2id to match my classes\n",
        "id2label = {id_:label_ for id_, label_ in enumerate(class_names)}\n",
        "label2id = {label_:id_ for id_, label_ in enumerate(class_names)}\n",
        "\n",
        "config.id2label = id2label\n",
        "config.label2id = label2id\n",
        "\n",
        "model.config = config\n"
      ],
      "metadata": {
        "id": "OVLAcp2e2GTR"
      },
      "execution_count": null,
      "outputs": []
    },
    {
      "cell_type": "code",
      "source": [
        "model.config"
      ],
      "metadata": {
        "colab": {
          "base_uri": "https://localhost:8080/"
        },
        "id": "2xS5knza3UV1",
        "outputId": "0f51c5e3-8a2b-49bd-fa3a-07fd67de3276"
      },
      "execution_count": null,
      "outputs": [
        {
          "output_type": "execute_result",
          "data": {
            "text/plain": [
              "RobertaConfig {\n",
              "  \"_name_or_path\": \"roberta-base\",\n",
              "  \"architectures\": [\n",
              "    \"RobertaForMaskedLM\"\n",
              "  ],\n",
              "  \"attention_probs_dropout_prob\": 0.1,\n",
              "  \"bos_token_id\": 0,\n",
              "  \"classifier_dropout\": null,\n",
              "  \"eos_token_id\": 2,\n",
              "  \"hidden_act\": \"gelu\",\n",
              "  \"hidden_dropout_prob\": 0.1,\n",
              "  \"hidden_size\": 768,\n",
              "  \"id2label\": {\n",
              "    \"0\": \"anger\",\n",
              "    \"1\": \"anticipation\",\n",
              "    \"2\": \"disgust\",\n",
              "    \"3\": \"fear\",\n",
              "    \"4\": \"joy\",\n",
              "    \"5\": \"love\",\n",
              "    \"6\": \"optimism\",\n",
              "    \"7\": \"pessimism\",\n",
              "    \"8\": \"sadness\",\n",
              "    \"9\": \"surprise\",\n",
              "    \"10\": \"trust\"\n",
              "  },\n",
              "  \"initializer_range\": 0.02,\n",
              "  \"intermediate_size\": 3072,\n",
              "  \"label2id\": {\n",
              "    \"anger\": 0,\n",
              "    \"anticipation\": 1,\n",
              "    \"disgust\": 2,\n",
              "    \"fear\": 3,\n",
              "    \"joy\": 4,\n",
              "    \"love\": 5,\n",
              "    \"optimism\": 6,\n",
              "    \"pessimism\": 7,\n",
              "    \"sadness\": 8,\n",
              "    \"surprise\": 9,\n",
              "    \"trust\": 10\n",
              "  },\n",
              "  \"layer_norm_eps\": 1e-05,\n",
              "  \"max_position_embeddings\": 514,\n",
              "  \"model_type\": \"roberta\",\n",
              "  \"num_attention_heads\": 12,\n",
              "  \"num_hidden_layers\": 12,\n",
              "  \"pad_token_id\": 1,\n",
              "  \"position_embedding_type\": \"absolute\",\n",
              "  \"transformers_version\": \"4.46.0\",\n",
              "  \"type_vocab_size\": 1,\n",
              "  \"use_cache\": true,\n",
              "  \"vocab_size\": 50265\n",
              "}"
            ]
          },
          "metadata": {},
          "execution_count": 30
        }
      ]
    },
    {
      "cell_type": "markdown",
      "source": [
        "## <font color = 'pickle'>**Creating the compute_metrics function**\n",
        "- Below is an sklearn compute metrics function that serves as an example of what is used to evaluate the model."
      ],
      "metadata": {
        "id": "-sDgWLnA5gkq"
      }
    },
    {
      "cell_type": "code",
      "source": [
        "def compute_metrics_skl(eval_pred):\n",
        "  logits, labels = eval_pred\n",
        "  labels = labels.astype(int) # Ensures the labels are integers\n",
        "\n",
        "  # Converting the logits to binary predictions\n",
        "  predictions = (logits>0).astype(int)\n",
        "\n",
        "  # Computing the f1 score (class imbalance) for macro and micro average\n",
        "  macro_f1 = f1_score(labels,predictions, average = 'macro')\n",
        "  micro_f1 = f1_score(labels, predictions, average = 'micro')\n",
        "\n",
        "  # Compute label-wise accuracies\n",
        "  correct_predictions = (predictions == labels).sum() # which predictions are equal to the actual labels\n",
        "  total_examples = labels.shape[0] # pulling the first index from the shape portion of labels.\n",
        "  label_accuracies = correct_predictions/total_examples # decimal portions for each label\n",
        "\n",
        "  # avg label accuracy\n",
        "  avg_label_accuracy = np.mean(label_accuracies)\n",
        "\n",
        "  # Accuracy where all labels have to be correct to be labeled as a correct prediction\n",
        "  all_accuracy = accuracy_score(labels, predictions, normalize = True) # pulls the floating point value of the proportion of correct predictions\n",
        "\n",
        "  evaluations = {\n",
        "      'macro_f1': macro_f1,\n",
        "      'micro_f1': micro_f1,\n",
        "      'accuracy_all': all_accuracy,\n",
        "      'avg_label_accuracy': avg_label_accuracy\n",
        "\n",
        "  }\n",
        "\n",
        "  return evaluations\n"
      ],
      "metadata": {
        "id": "_VbbxVCj3leG"
      },
      "execution_count": null,
      "outputs": []
    },
    {
      "cell_type": "markdown",
      "source": [
        "<font color = 'pickle'>***Evaluate library compute metrics function that will be used during training that has a similar architecture to the sklearn one above.***"
      ],
      "metadata": {
        "id": "Z3smZeRHCHSZ"
      }
    },
    {
      "cell_type": "code",
      "source": [
        "# loading training metrics from evaluate\n",
        "accuracy = evaluate.load('accuracy', 'multilabel')\n",
        "f1 = evaluate.load('f1', 'multilabel') # pulling multilabel for this specific dataset\n",
        "accuracy_flatten = evaluate.load('accuracy')\n",
        "\n",
        "def compute_metrics(eval_pred):\n",
        "  logits, labels = eval_pred # pulls out the labels and logits\n",
        "  logits_tensor = torch.tensor(logits) # Converting the logits to a tensor\n",
        "  preds = (torch.sigmoid(logits_tensor)> 0.4 ).int().numpy() # if the value is above the 0.4 threshold we predict the class as being present\n",
        "  # flattens the predictions and labels into 1D format so that the calculation can be made\n",
        "  accuracy_label = accuracy_flatten.compute(predictions = preds.flatten(), references = labels.flatten())\n",
        "  # Calculating the predictions vs the references accross entire labels (all predicted labels need to match the reference labels for a doc)\n",
        "  accuracy_all = accuracy.compute(predictions = preds,references = labels)\n",
        "  f1_macro = f1.compute(predictions = preds, references = labels, average = 'macro')\n",
        "  f1_micro = f1.compute(predictions = preds, references = labels, average = 'micro')\n",
        "\n",
        "  return {\n",
        "      'f1_macro':f1_macro['f1'],\n",
        "      'f1_micro': f1_micro['f1'],\n",
        "      'accuracy_label':accuracy_label['accuracy'],\n",
        "      'accuracy_all':accuracy_all['accuracy']}\n",
        "\n"
      ],
      "metadata": {
        "id": "2pYY-qfGBbap"
      },
      "execution_count": null,
      "outputs": []
    },
    {
      "cell_type": "markdown",
      "source": [
        "## <font color = 'pickle'>**Setting up the training arguments**\n"
      ],
      "metadata": {
        "id": "NzmIsKNW8oRA"
      }
    },
    {
      "cell_type": "code",
      "source": [
        "run_name = 'emotion_roberta_exp1'\n",
        "\n",
        "# Training parameters\n",
        "training_args = TrainingArguments(\n",
        "    num_train_epochs = 2,\n",
        "    per_device_train_batch_size = 16,\n",
        "    per_device_eval_batch_size = 16,\n",
        "    weight_decay = 0.01,  # l2 regularization for stability during training\n",
        "    optim = 'adamw_torch',  # Adam optimizer\n",
        "    learning_rate = 0.0005, # lambda value used to make steps/ can use scheduler\n",
        "    # lr_scheduler = ''\n",
        "    output_dir = str(model_folder), # outputs the model checkpoints to the model folder\n",
        "    eval_strategy = 'steps', # evaluate based on steps\n",
        "    eval_steps = 20, # evaluate every 20 steps\n",
        "    save_strategy = 'steps',\n",
        "    save_steps = 20, # save a checkpoint every 20 steps\n",
        "    load_best_model_at_end = True, # self explanatory\n",
        "    save_total_limit =2, # 2 indicates that we only want to see the last and best models at the end.\n",
        "    metric_for_best_model = 'eval_f1_macro',\n",
        "    greater_is_better = True, # better models have higher accuracy/f1 macro\n",
        "\n",
        "\n",
        "    logging_strategy = 'steps', # logging strategy for outputs\n",
        "    logging_steps = 20, # show logs every 20 steps\n",
        "    report_to = 'wandb',\n",
        "    lr_scheduler_type = 'reduce_lr_on_plateau',\n",
        "    run_name = run_name,\n",
        "    warmup_steps = 100\n",
        "\n",
        "\n",
        ")"
      ],
      "metadata": {
        "id": "PpgyGFHE8dbD"
      },
      "execution_count": null,
      "outputs": []
    },
    {
      "cell_type": "markdown",
      "source": [
        "## <font color='pickle'>**Overriding the Hugging Face Trainer**\n",
        "\n",
        "- To ensure the Hugging Face Trainer calculates the loss using my custom class weights, I’m implementing a custom trainer that inherits the necessary arguments from the original Trainer.\n",
        "\n",
        "- First, we extract the labels from the inputs.\n",
        "- Next, we pass the inputs through the model to get the outputs.\n",
        "- From the outputs, we pull out the `logits` (the raw predictions).\n",
        "- We then create a `weights` variable that transfers the class weights to the GPU.\n",
        "- `unsqueeze` adds a new dimension to the class weights, changing their shape to `[1, num_classes]`, and then `expand_as(logits)` expands these weights across the entire batch.\n",
        "  - For instance, since my batch size is 16 samples, and I have 11 classes, the weights will be expanded to `[16, 11]`.\n",
        "  - Each row in this tensor will have the same class weights, ensuring the same weights are applied to each sample in the batch.\n",
        "  \n",
        "- The `BCEWithLogitsLoss` function applies a sigmoid activation internally and calculates the loss for each class.\n",
        "- Finally, I call `labels.float()` to ensure the labels are in the correct float format for proper loss calculation.\n"
      ],
      "metadata": {
        "id": "08lfnDu6yMAs"
      }
    },
    {
      "cell_type": "code",
      "source": [
        "# Custom trainer class to implement my class weights\n",
        "\n",
        "class WeightTrainer(Trainer):\n",
        "  def __init__(self, *args, **kwargs):\n",
        "    super().__init__(*args, **kwargs)\n",
        "\n",
        "  def compute_loss(self, model, inputs, return_outputs = False, num_items_in_batch = None):\n",
        "\n",
        "    # Getting labels\n",
        "    labels = inputs.get('labels')\n",
        "\n",
        "    # Forward pass\n",
        "\n",
        "    outputs = model(**inputs)\n",
        "\n",
        "    logits = outputs.get('logits')\n",
        "\n",
        "    # Broadcasting weights across the batch\n",
        "\n",
        "    if class_weights is not None:\n",
        "      weights = class_weights.to(logits.device).unsqueeze(0).expand_as(logits)\n",
        "    else:\n",
        "      weights = None\n",
        "\n",
        "    # Weighted loss function\n",
        "\n",
        "    loss_fn = nn.BCEWithLogitsLoss(weight = weights)\n",
        "\n",
        "    loss = loss_fn(logits, labels.float())\n",
        "\n",
        "    return (loss, outputs) if return_outputs else loss\n",
        "\n",
        "\n",
        "\n"
      ],
      "metadata": {
        "id": "vBRezlEXyLJf"
      },
      "execution_count": null,
      "outputs": []
    },
    {
      "cell_type": "code",
      "source": [
        "class_weights = class_weights / class_weights.sum()\n",
        "class_weights"
      ],
      "metadata": {
        "colab": {
          "base_uri": "https://localhost:8080/"
        },
        "id": "FgDzkuniz4W8",
        "outputId": "0bd09abb-8961-4d43-98af-97146084fd59"
      },
      "execution_count": null,
      "outputs": [
        {
          "output_type": "execute_result",
          "data": {
            "text/plain": [
              "tensor([0.0320, 0.0841, 0.0314, 0.0691, 0.0321, 0.1076, 0.0396, 0.1041, 0.0400,\n",
              "        0.2337, 0.2263])"
            ]
          },
          "metadata": {},
          "execution_count": 144
        }
      ]
    },
    {
      "cell_type": "markdown",
      "source": [
        "## <font color = 'pickle'>**Initializing the trainer**\n"
      ],
      "metadata": {
        "id": "95ZVdriOAiOk"
      }
    },
    {
      "cell_type": "code",
      "source": [
        "trainer = WeightTrainer(\n",
        "    model = model,\n",
        "    args = training_args,\n",
        "    train_dataset = tokenized_ds['train'],\n",
        "    eval_dataset = tokenized_ds['valid'],\n",
        "    compute_metrics = compute_metrics,\n",
        "    processing_class= tokenizer,\n",
        ")"
      ],
      "metadata": {
        "id": "-HsZijYkAg-1"
      },
      "execution_count": null,
      "outputs": []
    },
    {
      "cell_type": "markdown",
      "source": [
        "## <font color = 'pickle'>**Setting up WandB**"
      ],
      "metadata": {
        "id": "3PxaXIXEFeet"
      }
    },
    {
      "cell_type": "code",
      "source": [
        "%env WANDB_PROJECT = multilabel_ROBERTA"
      ],
      "metadata": {
        "colab": {
          "base_uri": "https://localhost:8080/"
        },
        "id": "BN1fE0P2FTwU",
        "outputId": "4d814167-fbcc-4420-fb2c-6a074392c502"
      },
      "execution_count": null,
      "outputs": [
        {
          "output_type": "stream",
          "name": "stdout",
          "text": [
            "env: WANDB_PROJECT=multilabel_ROBERTA\n"
          ]
        }
      ]
    },
    {
      "cell_type": "code",
      "source": [
        "# start training the model\n",
        "trainer.train(resume_from_checkpoint=None)"
      ],
      "metadata": {
        "colab": {
          "base_uri": "https://localhost:8080/",
          "height": 487
        },
        "id": "VGdhdFMvGM9d",
        "outputId": "653f6066-2643-4fe7-ec50-59207ed5f969"
      },
      "execution_count": null,
      "outputs": [
        {
          "output_type": "display_data",
          "data": {
            "text/plain": [
              "<IPython.core.display.HTML object>"
            ],
            "text/html": [
              "\n",
              "    <div>\n",
              "      \n",
              "      <progress value='250' max='250' style='width:300px; height:20px; vertical-align: middle;'></progress>\n",
              "      [250/250 05:27, Epoch 2/2]\n",
              "    </div>\n",
              "    <table border=\"1\" class=\"dataframe\">\n",
              "  <thead>\n",
              " <tr style=\"text-align: left;\">\n",
              "      <th>Step</th>\n",
              "      <th>Training Loss</th>\n",
              "      <th>Validation Loss</th>\n",
              "      <th>F1 Macro</th>\n",
              "      <th>F1 Micro</th>\n",
              "      <th>Accuracy Label</th>\n",
              "      <th>Accuracy All</th>\n",
              "    </tr>\n",
              "  </thead>\n",
              "  <tbody>\n",
              "    <tr>\n",
              "      <td>20</td>\n",
              "      <td>0.027600</td>\n",
              "      <td>0.032267</td>\n",
              "      <td>0.051948</td>\n",
              "      <td>0.234467</td>\n",
              "      <td>0.762545</td>\n",
              "      <td>0.038000</td>\n",
              "    </tr>\n",
              "    <tr>\n",
              "      <td>40</td>\n",
              "      <td>0.027400</td>\n",
              "      <td>0.032991</td>\n",
              "      <td>0.050161</td>\n",
              "      <td>0.223329</td>\n",
              "      <td>0.759091</td>\n",
              "      <td>0.005000</td>\n",
              "    </tr>\n",
              "    <tr>\n",
              "      <td>60</td>\n",
              "      <td>0.031300</td>\n",
              "      <td>0.033269</td>\n",
              "      <td>0.098093</td>\n",
              "      <td>0.334995</td>\n",
              "      <td>0.733273</td>\n",
              "      <td>0.106000</td>\n",
              "    </tr>\n",
              "    <tr>\n",
              "      <td>80</td>\n",
              "      <td>0.031200</td>\n",
              "      <td>0.032429</td>\n",
              "      <td>0.051948</td>\n",
              "      <td>0.234467</td>\n",
              "      <td>0.762545</td>\n",
              "      <td>0.038000</td>\n",
              "    </tr>\n",
              "    <tr>\n",
              "      <td>100</td>\n",
              "      <td>0.031200</td>\n",
              "      <td>0.032795</td>\n",
              "      <td>0.150041</td>\n",
              "      <td>0.420916</td>\n",
              "      <td>0.715091</td>\n",
              "      <td>0.015000</td>\n",
              "    </tr>\n",
              "    <tr>\n",
              "      <td>120</td>\n",
              "      <td>0.031300</td>\n",
              "      <td>0.032253</td>\n",
              "      <td>0.098093</td>\n",
              "      <td>0.334995</td>\n",
              "      <td>0.733273</td>\n",
              "      <td>0.106000</td>\n",
              "    </tr>\n",
              "    <tr>\n",
              "      <td>140</td>\n",
              "      <td>0.033000</td>\n",
              "      <td>0.032755</td>\n",
              "      <td>0.050161</td>\n",
              "      <td>0.223329</td>\n",
              "      <td>0.759091</td>\n",
              "      <td>0.005000</td>\n",
              "    </tr>\n",
              "    <tr>\n",
              "      <td>160</td>\n",
              "      <td>0.032100</td>\n",
              "      <td>0.032949</td>\n",
              "      <td>0.098093</td>\n",
              "      <td>0.334995</td>\n",
              "      <td>0.733273</td>\n",
              "      <td>0.106000</td>\n",
              "    </tr>\n",
              "    <tr>\n",
              "      <td>180</td>\n",
              "      <td>0.032100</td>\n",
              "      <td>0.032613</td>\n",
              "      <td>0.091169</td>\n",
              "      <td>0.303717</td>\n",
              "      <td>0.720727</td>\n",
              "      <td>0.004000</td>\n",
              "    </tr>\n",
              "    <tr>\n",
              "      <td>200</td>\n",
              "      <td>0.035000</td>\n",
              "      <td>0.033418</td>\n",
              "      <td>0.051948</td>\n",
              "      <td>0.234467</td>\n",
              "      <td>0.762545</td>\n",
              "      <td>0.038000</td>\n",
              "    </tr>\n",
              "    <tr>\n",
              "      <td>220</td>\n",
              "      <td>0.032100</td>\n",
              "      <td>0.032743</td>\n",
              "      <td>0.051948</td>\n",
              "      <td>0.234467</td>\n",
              "      <td>0.762545</td>\n",
              "      <td>0.038000</td>\n",
              "    </tr>\n",
              "    <tr>\n",
              "      <td>240</td>\n",
              "      <td>0.031400</td>\n",
              "      <td>0.032446</td>\n",
              "      <td>0.095185</td>\n",
              "      <td>0.322756</td>\n",
              "      <td>0.728364</td>\n",
              "      <td>0.091000</td>\n",
              "    </tr>\n",
              "  </tbody>\n",
              "</table><p>"
            ]
          },
          "metadata": {}
        },
        {
          "output_type": "execute_result",
          "data": {
            "text/plain": [
              "TrainOutput(global_step=250, training_loss=0.03138916802406311, metrics={'train_runtime': 327.7679, 'train_samples_per_second': 12.204, 'train_steps_per_second': 0.763, 'total_flos': 94628959383168.0, 'train_loss': 0.03138916802406311, 'epoch': 2.0})"
            ]
          },
          "metadata": {},
          "execution_count": 147
        }
      ]
    },
    {
      "cell_type": "code",
      "source": [
        "eval_results = trainer.evaluate(tokenized_ds['valid'], )"
      ],
      "metadata": {
        "colab": {
          "base_uri": "https://localhost:8080/",
          "height": 37
        },
        "id": "2Yt1HWs3GR2D",
        "outputId": "80a0b1a4-9e2f-42db-af3f-aa2603e339dc"
      },
      "execution_count": null,
      "outputs": [
        {
          "output_type": "display_data",
          "data": {
            "text/plain": [
              "<IPython.core.display.HTML object>"
            ],
            "text/html": [
              "\n",
              "    <div>\n",
              "      \n",
              "      <progress value='63' max='63' style='width:300px; height:20px; vertical-align: middle;'></progress>\n",
              "      [63/63 00:02]\n",
              "    </div>\n",
              "    "
            ]
          },
          "metadata": {}
        }
      ]
    },
    {
      "cell_type": "code",
      "source": [
        "eval_results"
      ],
      "metadata": {
        "colab": {
          "base_uri": "https://localhost:8080/"
        },
        "id": "l2G4ejqA67CK",
        "outputId": "1de73539-79df-4c72-ec7e-a0a055521daa"
      },
      "execution_count": null,
      "outputs": [
        {
          "output_type": "execute_result",
          "data": {
            "text/plain": [
              "{'eval_loss': 0.032794781029224396,\n",
              " 'eval_f1_macro': 0.15004078164644616,\n",
              " 'eval_f1_micro': 0.42091648189209163,\n",
              " 'eval_accuracy_label': 0.7150909090909091,\n",
              " 'eval_accuracy_all': 0.015,\n",
              " 'eval_runtime': 3.0165,\n",
              " 'eval_samples_per_second': 331.515,\n",
              " 'eval_steps_per_second': 20.885,\n",
              " 'epoch': 2.0}"
            ]
          },
          "metadata": {},
          "execution_count": 149
        }
      ]
    },
    {
      "cell_type": "markdown",
      "source": [
        "Save the results"
      ],
      "metadata": {
        "id": "2QVncM_H8Nn4"
      }
    },
    {
      "cell_type": "code",
      "source": [
        "wandb.log({'eval_f1_macro':eval_results['eval_f1_macro'], 'eval_loss': eval_results['eval_loss'], 'eval_accuracy':eval_results['eval_accuracy_all']})"
      ],
      "metadata": {
        "id": "BLn_9XKl6-E6"
      },
      "execution_count": null,
      "outputs": []
    },
    {
      "cell_type": "code",
      "source": [
        "valid_output = trainer.predict(tokenized_ds['valid'])"
      ],
      "metadata": {
        "colab": {
          "base_uri": "https://localhost:8080/",
          "height": 17
        },
        "id": "L9BbH-iK7Y_v",
        "outputId": "4d135bc5-9a54-4e33-9599-c2a0eb3eabd2"
      },
      "execution_count": null,
      "outputs": [
        {
          "output_type": "display_data",
          "data": {
            "text/plain": [
              "<IPython.core.display.HTML object>"
            ],
            "text/html": []
          },
          "metadata": {}
        }
      ]
    },
    {
      "cell_type": "code",
      "source": [
        "valid_preds = np.array((valid_output.predictions > 0 ).astype(int))\n",
        "valid_labels = np.array(valid_output.label_ids.astype(int))"
      ],
      "metadata": {
        "id": "QjZvp-447l4W"
      },
      "execution_count": null,
      "outputs": []
    },
    {
      "cell_type": "code",
      "source": [
        "mcm = multilabel_confusion_matrix(valid_labels, valid_preds)\n",
        "print(mcm)"
      ],
      "metadata": {
        "colab": {
          "base_uri": "https://localhost:8080/"
        },
        "id": "qSSqgIMn8J5P",
        "outputId": "2030a1c3-7306-4c1b-fd61-9347763cb07d"
      },
      "execution_count": null,
      "outputs": [
        {
          "output_type": "stream",
          "name": "stdout",
          "text": [
            "[[[  0 642]\n",
            "  [  0 358]]\n",
            "\n",
            " [[851   0]\n",
            "  [149   0]]\n",
            "\n",
            " [[619   0]\n",
            "  [381   0]]\n",
            "\n",
            " [[817   0]\n",
            "  [183   0]]\n",
            "\n",
            " [[600   0]\n",
            "  [400   0]]\n",
            "\n",
            " [[893   0]\n",
            "  [107   0]]\n",
            "\n",
            " [[688   0]\n",
            "  [312   0]]\n",
            "\n",
            " [[873   0]\n",
            "  [127   0]]\n",
            "\n",
            " [[710   0]\n",
            "  [290   0]]\n",
            "\n",
            " [[946   0]\n",
            "  [ 54   0]]\n",
            "\n",
            " [[949   0]\n",
            "  [ 51   0]]]\n"
          ]
        }
      ]
    },
    {
      "cell_type": "code",
      "source": [
        "def multilabel_evaluation(y_true, y_pred, class_names=None, figsize=(12, 8)):\n",
        "    \"\"\"\n",
        "    Generate comprehensive evaluation visualizations for multilabel classification results.\n",
        "\n",
        "    Parameters:\n",
        "    -----------\n",
        "    y_true : array-like\n",
        "        True labels (n_samples, n_classes)\n",
        "    y_pred : array-like\n",
        "        Predicted labels (n_samples, n_classes)\n",
        "    class_names : list, optional\n",
        "        List of class names for better visualization\n",
        "    figsize : tuple, optional\n",
        "        Base figure size for plots (width, height)\n",
        "\n",
        "    Returns:\n",
        "    --------\n",
        "    dict\n",
        "        Dictionary containing the computed metrics for each class\n",
        "    \"\"\"\n",
        "    # Validate inputs\n",
        "    y_true = np.array(y_true)\n",
        "    y_pred = np.array(y_pred)\n",
        "\n",
        "    if y_true.shape != y_pred.shape:\n",
        "        raise ValueError(\"y_true and y_pred must have the same shape\")\n",
        "\n",
        "    # Generate class names if not provided\n",
        "    if class_names is None:\n",
        "        class_names = [f'Class {i}' for i in range(y_true.shape[1])]\n",
        "\n",
        "    # Calculate confusion matrices\n",
        "    mcm = multilabel_confusion_matrix(y_true, y_pred)\n",
        "\n",
        "    # 1. Individual Confusion Matrix Heatmaps\n",
        "    n_classes = len(class_names)\n",
        "    n_cols = min(3, n_classes)\n",
        "    n_rows = (n_classes + n_cols - 1) // n_cols\n",
        "\n",
        "    plt.figure(figsize=(figsize[0], figsize[1] * n_rows/2))\n",
        "    for idx, matrix in enumerate(mcm):\n",
        "        plt.subplot(n_rows, n_cols, idx + 1)\n",
        "        sns.heatmap(matrix, annot=True, fmt='g', cmap='Blues',\n",
        "                    xticklabels=['Pred Neg', 'Pred Pos'],\n",
        "                    yticklabels=['True Neg', 'True Pos'])\n",
        "        plt.title(f'{class_names[idx]}')\n",
        "    plt.tight_layout()\n",
        "    plt.show()\n",
        "\n",
        "    # 2. Calculate and plot aggregate metrics\n",
        "    metrics = {\n",
        "        'Precision': precision_score(y_true, y_pred, average=None),\n",
        "        'Recall': recall_score(y_true, y_pred, average=None),\n",
        "        'F1-Score': f1_score(y_true, y_pred, average=None)\n",
        "    }\n",
        "\n",
        "    metrics_df = pd.DataFrame(metrics, index=class_names)\n",
        "\n",
        "    # Metrics Heatmap\n",
        "    plt.figure(figsize=(figsize[0]/1.5, figsize[1]/1.5))\n",
        "    sns.heatmap(metrics_df, annot=True, fmt='.3f', cmap='Blues')\n",
        "    plt.title('Performance Metrics by Class')\n",
        "    plt.tight_layout()\n",
        "    plt.show()\n",
        "\n",
        "    # 3. Metrics Histogram\n",
        "    plt.figure(figsize=(figsize[0], figsize[1]/1.5))\n",
        "    metrics_df.plot(kind='bar', width=0.8)\n",
        "    plt.xlabel('Classes')\n",
        "    plt.ylabel('Score')\n",
        "    plt.title('Precision, Recall, and F1-Score by Class')\n",
        "    plt.legend(bbox_to_anchor=(1.05, 1), loc='upper left')\n",
        "    plt.tight_layout()\n",
        "    plt.show()\n",
        "\n",
        "    # 4. Calculate and return summary statistics\n",
        "    summary_stats = {\n",
        "        'macro_avg': {\n",
        "            'precision': np.mean(metrics['Precision']),\n",
        "            'recall': np.mean(metrics['Recall']),\n",
        "            'f1': np.mean(metrics['F1-Score'])\n",
        "        },\n",
        "        'per_class': metrics_df.to_dict()\n",
        "    }\n",
        "\n",
        "    return summary_stats\n"
      ],
      "metadata": {
        "id": "Pq7IKJaZ9QG7"
      },
      "execution_count": null,
      "outputs": []
    },
    {
      "cell_type": "code",
      "source": [
        "multilabel_evaluation(y_true=valid_labels, y_pred=valid_preds, class_names=class_names, figsize=(12, 8))"
      ],
      "metadata": {
        "colab": {
          "base_uri": "https://localhost:8080/",
          "height": 1000
        },
        "id": "1u-KgXkGBuhY",
        "outputId": "81e89029-6122-4a75-aa4d-39dd8b263b5a"
      },
      "execution_count": null,
      "outputs": [
        {
          "output_type": "display_data",
          "data": {
            "text/plain": [
              "<Figure size 1200x1600 with 22 Axes>"
            ],
            "image/png": "[encoded data removed]"
          },
          "metadata": {}
        },
        {
          "output_type": "stream",
          "name": "stderr",
          "text": [
            "/usr/local/lib/python3.10/dist-packages/sklearn/metrics/_classification.py:1531: UndefinedMetricWarning: Precision is ill-defined and being set to 0.0 in labels with no predicted samples. Use `zero_division` parameter to control this behavior.\n",
            "  _warn_prf(average, modifier, f\"{metric.capitalize()} is\", len(result))\n"
          ]
        },
        {
          "output_type": "display_data",
          "data": {
            "text/plain": [
              "<Figure size 800x533.333 with 2 Axes>"
            ],
            "image/png": "[encoded data removed]"
          },
          "metadata": {}
        },
        {
          "output_type": "display_data",
          "data": {
            "text/plain": [
              "<Figure size 1200x533.333 with 0 Axes>"
            ]
          },
          "metadata": {}
        },
        {
          "output_type": "display_data",
          "data": {
            "text/plain": [
              "<Figure size 640x480 with 1 Axes>"
            ],
            "image/png": "[encoded data removed]"
          },
          "metadata": {}
        },
        {
          "output_type": "execute_result",
          "data": {
            "text/plain": [
              "{'macro_avg': {'precision': 0.032545454545454544,\n",
              "  'recall': 0.09090909090909091,\n",
              "  'f1': 0.04793144999330567},\n",
              " 'per_class': {'Precision': {'anger': 0.358,\n",
              "   'anticipation': 0.0,\n",
              "   'disgust': 0.0,\n",
              "   'fear': 0.0,\n",
              "   'joy': 0.0,\n",
              "   'love': 0.0,\n",
              "   'optimism': 0.0,\n",
              "   'pessimism': 0.0,\n",
              "   'sadness': 0.0,\n",
              "   'surprise': 0.0,\n",
              "   'trust': 0.0},\n",
              "  'Recall': {'anger': 1.0,\n",
              "   'anticipation': 0.0,\n",
              "   'disgust': 0.0,\n",
              "   'fear': 0.0,\n",
              "   'joy': 0.0,\n",
              "   'love': 0.0,\n",
              "   'optimism': 0.0,\n",
              "   'pessimism': 0.0,\n",
              "   'sadness': 0.0,\n",
              "   'surprise': 0.0,\n",
              "   'trust': 0.0},\n",
              "  'F1-Score': {'anger': 0.5272459499263623,\n",
              "   'anticipation': 0.0,\n",
              "   'disgust': 0.0,\n",
              "   'fear': 0.0,\n",
              "   'joy': 0.0,\n",
              "   'love': 0.0,\n",
              "   'optimism': 0.0,\n",
              "   'pessimism': 0.0,\n",
              "   'sadness': 0.0,\n",
              "   'surprise': 0.0,\n",
              "   'trust': 0.0}}}"
            ]
          },
          "metadata": {},
          "execution_count": 155
        }
      ]
    },
    {
      "cell_type": "code",
      "source": [
        "# After training, let us check the best checkpoint\n",
        "# We need this for Inference\n",
        "best_model_checkpoint_step = trainer.state.best_model_checkpoint.split('-')[-1]\n",
        "print(f\"The best model was saved at step {best_model_checkpoint_step}.\")\n"
      ],
      "metadata": {
        "colab": {
          "base_uri": "https://localhost:8080/"
        },
        "id": "fZ3uIu_8Bxv-",
        "outputId": "81952c8e-6667-4fc9-dda4-cf3e86d555e4"
      },
      "execution_count": null,
      "outputs": [
        {
          "output_type": "stream",
          "name": "stdout",
          "text": [
            "The best model was saved at step 100.\n"
          ]
        }
      ]
    },
    {
      "cell_type": "code",
      "source": [
        "checkpoint = str(model_folder/f'checkpoint-{best_model_checkpoint_step}')\n",
        "custom_pipeline = pipeline(\n",
        "    task=\"text-classification\",\n",
        "    model=checkpoint,\n",
        "    tokenizer=checkpoint,\n",
        "    device=0,\n",
        "    return_all_scores=True)"
      ],
      "metadata": {
        "colab": {
          "base_uri": "https://localhost:8080/"
        },
        "id": "Jz9d8X7SCMjI",
        "outputId": "981a9a23-ec2c-463c-a3b9-14bcfdf4988c"
      },
      "execution_count": null,
      "outputs": [
        {
          "output_type": "stream",
          "name": "stderr",
          "text": [
            "/usr/local/lib/python3.10/dist-packages/transformers/pipelines/text_classification.py:106: UserWarning: `return_all_scores` is now deprecated,  if want a similar functionality use `top_k=None` instead of `return_all_scores=True` or `top_k=1` instead of `return_all_scores=False`.\n",
            "  warnings.warn(\n"
          ]
        }
      ]
    },
    {
      "cell_type": "code",
      "source": [
        "sample = test_df['text'][0]\n",
        "preds = custom_pipeline(sample)\n",
        "preds"
      ],
      "metadata": {
        "colab": {
          "base_uri": "https://localhost:8080/"
        },
        "id": "NQ2TCF-mCWIl",
        "outputId": "091fa229-1297-432b-c2fb-ee05fec13436"
      },
      "execution_count": null,
      "outputs": [
        {
          "output_type": "execute_result",
          "data": {
            "text/plain": [
              "[[{'label': 'anger', 'score': 0.5063275694847107},\n",
              "  {'label': 'anticipation', 'score': 0.12258714437484741},\n",
              "  {'label': 'disgust', 'score': 0.4798482358455658},\n",
              "  {'label': 'fear', 'score': 0.10702770203351974},\n",
              "  {'label': 'joy', 'score': 0.4726220667362213},\n",
              "  {'label': 'love', 'score': 0.14656716585159302},\n",
              "  {'label': 'optimism', 'score': 0.3029026985168457},\n",
              "  {'label': 'pessimism', 'score': 0.07019499689340591},\n",
              "  {'label': 'sadness', 'score': 0.2425861358642578},\n",
              "  {'label': 'surprise', 'score': 0.029701467603445053},\n",
              "  {'label': 'trust', 'score': 0.05737617611885071}]]"
            ]
          },
          "metadata": {},
          "execution_count": 203
        }
      ]
    },
    {
      "cell_type": "code",
      "source": [
        "def get_labels(pipeline_output, threshold = 0.4):\n",
        "\n",
        "  positive_labels = []\n",
        "\n",
        "  for pred_set in pipeline_output:\n",
        "\n",
        "    # getting the labels where the score is at or above the threshold\n",
        "    sample_positives = [pred['label'] for pred in pred_set if pred['score']>=threshold]\n",
        "\n",
        "    positive_labels.append(sample_positives)\n",
        "\n",
        "  return positive_labels"
      ],
      "metadata": {
        "id": "cUw0civNCXYy"
      },
      "execution_count": null,
      "outputs": []
    },
    {
      "cell_type": "code",
      "source": [
        "results = get_labels(preds, threshold = 0.4)\n",
        "results"
      ],
      "metadata": {
        "colab": {
          "base_uri": "https://localhost:8080/"
        },
        "id": "dK_JXoceCdO9",
        "outputId": "2d1709dd-cc97-465e-dcc9-4d41005c1bae"
      },
      "execution_count": null,
      "outputs": [
        {
          "output_type": "execute_result",
          "data": {
            "text/plain": [
              "[['anger', 'disgust', 'joy']]"
            ]
          },
          "metadata": {},
          "execution_count": 205
        }
      ]
    },
    {
      "cell_type": "markdown",
      "source": [
        "## <font color = 'pickle'>**Final Inferencing**\n",
        "\n",
        "- To make my final predictions and upload for Kaggle I am going to write a function that takes some prior logic I used in my last notebook to append the labels for each id.\n",
        "- I will then export a csv to submit to the Kaggle Competition\n",
        "- After that step I will be writing a report to represent some challenges I  had while working with this extremely imbalanced dataset even when using the RoBERTa model.\n"
      ],
      "metadata": {
        "id": "JWQVojjYSzDt"
      }
    },
    {
      "cell_type": "code",
      "source": [
        "def get_predictions_from_pipeline(pipeline_output, model, df_test_ids, threshold = 0.4):\n",
        "  \"\"\"\n",
        "  This function will process the pipeline output, apply the threshold and get predictions for the test dataset\n",
        "  and generate a final DataFrame containing the test ID's and predicted labels.\n",
        "\n",
        "  Parameters:\n",
        "  - pipeline_output: The output from the custom pipeline (containing the scores)\n",
        "  - model: The model used for generating the pipeline output (to get the id2labels)\n",
        "  - df_test_ids: A dataframe containing the test ID's\n",
        "  - threshold: The prediction threshold for making a prediction (default is 0.4)\n",
        "\n",
        "  Returns:\n",
        "  - df_pred_final: A pandas dataframe with the test ID's and their corresponding label predictions in binary format\n",
        "  - positive_labels_list: a list of positive labels for each instance to compare results.\n",
        "  \"\"\"\n",
        "\n",
        "  # 1. Prepare lists for appending results\n",
        "  positive_labels_list = []\n",
        "  binary_predictions = []\n",
        "\n",
        "  # 2. Process the lists to store the binary preditions and positive labels\n",
        "\n",
        "  for pred_set in pipeline_output:\n",
        "    # Getting the positive labels where the score is at or above the threshold\n",
        "    sample_positives = [pred['label'] for pred in pred_set if pred['score']>= threshold]\n",
        "    positive_labels_list.append(sample_positives)\n",
        "\n",
        "    # Getting the binary predictions ( 1 if >= threshold, else 0)\n",
        "    binary_preds = [1 if pred['score'] >= threshold else 0 for pred in pred_set]\n",
        "    binary_predictions.append(binary_preds)\n",
        "\n",
        "  # 3. Convert the binary predictions to a dataframe\n",
        "  # Map the model config labels\n",
        "  class_labels = [model.config.id2label[i] for i in range(len(model.config.id2label))]\n",
        "\n",
        "  df_predictions = pd.DataFrame(binary_predictions, columns = class_labels)\n",
        "\n",
        "  df_pred_final = pd.concat([df_test_ids.reset_index(drop = True), df_predictions], axis = 1 )\n",
        "\n",
        "\n",
        "  return df_pred_final, positive_labels_list\n",
        "\n"
      ],
      "metadata": {
        "id": "C9IdyvspRJWu"
      },
      "execution_count": null,
      "outputs": []
    },
    {
      "cell_type": "code",
      "source": [
        "df_test_ids = joblib.load(data_folder/'test_ids.pkl')\n",
        "df_test_ids.head()"
      ],
      "metadata": {
        "colab": {
          "base_uri": "https://localhost:8080/",
          "height": 241
        },
        "id": "GXLtnAlnX6E6",
        "outputId": "04f350f7-84aa-43cd-b35e-a98ff2c8a701"
      },
      "execution_count": null,
      "outputs": [
        {
          "output_type": "execute_result",
          "data": {
            "text/plain": [
              "0    2018-01559\n",
              "1    2018-03739\n",
              "2    2018-00385\n",
              "3    2018-03001\n",
              "4    2018-01988\n",
              "Name: ID, dtype: object"
            ],
            "text/html": [
              "<div>\n",
              "<style scoped>\n",
              "    .dataframe tbody tr th:only-of-type {\n",
              "        vertical-align: middle;\n",
              "    }\n",
              "\n",
              "    .dataframe tbody tr th {\n",
              "        vertical-align: top;\n",
              "    }\n",
              "\n",
              "    .dataframe thead th {\n",
              "        text-align: right;\n",
              "    }\n",
              "</style>\n",
              "<table border=\"1\" class=\"dataframe\">\n",
              "  <thead>\n",
              "    <tr style=\"text-align: right;\">\n",
              "      <th></th>\n",
              "      <th>ID</th>\n",
              "    </tr>\n",
              "  </thead>\n",
              "  <tbody>\n",
              "    <tr>\n",
              "      <th>0</th>\n",
              "      <td>2018-01559</td>\n",
              "    </tr>\n",
              "    <tr>\n",
              "      <th>1</th>\n",
              "      <td>2018-03739</td>\n",
              "    </tr>\n",
              "    <tr>\n",
              "      <th>2</th>\n",
              "      <td>2018-00385</td>\n",
              "    </tr>\n",
              "    <tr>\n",
              "      <th>3</th>\n",
              "      <td>2018-03001</td>\n",
              "    </tr>\n",
              "    <tr>\n",
              "      <th>4</th>\n",
              "      <td>2018-01988</td>\n",
              "    </tr>\n",
              "  </tbody>\n",
              "</table>\n",
              "</div><br><label><b>dtype:</b> object</label>"
            ]
          },
          "metadata": {},
          "execution_count": 207
        }
      ]
    },
    {
      "cell_type": "markdown",
      "source": [
        "<font color = 'pickle'>**Here I am prepping the test_df to make predictions**"
      ],
      "metadata": {
        "id": "wAhU3n-zg4FT"
      }
    },
    {
      "cell_type": "code",
      "source": [
        "test_ds = test_df.drop(columns = {'label'})"
      ],
      "metadata": {
        "id": "Hb54RapKZdgv"
      },
      "execution_count": null,
      "outputs": []
    },
    {
      "cell_type": "code",
      "source": [
        "test_ds = Dataset.from_pandas(test_ds)"
      ],
      "metadata": {
        "id": "h7DyEq3uZ7rF"
      },
      "execution_count": null,
      "outputs": []
    },
    {
      "cell_type": "markdown",
      "source": [
        "<font color = 'pickle'>**Three Sequences to test output from the pipeline**\n"
      ],
      "metadata": {
        "id": "NMslZxrdhKWE"
      }
    },
    {
      "cell_type": "code",
      "source": [
        "test_ds['text'][0:3]"
      ],
      "metadata": {
        "colab": {
          "base_uri": "https://localhost:8080/"
        },
        "id": "7QKdVczZb-AD",
        "outputId": "c277af10-c172-4f32-bc72-e1f3a6ac3c52"
      },
      "execution_count": null,
      "outputs": [
        {
          "output_type": "execute_result",
          "data": {
            "text/plain": [
              "['@Adnan__786__ @AsYouNotWish Dont worry Indian army is on its ways to dispatch all Terrorists to Hell',\n",
              " 'Academy of Sciences, eschews the normally sober tone of scientific papers and calls the massive loss of wildlife a “biological annihilation',\n",
              " 'I blew that opportunity -__- #mad']"
            ]
          },
          "metadata": {},
          "execution_count": 210
        }
      ]
    },
    {
      "cell_type": "code",
      "source": [
        "pipeline_output = custom_pipeline(test_ds['text'][:])"
      ],
      "metadata": {
        "id": "X1A94T-zYH_h"
      },
      "execution_count": null,
      "outputs": []
    },
    {
      "cell_type": "code",
      "source": [
        "model = AutoModelForSequenceClassification.from_pretrained(checkpoint)\n",
        "tokenizer = AutoTokenizer.from_pretrained(checkpoint)"
      ],
      "metadata": {
        "id": "WiugNIX9jpap"
      },
      "execution_count": null,
      "outputs": []
    },
    {
      "cell_type": "code",
      "source": [
        "# Making predictions and getting the dataset for submission\n",
        "df_pred_final, positive_label_list = get_predictions_from_pipeline(pipeline_output,\n",
        "                                                                   model = model,\n",
        "                                                                   df_test_ids = df_test_ids,\n",
        "                                                                   threshold = 0.4)"
      ],
      "metadata": {
        "id": "KWivN13JigBk"
      },
      "execution_count": null,
      "outputs": []
    },
    {
      "cell_type": "code",
      "source": [
        "df_pred_final = df_pred_final.set_index('ID')"
      ],
      "metadata": {
        "id": "KmnpGugkj8gA"
      },
      "execution_count": null,
      "outputs": []
    },
    {
      "cell_type": "code",
      "source": [
        "df_pred_final.sum()"
      ],
      "metadata": {
        "colab": {
          "base_uri": "https://localhost:8080/",
          "height": 460
        },
        "id": "_SQzcJOzkFOE",
        "outputId": "45ad86c9-d1cf-4ef0-e581-76cc450b22d1"
      },
      "execution_count": null,
      "outputs": [
        {
          "output_type": "execute_result",
          "data": {
            "text/plain": [
              "ID              2018-015592018-037392018-003852018-030012018-0...\n",
              "anger                                                        3259\n",
              "anticipation                                                    0\n",
              "disgust                                                      3259\n",
              "fear                                                            0\n",
              "joy                                                          3259\n",
              "love                                                            0\n",
              "optimism                                                        0\n",
              "pessimism                                                       0\n",
              "sadness                                                         0\n",
              "surprise                                                        0\n",
              "trust                                                           0\n",
              "dtype: object"
            ],
            "text/html": [
              "<div>\n",
              "<style scoped>\n",
              "    .dataframe tbody tr th:only-of-type {\n",
              "        vertical-align: middle;\n",
              "    }\n",
              "\n",
              "    .dataframe tbody tr th {\n",
              "        vertical-align: top;\n",
              "    }\n",
              "\n",
              "    .dataframe thead th {\n",
              "        text-align: right;\n",
              "    }\n",
              "</style>\n",
              "<table border=\"1\" class=\"dataframe\">\n",
              "  <thead>\n",
              "    <tr style=\"text-align: right;\">\n",
              "      <th></th>\n",
              "      <th>0</th>\n",
              "    </tr>\n",
              "  </thead>\n",
              "  <tbody>\n",
              "    <tr>\n",
              "      <th>ID</th>\n",
              "      <td>2018-015592018-037392018-003852018-030012018-0...</td>\n",
              "    </tr>\n",
              "    <tr>\n",
              "      <th>anger</th>\n",
              "      <td>3259</td>\n",
              "    </tr>\n",
              "    <tr>\n",
              "      <th>anticipation</th>\n",
              "      <td>0</td>\n",
              "    </tr>\n",
              "    <tr>\n",
              "      <th>disgust</th>\n",
              "      <td>3259</td>\n",
              "    </tr>\n",
              "    <tr>\n",
              "      <th>fear</th>\n",
              "      <td>0</td>\n",
              "    </tr>\n",
              "    <tr>\n",
              "      <th>joy</th>\n",
              "      <td>3259</td>\n",
              "    </tr>\n",
              "    <tr>\n",
              "      <th>love</th>\n",
              "      <td>0</td>\n",
              "    </tr>\n",
              "    <tr>\n",
              "      <th>optimism</th>\n",
              "      <td>0</td>\n",
              "    </tr>\n",
              "    <tr>\n",
              "      <th>pessimism</th>\n",
              "      <td>0</td>\n",
              "    </tr>\n",
              "    <tr>\n",
              "      <th>sadness</th>\n",
              "      <td>0</td>\n",
              "    </tr>\n",
              "    <tr>\n",
              "      <th>surprise</th>\n",
              "      <td>0</td>\n",
              "    </tr>\n",
              "    <tr>\n",
              "      <th>trust</th>\n",
              "      <td>0</td>\n",
              "    </tr>\n",
              "  </tbody>\n",
              "</table>\n",
              "</div><br><label><b>dtype:</b> object</label>"
            ]
          },
          "metadata": {},
          "execution_count": 216
        }
      ]
    },
    {
      "cell_type": "code",
      "source": [
        "df_pred_final.shape"
      ],
      "metadata": {
        "colab": {
          "base_uri": "https://localhost:8080/"
        },
        "id": "mpv9KtMpk3se",
        "outputId": "e4df55c4-1d07-40d1-c853-44563eac5686"
      },
      "execution_count": null,
      "outputs": [
        {
          "output_type": "execute_result",
          "data": {
            "text/plain": [
              "(3259, 11)"
            ]
          },
          "metadata": {},
          "execution_count": 222
        }
      ]
    },
    {
      "cell_type": "code",
      "source": [
        "df_pred_final.to_csv(base_folder/'final_predictions_roberta.csv')"
      ],
      "metadata": {
        "id": "_7P0xRf0kJ6V"
      },
      "execution_count": null,
      "outputs": []
    },
    {
      "cell_type": "markdown",
      "source": [
        "# <font color = 'indianred'>**Debugging**\n",
        "\n",
        "<font color = 'pickle'>**Here I noticed that the scores output by the model were the same for each sequence**\n",
        "\n",
        "- Based on this I decided to try using the model against two very different sequences to see if it was doing it for every sequence."
      ],
      "metadata": {
        "id": "3TkN56bxhXsP"
      }
    },
    {
      "cell_type": "code",
      "source": [
        "result = pipeline_output[0:3]\n",
        "result"
      ],
      "metadata": {
        "colab": {
          "base_uri": "https://localhost:8080/"
        },
        "id": "fbkumOWHYss-",
        "outputId": "84d6ce7e-b83e-4148-b287-b5eaaa0596a4"
      },
      "execution_count": null,
      "outputs": [
        {
          "output_type": "execute_result",
          "data": {
            "text/plain": [
              "[[{'label': 'anger', 'score': 0.5063275694847107},\n",
              "  {'label': 'anticipation', 'score': 0.12258714437484741},\n",
              "  {'label': 'disgust', 'score': 0.4798482358455658},\n",
              "  {'label': 'fear', 'score': 0.10702770203351974},\n",
              "  {'label': 'joy', 'score': 0.4726220667362213},\n",
              "  {'label': 'love', 'score': 0.14656716585159302},\n",
              "  {'label': 'optimism', 'score': 0.3029026985168457},\n",
              "  {'label': 'pessimism', 'score': 0.07019499689340591},\n",
              "  {'label': 'sadness', 'score': 0.2425861358642578},\n",
              "  {'label': 'surprise', 'score': 0.029701467603445053},\n",
              "  {'label': 'trust', 'score': 0.05737617611885071}],\n",
              " [{'label': 'anger', 'score': 0.5063275694847107},\n",
              "  {'label': 'anticipation', 'score': 0.12258714437484741},\n",
              "  {'label': 'disgust', 'score': 0.4798482358455658},\n",
              "  {'label': 'fear', 'score': 0.10702770203351974},\n",
              "  {'label': 'joy', 'score': 0.4726220667362213},\n",
              "  {'label': 'love', 'score': 0.14656716585159302},\n",
              "  {'label': 'optimism', 'score': 0.3029026985168457},\n",
              "  {'label': 'pessimism', 'score': 0.07019499689340591},\n",
              "  {'label': 'sadness', 'score': 0.2425861358642578},\n",
              "  {'label': 'surprise', 'score': 0.029701467603445053},\n",
              "  {'label': 'trust', 'score': 0.05737617611885071}],\n",
              " [{'label': 'anger', 'score': 0.5063275694847107},\n",
              "  {'label': 'anticipation', 'score': 0.12258714437484741},\n",
              "  {'label': 'disgust', 'score': 0.4798482358455658},\n",
              "  {'label': 'fear', 'score': 0.10702770203351974},\n",
              "  {'label': 'joy', 'score': 0.4726220667362213},\n",
              "  {'label': 'love', 'score': 0.14656716585159302},\n",
              "  {'label': 'optimism', 'score': 0.3029026985168457},\n",
              "  {'label': 'pessimism', 'score': 0.07019499689340591},\n",
              "  {'label': 'sadness', 'score': 0.2425861358642578},\n",
              "  {'label': 'surprise', 'score': 0.029701467603445053},\n",
              "  {'label': 'trust', 'score': 0.05737617611885071}]]"
            ]
          },
          "metadata": {},
          "execution_count": 195
        }
      ]
    },
    {
      "cell_type": "markdown",
      "source": [
        "<font color = 'pickle'>**Here I tried to use padding and tensors to make the predictions and see if that made a difference in the scoring**"
      ],
      "metadata": {
        "id": "lc9_3vlyhrxn"
      }
    },
    {
      "cell_type": "code",
      "source": [
        "# Check if the model is on the GPU\n",
        "device = torch.device(\"cuda\" if torch.cuda.is_available() else \"cpu\")\n",
        "\n",
        "# Manually tokenize the first few text samples with padding and truncation\n",
        "inputs = custom_pipeline.tokenizer(test_ds['text'][0:3],\n",
        "                                   padding=True,  # Add padding to ensure all sequences have the same length\n",
        "                                   truncation=True,  # Truncate sequences that are too long\n",
        "                                   return_tensors=\"pt\")  # Return PyTorch tensors\n",
        "\n",
        "# Move inputs to the same device as the model\n",
        "inputs = {k: v.to(device) for k, v in inputs.items()}\n",
        "\n",
        "# Print the input IDs to check the tokenization with padding\n",
        "print(inputs['input_ids'])\n",
        "\n",
        "# Run the tokenized inputs through the model\n",
        "with torch.no_grad():\n",
        "    outputs = custom_pipeline.model(**inputs)\n",
        "\n",
        "# Convert logits to probabilities using sigmoid (for multilabel classification)\n",
        "probabilities = torch.sigmoid(outputs.logits)\n",
        "\n",
        "# Print the probabilities for each class\n",
        "print(probabilities)\n"
      ],
      "metadata": {
        "colab": {
          "base_uri": "https://localhost:8080/"
        },
        "id": "LWExi5xGe360",
        "outputId": "77988be6-8021-4a49-a76d-1278069bef42"
      },
      "execution_count": null,
      "outputs": [
        {
          "output_type": "stream",
          "name": "stdout",
          "text": [
            "tensor([[    0,  1039,  9167, 10197, 30529, 38925, 30529,   787,  1620,  1185,\n",
            "          7199,   771,  1173,   211,  2533,  4022,  1362,  3835,    16,    15,\n",
            "            63,  1319,     7, 22903,    70, 23877,  1952,     7, 11141,     2],\n",
            "        [    0, 26145,   625, 27171,     9,  8841,     6, 33404, 12240,     5,\n",
            "          6329, 17333,  6328,     9,  6441,  6665,     8,  1519,     5,  2232,\n",
            "           872,     9,  7892,    10,    44,    48,  5605,  9779, 43029,     2],\n",
            "        [    0,   100, 10879,    14,   945,   111, 30529,    12,   849, 17497,\n",
            "             2,     1,     1,     1,     1,     1,     1,     1,     1,     1,\n",
            "             1,     1,     1,     1,     1,     1,     1,     1,     1,     1]],\n",
            "       device='cuda:0')\n",
            "tensor([[0.5063, 0.1226, 0.4798, 0.1070, 0.4726, 0.1466, 0.3029, 0.0702, 0.2426,\n",
            "         0.0297, 0.0574],\n",
            "        [0.5063, 0.1226, 0.4798, 0.1070, 0.4726, 0.1466, 0.3029, 0.0702, 0.2426,\n",
            "         0.0297, 0.0574],\n",
            "        [0.5063, 0.1226, 0.4798, 0.1070, 0.4726, 0.1466, 0.3029, 0.0702, 0.2426,\n",
            "         0.0297, 0.0574]], device='cuda:0')\n"
          ]
        }
      ]
    },
    {
      "cell_type": "markdown",
      "source": [
        "<font color = 'pickle'>**Again the same scores were calculated**"
      ],
      "metadata": {
        "id": "PssOT7djh1tX"
      }
    },
    {
      "cell_type": "code",
      "source": [
        "# Example of testing with very different inputs\n",
        "new_texts = [\"This is a very different sentence.\", \"Another completely different sentence about technology.\"]\n",
        "new_inputs = custom_pipeline.tokenizer(new_texts, padding=True, truncation=True, return_tensors=\"pt\").to(device)\n",
        "\n",
        "# Run through the model\n",
        "with torch.no_grad():\n",
        "    outputs = custom_pipeline.model(**new_inputs)\n",
        "    probabilities = torch.sigmoid(outputs.logits)\n",
        "\n",
        "print(probabilities)"
      ],
      "metadata": {
        "colab": {
          "base_uri": "https://localhost:8080/"
        },
        "id": "ZJbM1Ghefj3B",
        "outputId": "5cceb3b8-4193-4de9-bc5a-08094f240775"
      },
      "execution_count": null,
      "outputs": [
        {
          "output_type": "stream",
          "name": "stdout",
          "text": [
            "tensor([[0.5063, 0.1226, 0.4798, 0.1070, 0.4726, 0.1466, 0.3029, 0.0702, 0.2426,\n",
            "         0.0297, 0.0574],\n",
            "        [0.5063, 0.1226, 0.4798, 0.1070, 0.4726, 0.1466, 0.3029, 0.0702, 0.2426,\n",
            "         0.0297, 0.0574]], device='cuda:0')\n"
          ]
        }
      ]
    },
    {
      "cell_type": "code",
      "source": [],
      "metadata": {
        "id": "9jtuOf0Zam0F"
      },
      "execution_count": null,
      "outputs": []
    }
  ]
}